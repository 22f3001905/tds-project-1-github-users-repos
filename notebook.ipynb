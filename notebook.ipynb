{
 "cells": [
  {
   "cell_type": "code",
   "execution_count": 1,
   "metadata": {},
   "outputs": [
    {
     "data": {
      "text/plain": [
       "True"
      ]
     },
     "execution_count": 1,
     "metadata": {},
     "output_type": "execute_result"
    }
   ],
   "source": [
    "import os\n",
    "import time\n",
    "import requests\n",
    "import requests_cache\n",
    "\n",
    "import numpy as np\n",
    "import pandas as pd\n",
    "from scipy.stats import linregress\n",
    "\n",
    "import matplotlib.pyplot as plt\n",
    "import seaborn as sns\n",
    "\n",
    "from dotenv import load_dotenv\n",
    "load_dotenv()"
   ]
  },
  {
   "cell_type": "markdown",
   "metadata": {},
   "source": [
    "## GitHub User Data Scraping"
   ]
  },
  {
   "cell_type": "markdown",
   "metadata": {},
   "source": [
    "### Testing GH Search API"
   ]
  },
  {
   "cell_type": "code",
   "execution_count": 2,
   "metadata": {},
   "outputs": [
    {
     "name": "stdout",
     "output_type": "stream",
     "text": [
      "URL: https://api.github.com/search/users?q=followers%3A%3E100+location%3AToronto&per_page=100&page=1\n",
      "# users: 100\n"
     ]
    }
   ],
   "source": [
    "url = \"https://api.github.com/search/users\"\n",
    "\n",
    "params = {\n",
    "    'q': 'followers:>100 location:Toronto',  # Uses a query string (GraphQL).\n",
    "    'per_page': 100,\n",
    "    'page': 1\n",
    "}\n",
    "# Authenticated Users: 5,000 requests per hour.\n",
    "access_token = os.getenv('GITHUB_TOKEN')\n",
    "headers = {'Authorization': f'token {access_token}'}\n",
    "\n",
    "response = requests.get(url, params=params, headers=headers)\n",
    "print('URL:', response.url)\n",
    "\n",
    "if response.status_code == 200:\n",
    "    data = response.json()\n",
    "    print('# users:', len(data['items']))\n",
    "else:\n",
    "    print(f\"Failed to fetch data. Status code: {response.status_code}\")"
   ]
  },
  {
   "cell_type": "code",
   "execution_count": 3,
   "metadata": {},
   "outputs": [
    {
     "data": {
      "text/plain": [
       "{'next': {'url': 'https://api.github.com/search/users?q=followers%3A%3E100+location%3AToronto&per_page=100&page=2',\n",
       "  'rel': 'next'},\n",
       " 'last': {'url': 'https://api.github.com/search/users?q=followers%3A%3E100+location%3AToronto&per_page=100&page=7',\n",
       "  'rel': 'last'}}"
      ]
     },
     "execution_count": 3,
     "metadata": {},
     "output_type": "execute_result"
    }
   ],
   "source": [
    "response.links  # feature of requests library"
   ]
  },
  {
   "cell_type": "code",
   "execution_count": 4,
   "metadata": {},
   "outputs": [
    {
     "data": {
      "text/plain": [
       "dict_keys(['total_count', 'incomplete_results', 'items'])"
      ]
     },
     "execution_count": 4,
     "metadata": {},
     "output_type": "execute_result"
    }
   ],
   "source": [
    "data.keys()"
   ]
  },
  {
   "cell_type": "code",
   "execution_count": 5,
   "metadata": {},
   "outputs": [
    {
     "data": {
      "text/plain": [
       "{'login': 'aneagoie',\n",
       " 'id': 10776230,\n",
       " 'node_id': 'MDQ6VXNlcjEwNzc2MjMw',\n",
       " 'avatar_url': 'https://avatars.githubusercontent.com/u/10776230?v=4',\n",
       " 'gravatar_id': '',\n",
       " 'url': 'https://api.github.com/users/aneagoie',\n",
       " 'html_url': 'https://github.com/aneagoie',\n",
       " 'followers_url': 'https://api.github.com/users/aneagoie/followers',\n",
       " 'following_url': 'https://api.github.com/users/aneagoie/following{/other_user}',\n",
       " 'gists_url': 'https://api.github.com/users/aneagoie/gists{/gist_id}',\n",
       " 'starred_url': 'https://api.github.com/users/aneagoie/starred{/owner}{/repo}',\n",
       " 'subscriptions_url': 'https://api.github.com/users/aneagoie/subscriptions',\n",
       " 'organizations_url': 'https://api.github.com/users/aneagoie/orgs',\n",
       " 'repos_url': 'https://api.github.com/users/aneagoie/repos',\n",
       " 'events_url': 'https://api.github.com/users/aneagoie/events{/privacy}',\n",
       " 'received_events_url': 'https://api.github.com/users/aneagoie/received_events',\n",
       " 'type': 'User',\n",
       " 'user_view_type': 'public',\n",
       " 'site_admin': False,\n",
       " 'score': 1.0}"
      ]
     },
     "execution_count": 5,
     "metadata": {},
     "output_type": "execute_result"
    }
   ],
   "source": [
    "data['items'][0]"
   ]
  },
  {
   "cell_type": "markdown",
   "metadata": {},
   "source": [
    "### Search for Users\n",
    "\n",
    "* Toronto users with more than 100 followers"
   ]
  },
  {
   "cell_type": "code",
   "execution_count": 6,
   "metadata": {},
   "outputs": [],
   "source": [
    "def dynamic_delay(response):\n",
    "    if response.headers.get('X-RateLimit-Remaining') == '0':\n",
    "        reset_time = int(response.headers.get('X-RateLimit-Reset'))\n",
    "        sleep_time = reset_time - int(time.time()) + 5  # Add a buffer of 5s.\n",
    "\n",
    "        print(f\"Rate limit exceeded. Sleeping for {sleep_time} seconds!\")\n",
    "        time.sleep(sleep_time)\n",
    "\n",
    "    time.sleep(1)  # Sleep for 1s regardless."
   ]
  },
  {
   "cell_type": "code",
   "execution_count": 7,
   "metadata": {},
   "outputs": [
    {
     "name": "stdout",
     "output_type": "stream",
     "text": [
      "Fetched from cache.\n",
      "# of users: 680\n"
     ]
    }
   ],
   "source": [
    "printed_message_from_cached = False\n",
    "requests_cache.install_cache('cache/search_users', expire_after=None)\n",
    "\n",
    "users = []  # All users in Toronto with more than 100 followers.\n",
    "\n",
    "url = \"https://api.github.com/search/users\"\n",
    "params = {\n",
    "    'q': 'followers:>100 location:Toronto',  # Uses a query string (GraphQL).\n",
    "    'per_page': 100,\n",
    "    'page': 1\n",
    "}\n",
    "\n",
    "access_token = os.getenv('GITHUB_TOKEN')\n",
    "headers = {'Authorization': f'token {access_token}'}\n",
    "\n",
    "while True:\n",
    "    response = requests.get(url, params=params, headers=headers)\n",
    "\n",
    "    if response.status_code != 200:\n",
    "        print(f\"Failed to fetch users. Status code: {response.status_code}\")\n",
    "        break\n",
    "\n",
    "    data = response.json()\n",
    "\n",
    "    for user in data.get('items', []):\n",
    "        users.append({\n",
    "            'login': user['login'],\n",
    "            'id': user['id'],\n",
    "            'url': user['url'],\n",
    "            'repos_url': user['repos_url']\n",
    "        })\n",
    "    \n",
    "    if response.from_cache:\n",
    "        if not printed_message_from_cached:\n",
    "            print('Fetched from cache.')\n",
    "            printed_message_from_cached = True\n",
    "    else:\n",
    "        print(\"Fetched from API:\", response.url)\n",
    "        dynamic_delay(response)\n",
    "\n",
    "    # Check if there are more pages.\n",
    "    if 'next' not in response.links:\n",
    "        break\n",
    "\n",
    "    params['page'] += 1\n",
    "\n",
    "print('# of users:', len(users))"
   ]
  },
  {
   "cell_type": "code",
   "execution_count": 8,
   "metadata": {},
   "outputs": [
    {
     "data": {
      "text/plain": [
       "{'Access-Control-Allow-Origin': '*',\n",
       " 'Access-Control-Expose-Headers': 'ETag, Link, Location, Retry-After, X-GitHub-OTP, X-RateLimit-Limit, X-RateLimit-Remaining, X-RateLimit-Used, X-RateLimit-Resource, X-RateLimit-Reset, X-OAuth-Scopes, X-Accepted-OAuth-Scopes, X-Poll-Interval, X-GitHub-Media-Type, X-GitHub-SSO, X-GitHub-Request-Id, Deprecation, Sunset',\n",
       " 'Cache-Control': 'no-cache',\n",
       " 'Content-Encoding': 'gzip',\n",
       " 'Content-Security-Policy': \"default-src 'none'\",\n",
       " 'Content-Type': 'application/json; charset=utf-8',\n",
       " 'Date': 'Mon, 21 Oct 2024 16:43:35 GMT',\n",
       " 'Link': '<https://api.github.com/search/users?q=followers%3A%3E100+location%3AToronto&per_page=100&page=6>; rel=\"prev\", <https://api.github.com/search/users?q=followers%3A%3E100+location%3AToronto&per_page=100&page=1>; rel=\"first\"',\n",
       " 'Referrer-Policy': 'origin-when-cross-origin, strict-origin-when-cross-origin',\n",
       " 'Server': 'github.com',\n",
       " 'Strict-Transport-Security': 'max-age=31536000; includeSubdomains; preload',\n",
       " 'Transfer-Encoding': 'chunked',\n",
       " 'Vary': 'Accept, Authorization, Cookie, X-GitHub-OTP,Accept-Encoding, Accept, X-Requested-With',\n",
       " 'X-Accepted-OAuth-Scopes': '',\n",
       " 'X-Content-Type-Options': 'nosniff',\n",
       " 'X-Frame-Options': 'deny',\n",
       " 'X-GitHub-Media-Type': 'github.v3; format=json',\n",
       " 'X-GitHub-Request-Id': 'CFA4:665C5:6C493D:739E66:671684B7',\n",
       " 'X-OAuth-Scopes': 'repo, user',\n",
       " 'X-RateLimit-Limit': '30',\n",
       " 'X-RateLimit-Remaining': '22',\n",
       " 'X-RateLimit-Reset': '1729529065',\n",
       " 'X-RateLimit-Resource': 'search',\n",
       " 'X-RateLimit-Used': '8',\n",
       " 'X-XSS-Protection': '0',\n",
       " 'github-authentication-token-expiration': '2024-11-20 07:23:10 UTC',\n",
       " 'x-github-api-version-selected': '2022-11-28'}"
      ]
     },
     "execution_count": 8,
     "metadata": {},
     "output_type": "execute_result"
    }
   ],
   "source": [
    "dict(response.headers)"
   ]
  },
  {
   "cell_type": "code",
   "execution_count": 9,
   "metadata": {},
   "outputs": [
    {
     "data": {
      "text/plain": [
       "{'login': 'aneagoie',\n",
       " 'id': 10776230,\n",
       " 'url': 'https://api.github.com/users/aneagoie',\n",
       " 'repos_url': 'https://api.github.com/users/aneagoie/repos'}"
      ]
     },
     "execution_count": 9,
     "metadata": {},
     "output_type": "execute_result"
    }
   ],
   "source": [
    "users[0]"
   ]
  },
  {
   "cell_type": "markdown",
   "metadata": {},
   "source": [
    "### Fetch User Data"
   ]
  },
  {
   "cell_type": "code",
   "execution_count": 10,
   "metadata": {},
   "outputs": [],
   "source": [
    "def clean_company_name(company):\n",
    "    company_name = None\n",
    "    if company:\n",
    "        company_name = company.strip()\n",
    "        if company_name.startswith('@'):\n",
    "            company_name = company_name[1:]\n",
    "        company_name = company_name.upper()\n",
    "    \n",
    "    return company_name"
   ]
  },
  {
   "cell_type": "code",
   "execution_count": 11,
   "metadata": {},
   "outputs": [
    {
     "name": "stdout",
     "output_type": "stream",
     "text": [
      "Fetched from cache.\n"
     ]
    },
    {
     "data": {
      "text/plain": [
       "{'login': 'aneagoie',\n",
       " 'name': 'Andrei Neagoie',\n",
       " 'company': '',\n",
       " 'location': 'Toronto, Canada',\n",
       " 'email': '',\n",
       " 'hireable': True,\n",
       " 'bio': 'Senior Software Dev turned Instructor. Founder of zerotomastery.io',\n",
       " 'public_repos': 145,\n",
       " 'followers': 10268,\n",
       " 'following': 1,\n",
       " 'created_at': '2015-01-30T17:05:43Z'}"
      ]
     },
     "execution_count": 11,
     "metadata": {},
     "output_type": "execute_result"
    }
   ],
   "source": [
    "printed_message_from_cached = False\n",
    "requests_cache.install_cache('cache/users', expire_after=None)\n",
    "\n",
    "users_data = []\n",
    "\n",
    "for user in users:\n",
    "    response = requests.get(user['url'], headers=headers)\n",
    "\n",
    "    if response.status_code != 200:\n",
    "        print(f\"Failed to fetch {user['login']}'s data. Status code: {response.status_code}\")\n",
    "        break\n",
    "    \n",
    "    data = response.json()\n",
    "    \n",
    "    users_data.append({\n",
    "        'login': data['login'],\n",
    "        'name': data['name'] or '',\n",
    "        'company': clean_company_name(data['company']) or '',\n",
    "        'location': data['location'] or '',\n",
    "        'email': data['email'] or '',\n",
    "        'hireable': data['hireable'] or False,\n",
    "        'bio': data['bio'] or '',\n",
    "        'public_repos': data['public_repos'],\n",
    "        'followers': data['followers'],\n",
    "        'following': data['following'],\n",
    "        'created_at': data['created_at'],\n",
    "    })\n",
    "\n",
    "    if response.from_cache:\n",
    "        if not printed_message_from_cached:\n",
    "            print('Fetched from cache.')\n",
    "            printed_message_from_cached = True\n",
    "    else:\n",
    "        print('Fetched from API:', response.url)\n",
    "        dynamic_delay(response)\n",
    "\n",
    "users_data[0]"
   ]
  },
  {
   "cell_type": "code",
   "execution_count": 12,
   "metadata": {},
   "outputs": [
    {
     "data": {
      "text/plain": [
       "680"
      ]
     },
     "execution_count": 12,
     "metadata": {},
     "output_type": "execute_result"
    }
   ],
   "source": [
    "len(users_data)"
   ]
  },
  {
   "cell_type": "code",
   "execution_count": 13,
   "metadata": {},
   "outputs": [
    {
     "data": {
      "text/plain": [
       "{'Access-Control-Allow-Origin': '*',\n",
       " 'Access-Control-Expose-Headers': 'ETag, Link, Location, Retry-After, X-GitHub-OTP, X-RateLimit-Limit, X-RateLimit-Remaining, X-RateLimit-Used, X-RateLimit-Resource, X-RateLimit-Reset, X-OAuth-Scopes, X-Accepted-OAuth-Scopes, X-Poll-Interval, X-GitHub-Media-Type, X-GitHub-SSO, X-GitHub-Request-Id, Deprecation, Sunset',\n",
       " 'Cache-Control': 'private, max-age=60, s-maxage=60',\n",
       " 'Content-Encoding': 'gzip',\n",
       " 'Content-Security-Policy': \"default-src 'none'\",\n",
       " 'Content-Type': 'application/json; charset=utf-8',\n",
       " 'Date': 'Mon, 21 Oct 2024 17:01:38 GMT',\n",
       " 'ETag': 'W/\"dbbd1c8be0f168814915dde0d8fbc5b716d3913a61c224d395043082b7f75e8b\"',\n",
       " 'Last-Modified': 'Fri, 18 Oct 2024 22:22:40 GMT',\n",
       " 'Referrer-Policy': 'origin-when-cross-origin, strict-origin-when-cross-origin',\n",
       " 'Server': 'github.com',\n",
       " 'Strict-Transport-Security': 'max-age=31536000; includeSubdomains; preload',\n",
       " 'Transfer-Encoding': 'chunked',\n",
       " 'Vary': 'Accept, Authorization, Cookie, X-GitHub-OTP,Accept-Encoding, Accept, X-Requested-With',\n",
       " 'X-Accepted-OAuth-Scopes': '',\n",
       " 'X-Content-Type-Options': 'nosniff',\n",
       " 'X-Frame-Options': 'deny',\n",
       " 'X-GitHub-Media-Type': 'github.v3; format=json',\n",
       " 'X-GitHub-Request-Id': 'E5A2:23CFFC:63FAA2:6A31F5:671688F2',\n",
       " 'X-OAuth-Scopes': 'repo, user',\n",
       " 'X-RateLimit-Limit': '5000',\n",
       " 'X-RateLimit-Remaining': '4320',\n",
       " 'X-RateLimit-Reset': '1729532617',\n",
       " 'X-RateLimit-Resource': 'core',\n",
       " 'X-RateLimit-Used': '680',\n",
       " 'X-XSS-Protection': '0',\n",
       " 'github-authentication-token-expiration': '2024-11-20 07:23:10 UTC',\n",
       " 'x-github-api-version-selected': '2022-11-28'}"
      ]
     },
     "execution_count": 13,
     "metadata": {},
     "output_type": "execute_result"
    }
   ],
   "source": [
    "dict(response.headers)"
   ]
  },
  {
   "cell_type": "markdown",
   "metadata": {},
   "source": [
    "#### Save user data to .csv"
   ]
  },
  {
   "cell_type": "code",
   "execution_count": 14,
   "metadata": {},
   "outputs": [
    {
     "data": {
      "text/html": [
       "<div>\n",
       "<style scoped>\n",
       "    .dataframe tbody tr th:only-of-type {\n",
       "        vertical-align: middle;\n",
       "    }\n",
       "\n",
       "    .dataframe tbody tr th {\n",
       "        vertical-align: top;\n",
       "    }\n",
       "\n",
       "    .dataframe thead th {\n",
       "        text-align: right;\n",
       "    }\n",
       "</style>\n",
       "<table border=\"1\" class=\"dataframe\">\n",
       "  <thead>\n",
       "    <tr style=\"text-align: right;\">\n",
       "      <th></th>\n",
       "      <th>login</th>\n",
       "      <th>name</th>\n",
       "      <th>company</th>\n",
       "      <th>location</th>\n",
       "      <th>email</th>\n",
       "      <th>hireable</th>\n",
       "      <th>bio</th>\n",
       "      <th>public_repos</th>\n",
       "      <th>followers</th>\n",
       "      <th>following</th>\n",
       "      <th>created_at</th>\n",
       "    </tr>\n",
       "  </thead>\n",
       "  <tbody>\n",
       "    <tr>\n",
       "      <th>0</th>\n",
       "      <td>aneagoie</td>\n",
       "      <td>Andrei Neagoie</td>\n",
       "      <td></td>\n",
       "      <td>Toronto, Canada</td>\n",
       "      <td></td>\n",
       "      <td>True</td>\n",
       "      <td>Senior Software Dev turned Instructor. Founder...</td>\n",
       "      <td>145</td>\n",
       "      <td>10268</td>\n",
       "      <td>1</td>\n",
       "      <td>2015-01-30T17:05:43Z</td>\n",
       "    </tr>\n",
       "    <tr>\n",
       "      <th>1</th>\n",
       "      <td>ZhangMYihua</td>\n",
       "      <td>Yihua Zhang</td>\n",
       "      <td></td>\n",
       "      <td>Toronto</td>\n",
       "      <td>yihuazhang2@gmail.com</td>\n",
       "      <td>False</td>\n",
       "      <td>Toronto Software Developer</td>\n",
       "      <td>143</td>\n",
       "      <td>5804</td>\n",
       "      <td>11</td>\n",
       "      <td>2015-01-18T00:01:02Z</td>\n",
       "    </tr>\n",
       "    <tr>\n",
       "      <th>2</th>\n",
       "      <td>susanli2016</td>\n",
       "      <td>Susan Li</td>\n",
       "      <td></td>\n",
       "      <td>Toronto Canada</td>\n",
       "      <td></td>\n",
       "      <td>False</td>\n",
       "      <td>Chief Data Scientist</td>\n",
       "      <td>34</td>\n",
       "      <td>4917</td>\n",
       "      <td>68</td>\n",
       "      <td>2016-11-28T04:22:39Z</td>\n",
       "    </tr>\n",
       "    <tr>\n",
       "      <th>3</th>\n",
       "      <td>thedaviddias</td>\n",
       "      <td>David Dias</td>\n",
       "      <td>KIJIJICA</td>\n",
       "      <td>Toronto, Canada</td>\n",
       "      <td></td>\n",
       "      <td>False</td>\n",
       "      <td>💻 Passionate Front-End Dev &amp; 🎨 UI/UX fan. Cont...</td>\n",
       "      <td>89</td>\n",
       "      <td>4533</td>\n",
       "      <td>301</td>\n",
       "      <td>2010-04-05T14:40:12Z</td>\n",
       "    </tr>\n",
       "    <tr>\n",
       "      <th>4</th>\n",
       "      <td>ange-yaghi</td>\n",
       "      <td>Ange Yaghi</td>\n",
       "      <td></td>\n",
       "      <td>Toronto</td>\n",
       "      <td>me@angeyaghi.com</td>\n",
       "      <td>False</td>\n",
       "      <td>C++ Developer</td>\n",
       "      <td>32</td>\n",
       "      <td>4020</td>\n",
       "      <td>11</td>\n",
       "      <td>2016-07-13T21:01:21Z</td>\n",
       "    </tr>\n",
       "  </tbody>\n",
       "</table>\n",
       "</div>"
      ],
      "text/plain": [
       "          login            name   company         location  \\\n",
       "0      aneagoie  Andrei Neagoie            Toronto, Canada   \n",
       "1   ZhangMYihua     Yihua Zhang                    Toronto   \n",
       "2   susanli2016        Susan Li             Toronto Canada   \n",
       "3  thedaviddias      David Dias  KIJIJICA  Toronto, Canada   \n",
       "4    ange-yaghi      Ange Yaghi                    Toronto   \n",
       "\n",
       "                   email  hireable  \\\n",
       "0                             True   \n",
       "1  yihuazhang2@gmail.com     False   \n",
       "2                            False   \n",
       "3                            False   \n",
       "4       me@angeyaghi.com     False   \n",
       "\n",
       "                                                 bio  public_repos  followers  \\\n",
       "0  Senior Software Dev turned Instructor. Founder...           145      10268   \n",
       "1                         Toronto Software Developer           143       5804   \n",
       "2                               Chief Data Scientist            34       4917   \n",
       "3  💻 Passionate Front-End Dev & 🎨 UI/UX fan. Cont...            89       4533   \n",
       "4                                      C++ Developer            32       4020   \n",
       "\n",
       "   following            created_at  \n",
       "0          1  2015-01-30T17:05:43Z  \n",
       "1         11  2015-01-18T00:01:02Z  \n",
       "2         68  2016-11-28T04:22:39Z  \n",
       "3        301  2010-04-05T14:40:12Z  \n",
       "4         11  2016-07-13T21:01:21Z  "
      ]
     },
     "execution_count": 14,
     "metadata": {},
     "output_type": "execute_result"
    }
   ],
   "source": [
    "users_df = pd.DataFrame(users_data)\n",
    "users_df.head()"
   ]
  },
  {
   "cell_type": "code",
   "execution_count": 15,
   "metadata": {},
   "outputs": [
    {
     "name": "stdout",
     "output_type": "stream",
     "text": [
      "Total Expected Repos: 54875\n"
     ]
    }
   ],
   "source": [
    "total_number_of_repos_expected = users_df[users_df['public_repos'] <= 500]['public_repos'].sum() + (500 * len(users_df[users_df['public_repos'] > 500]))\n",
    "print(f\"Total Expected Repos: {total_number_of_repos_expected}\")"
   ]
  },
  {
   "cell_type": "code",
   "execution_count": 16,
   "metadata": {},
   "outputs": [
    {
     "name": "stdout",
     "output_type": "stream",
     "text": [
      "# of unique users: 680\n"
     ]
    }
   ],
   "source": [
    "n_unique_users = len(users_df['login'].unique())  # Sanity check.\n",
    "print(f\"# of unique users: {n_unique_users}\")"
   ]
  },
  {
   "cell_type": "code",
   "execution_count": 17,
   "metadata": {},
   "outputs": [
    {
     "name": "stdout",
     "output_type": "stream",
     "text": [
      "<class 'pandas.core.frame.DataFrame'>\n",
      "RangeIndex: 680 entries, 0 to 679\n",
      "Data columns (total 11 columns):\n",
      " #   Column        Non-Null Count  Dtype \n",
      "---  ------        --------------  ----- \n",
      " 0   login         680 non-null    object\n",
      " 1   name          680 non-null    object\n",
      " 2   company       680 non-null    object\n",
      " 3   location      680 non-null    object\n",
      " 4   email         680 non-null    object\n",
      " 5   hireable      680 non-null    bool  \n",
      " 6   bio           680 non-null    object\n",
      " 7   public_repos  680 non-null    int64 \n",
      " 8   followers     680 non-null    int64 \n",
      " 9   following     680 non-null    int64 \n",
      " 10  created_at    680 non-null    object\n",
      "dtypes: bool(1), int64(3), object(7)\n",
      "memory usage: 53.9+ KB\n"
     ]
    }
   ],
   "source": [
    "users_df.info()"
   ]
  },
  {
   "cell_type": "code",
   "execution_count": 18,
   "metadata": {},
   "outputs": [],
   "source": [
    "users_df['hireable'] = users_df['hireable'].replace({True: 'true', False: 'false'})"
   ]
  },
  {
   "cell_type": "code",
   "execution_count": 19,
   "metadata": {},
   "outputs": [],
   "source": [
    "users_df.to_csv('users.csv', index=False)"
   ]
  },
  {
   "cell_type": "markdown",
   "metadata": {},
   "source": [
    "### Fetch Users' Repo Data"
   ]
  },
  {
   "cell_type": "code",
   "execution_count": 20,
   "metadata": {},
   "outputs": [
    {
     "name": "stdout",
     "output_type": "stream",
     "text": [
      "Fetched from cache.\n",
      "# of Repos: 54875\n"
     ]
    }
   ],
   "source": [
    "printed_message_from_cached = False\n",
    "requests_cache.install_cache('cache/repos', expire_after=None)\n",
    "\n",
    "repos_data = []\n",
    "\n",
    "for user in users:\n",
    "    repos = []\n",
    "    params = {\n",
    "        'sort': 'pushed',\n",
    "        'direction': 'desc',\n",
    "        'per_page': 100,\n",
    "        'page': 1,\n",
    "    }\n",
    "    while True:\n",
    "        response = requests.get(user['repos_url'], params=params, headers=headers)\n",
    "\n",
    "        if response.status_code != 200:\n",
    "            print(f\"Failed to fetch { user['login'] }'s repo data. Status code: {response.status_code}\")\n",
    "            break\n",
    "        \n",
    "        data = response.json()\n",
    "        for repo in data:\n",
    "            repos.append({\n",
    "                'login': user['login'],\n",
    "                'full_name': repo['full_name'],\n",
    "                'created_at': repo['created_at'],\n",
    "                'stargazers_count': repo['stargazers_count'],\n",
    "                'watchers_count': repo['watchers_count'],\n",
    "                'language': repo['language'] or '',\n",
    "                'has_projects': repo['has_projects'],\n",
    "                'has_wiki': repo['has_wiki'],\n",
    "                'license_name': repo['license']['key'] if repo['license'] else '',\n",
    "            })\n",
    "        \n",
    "        if response.from_cache:\n",
    "            if not printed_message_from_cached:\n",
    "                print('Fetched from cache.')\n",
    "                printed_message_from_cached = True\n",
    "        else:\n",
    "            print('Fetched from API:', response.url)\n",
    "            dynamic_delay(response)\n",
    "\n",
    "        if ('next' not in response.links) or (params['page'] == 5):\n",
    "            break\n",
    "\n",
    "        params['page'] += 1\n",
    "    \n",
    "    repos_data.extend(repos)\n",
    "\n",
    "print('# of Repos:', len(repos_data))"
   ]
  },
  {
   "cell_type": "code",
   "execution_count": 21,
   "metadata": {},
   "outputs": [
    {
     "name": "stdout",
     "output_type": "stream",
     "text": [
      "Pass repos sanity check: True\n"
     ]
    }
   ],
   "source": [
    "print('Pass repos sanity check:', total_number_of_repos_expected == len(repos_data))"
   ]
  },
  {
   "cell_type": "code",
   "execution_count": 22,
   "metadata": {},
   "outputs": [
    {
     "data": {
      "text/plain": [
       "{'login': 'aneagoie',\n",
       " 'full_name': 'aneagoie/ML-Notes',\n",
       " 'created_at': '2019-09-28T02:31:10Z',\n",
       " 'stargazers_count': 60,\n",
       " 'watchers_count': 60,\n",
       " 'language': 'Jupyter Notebook',\n",
       " 'has_projects': True,\n",
       " 'has_wiki': True,\n",
       " 'license_name': ''}"
      ]
     },
     "execution_count": 22,
     "metadata": {},
     "output_type": "execute_result"
    }
   ],
   "source": [
    "repos_data[1]"
   ]
  },
  {
   "cell_type": "markdown",
   "metadata": {},
   "source": [
    "#### Save repo data to .csv"
   ]
  },
  {
   "cell_type": "code",
   "execution_count": 23,
   "metadata": {},
   "outputs": [
    {
     "data": {
      "text/html": [
       "<div>\n",
       "<style scoped>\n",
       "    .dataframe tbody tr th:only-of-type {\n",
       "        vertical-align: middle;\n",
       "    }\n",
       "\n",
       "    .dataframe tbody tr th {\n",
       "        vertical-align: top;\n",
       "    }\n",
       "\n",
       "    .dataframe thead th {\n",
       "        text-align: right;\n",
       "    }\n",
       "</style>\n",
       "<table border=\"1\" class=\"dataframe\">\n",
       "  <thead>\n",
       "    <tr style=\"text-align: right;\">\n",
       "      <th></th>\n",
       "      <th>login</th>\n",
       "      <th>full_name</th>\n",
       "      <th>created_at</th>\n",
       "      <th>stargazers_count</th>\n",
       "      <th>watchers_count</th>\n",
       "      <th>language</th>\n",
       "      <th>has_projects</th>\n",
       "      <th>has_wiki</th>\n",
       "      <th>license_name</th>\n",
       "    </tr>\n",
       "  </thead>\n",
       "  <tbody>\n",
       "    <tr>\n",
       "      <th>0</th>\n",
       "      <td>aneagoie</td>\n",
       "      <td>aneagoie/ztm-extension</td>\n",
       "      <td>2023-12-15T13:32:57Z</td>\n",
       "      <td>3</td>\n",
       "      <td>3</td>\n",
       "      <td>JavaScript</td>\n",
       "      <td>True</td>\n",
       "      <td>False</td>\n",
       "      <td>mit</td>\n",
       "    </tr>\n",
       "    <tr>\n",
       "      <th>1</th>\n",
       "      <td>aneagoie</td>\n",
       "      <td>aneagoie/ML-Notes</td>\n",
       "      <td>2019-09-28T02:31:10Z</td>\n",
       "      <td>60</td>\n",
       "      <td>60</td>\n",
       "      <td>Jupyter Notebook</td>\n",
       "      <td>True</td>\n",
       "      <td>True</td>\n",
       "      <td></td>\n",
       "    </tr>\n",
       "    <tr>\n",
       "      <th>2</th>\n",
       "      <td>aneagoie</td>\n",
       "      <td>aneagoie/smart-brain-boost-api-dockerized</td>\n",
       "      <td>2018-04-12T18:44:49Z</td>\n",
       "      <td>55</td>\n",
       "      <td>55</td>\n",
       "      <td>JavaScript</td>\n",
       "      <td>True</td>\n",
       "      <td>True</td>\n",
       "      <td></td>\n",
       "    </tr>\n",
       "    <tr>\n",
       "      <th>3</th>\n",
       "      <td>aneagoie</td>\n",
       "      <td>aneagoie/smart-brain-boost-api</td>\n",
       "      <td>2018-04-09T18:46:06Z</td>\n",
       "      <td>14</td>\n",
       "      <td>14</td>\n",
       "      <td>JavaScript</td>\n",
       "      <td>True</td>\n",
       "      <td>True</td>\n",
       "      <td></td>\n",
       "    </tr>\n",
       "    <tr>\n",
       "      <th>4</th>\n",
       "      <td>aneagoie</td>\n",
       "      <td>aneagoie/smart-brain-boost-lambda</td>\n",
       "      <td>2018-04-15T17:02:27Z</td>\n",
       "      <td>20</td>\n",
       "      <td>20</td>\n",
       "      <td>JavaScript</td>\n",
       "      <td>True</td>\n",
       "      <td>True</td>\n",
       "      <td></td>\n",
       "    </tr>\n",
       "  </tbody>\n",
       "</table>\n",
       "</div>"
      ],
      "text/plain": [
       "      login                                  full_name            created_at  \\\n",
       "0  aneagoie                     aneagoie/ztm-extension  2023-12-15T13:32:57Z   \n",
       "1  aneagoie                          aneagoie/ML-Notes  2019-09-28T02:31:10Z   \n",
       "2  aneagoie  aneagoie/smart-brain-boost-api-dockerized  2018-04-12T18:44:49Z   \n",
       "3  aneagoie             aneagoie/smart-brain-boost-api  2018-04-09T18:46:06Z   \n",
       "4  aneagoie          aneagoie/smart-brain-boost-lambda  2018-04-15T17:02:27Z   \n",
       "\n",
       "   stargazers_count  watchers_count          language  has_projects  has_wiki  \\\n",
       "0                 3               3        JavaScript          True     False   \n",
       "1                60              60  Jupyter Notebook          True      True   \n",
       "2                55              55        JavaScript          True      True   \n",
       "3                14              14        JavaScript          True      True   \n",
       "4                20              20        JavaScript          True      True   \n",
       "\n",
       "  license_name  \n",
       "0          mit  \n",
       "1               \n",
       "2               \n",
       "3               \n",
       "4               "
      ]
     },
     "execution_count": 23,
     "metadata": {},
     "output_type": "execute_result"
    }
   ],
   "source": [
    "repos_df = pd.DataFrame(repos_data)\n",
    "repos_df.head()"
   ]
  },
  {
   "cell_type": "code",
   "execution_count": 24,
   "metadata": {},
   "outputs": [
    {
     "name": "stdout",
     "output_type": "stream",
     "text": [
      "<class 'pandas.core.frame.DataFrame'>\n",
      "RangeIndex: 54875 entries, 0 to 54874\n",
      "Data columns (total 9 columns):\n",
      " #   Column            Non-Null Count  Dtype \n",
      "---  ------            --------------  ----- \n",
      " 0   login             54875 non-null  object\n",
      " 1   full_name         54875 non-null  object\n",
      " 2   created_at        54875 non-null  object\n",
      " 3   stargazers_count  54875 non-null  int64 \n",
      " 4   watchers_count    54875 non-null  int64 \n",
      " 5   language          54875 non-null  object\n",
      " 6   has_projects      54875 non-null  bool  \n",
      " 7   has_wiki          54875 non-null  bool  \n",
      " 8   license_name      54875 non-null  object\n",
      "dtypes: bool(2), int64(2), object(5)\n",
      "memory usage: 3.0+ MB\n"
     ]
    }
   ],
   "source": [
    "repos_df.info()"
   ]
  },
  {
   "cell_type": "code",
   "execution_count": 25,
   "metadata": {},
   "outputs": [],
   "source": [
    "repos_df['has_projects'] = repos_df['has_projects'].replace({True: 'true', False: 'false'})\n",
    "repos_df['has_wiki'] = repos_df['has_wiki'].replace({True: 'true', False: 'false'})"
   ]
  },
  {
   "cell_type": "code",
   "execution_count": 26,
   "metadata": {},
   "outputs": [],
   "source": [
    "repos_df.to_csv('repositories.csv', index=False)"
   ]
  },
  {
   "cell_type": "markdown",
   "metadata": {},
   "source": [
    "## Questions"
   ]
  },
  {
   "cell_type": "code",
   "execution_count": 27,
   "metadata": {},
   "outputs": [],
   "source": [
    "users_df = pd.read_csv('users.csv')\n",
    "repos_df = pd.read_csv('repositories.csv')"
   ]
  },
  {
   "cell_type": "code",
   "execution_count": 28,
   "metadata": {},
   "outputs": [
    {
     "data": {
      "text/html": [
       "<div>\n",
       "<style scoped>\n",
       "    .dataframe tbody tr th:only-of-type {\n",
       "        vertical-align: middle;\n",
       "    }\n",
       "\n",
       "    .dataframe tbody tr th {\n",
       "        vertical-align: top;\n",
       "    }\n",
       "\n",
       "    .dataframe thead th {\n",
       "        text-align: right;\n",
       "    }\n",
       "</style>\n",
       "<table border=\"1\" class=\"dataframe\">\n",
       "  <thead>\n",
       "    <tr style=\"text-align: right;\">\n",
       "      <th></th>\n",
       "      <th>login</th>\n",
       "      <th>name</th>\n",
       "      <th>company</th>\n",
       "      <th>location</th>\n",
       "      <th>email</th>\n",
       "      <th>hireable</th>\n",
       "      <th>bio</th>\n",
       "      <th>public_repos</th>\n",
       "      <th>followers</th>\n",
       "      <th>following</th>\n",
       "      <th>created_at</th>\n",
       "    </tr>\n",
       "  </thead>\n",
       "  <tbody>\n",
       "    <tr>\n",
       "      <th>0</th>\n",
       "      <td>aneagoie</td>\n",
       "      <td>Andrei Neagoie</td>\n",
       "      <td>NaN</td>\n",
       "      <td>Toronto, Canada</td>\n",
       "      <td>NaN</td>\n",
       "      <td>True</td>\n",
       "      <td>Senior Software Dev turned Instructor. Founder...</td>\n",
       "      <td>145</td>\n",
       "      <td>10268</td>\n",
       "      <td>1</td>\n",
       "      <td>2015-01-30T17:05:43Z</td>\n",
       "    </tr>\n",
       "    <tr>\n",
       "      <th>1</th>\n",
       "      <td>ZhangMYihua</td>\n",
       "      <td>Yihua Zhang</td>\n",
       "      <td>NaN</td>\n",
       "      <td>Toronto</td>\n",
       "      <td>yihuazhang2@gmail.com</td>\n",
       "      <td>False</td>\n",
       "      <td>Toronto Software Developer</td>\n",
       "      <td>143</td>\n",
       "      <td>5804</td>\n",
       "      <td>11</td>\n",
       "      <td>2015-01-18T00:01:02Z</td>\n",
       "    </tr>\n",
       "    <tr>\n",
       "      <th>2</th>\n",
       "      <td>susanli2016</td>\n",
       "      <td>Susan Li</td>\n",
       "      <td>NaN</td>\n",
       "      <td>Toronto Canada</td>\n",
       "      <td>NaN</td>\n",
       "      <td>False</td>\n",
       "      <td>Chief Data Scientist</td>\n",
       "      <td>34</td>\n",
       "      <td>4917</td>\n",
       "      <td>68</td>\n",
       "      <td>2016-11-28T04:22:39Z</td>\n",
       "    </tr>\n",
       "    <tr>\n",
       "      <th>3</th>\n",
       "      <td>thedaviddias</td>\n",
       "      <td>David Dias</td>\n",
       "      <td>KIJIJICA</td>\n",
       "      <td>Toronto, Canada</td>\n",
       "      <td>NaN</td>\n",
       "      <td>False</td>\n",
       "      <td>💻 Passionate Front-End Dev &amp; 🎨 UI/UX fan. Cont...</td>\n",
       "      <td>89</td>\n",
       "      <td>4533</td>\n",
       "      <td>301</td>\n",
       "      <td>2010-04-05T14:40:12Z</td>\n",
       "    </tr>\n",
       "    <tr>\n",
       "      <th>4</th>\n",
       "      <td>ange-yaghi</td>\n",
       "      <td>Ange Yaghi</td>\n",
       "      <td>NaN</td>\n",
       "      <td>Toronto</td>\n",
       "      <td>me@angeyaghi.com</td>\n",
       "      <td>False</td>\n",
       "      <td>C++ Developer</td>\n",
       "      <td>32</td>\n",
       "      <td>4020</td>\n",
       "      <td>11</td>\n",
       "      <td>2016-07-13T21:01:21Z</td>\n",
       "    </tr>\n",
       "  </tbody>\n",
       "</table>\n",
       "</div>"
      ],
      "text/plain": [
       "          login            name   company         location  \\\n",
       "0      aneagoie  Andrei Neagoie       NaN  Toronto, Canada   \n",
       "1   ZhangMYihua     Yihua Zhang       NaN          Toronto   \n",
       "2   susanli2016        Susan Li       NaN   Toronto Canada   \n",
       "3  thedaviddias      David Dias  KIJIJICA  Toronto, Canada   \n",
       "4    ange-yaghi      Ange Yaghi       NaN          Toronto   \n",
       "\n",
       "                   email  hireable  \\\n",
       "0                    NaN      True   \n",
       "1  yihuazhang2@gmail.com     False   \n",
       "2                    NaN     False   \n",
       "3                    NaN     False   \n",
       "4       me@angeyaghi.com     False   \n",
       "\n",
       "                                                 bio  public_repos  followers  \\\n",
       "0  Senior Software Dev turned Instructor. Founder...           145      10268   \n",
       "1                         Toronto Software Developer           143       5804   \n",
       "2                               Chief Data Scientist            34       4917   \n",
       "3  💻 Passionate Front-End Dev & 🎨 UI/UX fan. Cont...            89       4533   \n",
       "4                                      C++ Developer            32       4020   \n",
       "\n",
       "   following            created_at  \n",
       "0          1  2015-01-30T17:05:43Z  \n",
       "1         11  2015-01-18T00:01:02Z  \n",
       "2         68  2016-11-28T04:22:39Z  \n",
       "3        301  2010-04-05T14:40:12Z  \n",
       "4         11  2016-07-13T21:01:21Z  "
      ]
     },
     "execution_count": 28,
     "metadata": {},
     "output_type": "execute_result"
    }
   ],
   "source": [
    "users_df.head()"
   ]
  },
  {
   "cell_type": "code",
   "execution_count": 29,
   "metadata": {},
   "outputs": [
    {
     "data": {
      "text/html": [
       "<div>\n",
       "<style scoped>\n",
       "    .dataframe tbody tr th:only-of-type {\n",
       "        vertical-align: middle;\n",
       "    }\n",
       "\n",
       "    .dataframe tbody tr th {\n",
       "        vertical-align: top;\n",
       "    }\n",
       "\n",
       "    .dataframe thead th {\n",
       "        text-align: right;\n",
       "    }\n",
       "</style>\n",
       "<table border=\"1\" class=\"dataframe\">\n",
       "  <thead>\n",
       "    <tr style=\"text-align: right;\">\n",
       "      <th></th>\n",
       "      <th>login</th>\n",
       "      <th>full_name</th>\n",
       "      <th>created_at</th>\n",
       "      <th>stargazers_count</th>\n",
       "      <th>watchers_count</th>\n",
       "      <th>language</th>\n",
       "      <th>has_projects</th>\n",
       "      <th>has_wiki</th>\n",
       "      <th>license_name</th>\n",
       "    </tr>\n",
       "  </thead>\n",
       "  <tbody>\n",
       "    <tr>\n",
       "      <th>0</th>\n",
       "      <td>aneagoie</td>\n",
       "      <td>aneagoie/ztm-extension</td>\n",
       "      <td>2023-12-15T13:32:57Z</td>\n",
       "      <td>3</td>\n",
       "      <td>3</td>\n",
       "      <td>JavaScript</td>\n",
       "      <td>True</td>\n",
       "      <td>False</td>\n",
       "      <td>mit</td>\n",
       "    </tr>\n",
       "    <tr>\n",
       "      <th>1</th>\n",
       "      <td>aneagoie</td>\n",
       "      <td>aneagoie/ML-Notes</td>\n",
       "      <td>2019-09-28T02:31:10Z</td>\n",
       "      <td>60</td>\n",
       "      <td>60</td>\n",
       "      <td>Jupyter Notebook</td>\n",
       "      <td>True</td>\n",
       "      <td>True</td>\n",
       "      <td>NaN</td>\n",
       "    </tr>\n",
       "    <tr>\n",
       "      <th>2</th>\n",
       "      <td>aneagoie</td>\n",
       "      <td>aneagoie/smart-brain-boost-api-dockerized</td>\n",
       "      <td>2018-04-12T18:44:49Z</td>\n",
       "      <td>55</td>\n",
       "      <td>55</td>\n",
       "      <td>JavaScript</td>\n",
       "      <td>True</td>\n",
       "      <td>True</td>\n",
       "      <td>NaN</td>\n",
       "    </tr>\n",
       "    <tr>\n",
       "      <th>3</th>\n",
       "      <td>aneagoie</td>\n",
       "      <td>aneagoie/smart-brain-boost-api</td>\n",
       "      <td>2018-04-09T18:46:06Z</td>\n",
       "      <td>14</td>\n",
       "      <td>14</td>\n",
       "      <td>JavaScript</td>\n",
       "      <td>True</td>\n",
       "      <td>True</td>\n",
       "      <td>NaN</td>\n",
       "    </tr>\n",
       "    <tr>\n",
       "      <th>4</th>\n",
       "      <td>aneagoie</td>\n",
       "      <td>aneagoie/smart-brain-boost-lambda</td>\n",
       "      <td>2018-04-15T17:02:27Z</td>\n",
       "      <td>20</td>\n",
       "      <td>20</td>\n",
       "      <td>JavaScript</td>\n",
       "      <td>True</td>\n",
       "      <td>True</td>\n",
       "      <td>NaN</td>\n",
       "    </tr>\n",
       "  </tbody>\n",
       "</table>\n",
       "</div>"
      ],
      "text/plain": [
       "      login                                  full_name            created_at  \\\n",
       "0  aneagoie                     aneagoie/ztm-extension  2023-12-15T13:32:57Z   \n",
       "1  aneagoie                          aneagoie/ML-Notes  2019-09-28T02:31:10Z   \n",
       "2  aneagoie  aneagoie/smart-brain-boost-api-dockerized  2018-04-12T18:44:49Z   \n",
       "3  aneagoie             aneagoie/smart-brain-boost-api  2018-04-09T18:46:06Z   \n",
       "4  aneagoie          aneagoie/smart-brain-boost-lambda  2018-04-15T17:02:27Z   \n",
       "\n",
       "   stargazers_count  watchers_count          language  has_projects  has_wiki  \\\n",
       "0                 3               3        JavaScript          True     False   \n",
       "1                60              60  Jupyter Notebook          True      True   \n",
       "2                55              55        JavaScript          True      True   \n",
       "3                14              14        JavaScript          True      True   \n",
       "4                20              20        JavaScript          True      True   \n",
       "\n",
       "  license_name  \n",
       "0          mit  \n",
       "1          NaN  \n",
       "2          NaN  \n",
       "3          NaN  \n",
       "4          NaN  "
      ]
     },
     "execution_count": 29,
     "metadata": {},
     "output_type": "execute_result"
    }
   ],
   "source": [
    "repos_df.head()"
   ]
  },
  {
   "cell_type": "markdown",
   "metadata": {},
   "source": [
    "Q1. Who are the top 5 users in Toronto with the highest number of followers? List their login in order, comma-separated."
   ]
  },
  {
   "cell_type": "code",
   "execution_count": 30,
   "metadata": {},
   "outputs": [
    {
     "data": {
      "text/html": [
       "<div>\n",
       "<style scoped>\n",
       "    .dataframe tbody tr th:only-of-type {\n",
       "        vertical-align: middle;\n",
       "    }\n",
       "\n",
       "    .dataframe tbody tr th {\n",
       "        vertical-align: top;\n",
       "    }\n",
       "\n",
       "    .dataframe thead th {\n",
       "        text-align: right;\n",
       "    }\n",
       "</style>\n",
       "<table border=\"1\" class=\"dataframe\">\n",
       "  <thead>\n",
       "    <tr style=\"text-align: right;\">\n",
       "      <th></th>\n",
       "      <th>login</th>\n",
       "      <th>followers</th>\n",
       "    </tr>\n",
       "  </thead>\n",
       "  <tbody>\n",
       "    <tr>\n",
       "      <th>0</th>\n",
       "      <td>aneagoie</td>\n",
       "      <td>10268</td>\n",
       "    </tr>\n",
       "    <tr>\n",
       "      <th>1</th>\n",
       "      <td>ZhangMYihua</td>\n",
       "      <td>5804</td>\n",
       "    </tr>\n",
       "    <tr>\n",
       "      <th>2</th>\n",
       "      <td>susanli2016</td>\n",
       "      <td>4917</td>\n",
       "    </tr>\n",
       "    <tr>\n",
       "      <th>3</th>\n",
       "      <td>thedaviddias</td>\n",
       "      <td>4533</td>\n",
       "    </tr>\n",
       "    <tr>\n",
       "      <th>4</th>\n",
       "      <td>ange-yaghi</td>\n",
       "      <td>4020</td>\n",
       "    </tr>\n",
       "  </tbody>\n",
       "</table>\n",
       "</div>"
      ],
      "text/plain": [
       "          login  followers\n",
       "0      aneagoie      10268\n",
       "1   ZhangMYihua       5804\n",
       "2   susanli2016       4917\n",
       "3  thedaviddias       4533\n",
       "4    ange-yaghi       4020"
      ]
     },
     "execution_count": 30,
     "metadata": {},
     "output_type": "execute_result"
    }
   ],
   "source": [
    "users_df.nlargest(n=5, columns='followers')[['login', 'followers']]"
   ]
  },
  {
   "cell_type": "code",
   "execution_count": 31,
   "metadata": {},
   "outputs": [
    {
     "data": {
      "text/plain": [
       "'aneagoie,ZhangMYihua,susanli2016,thedaviddias,ange-yaghi'"
      ]
     },
     "execution_count": 31,
     "metadata": {},
     "output_type": "execute_result"
    }
   ],
   "source": [
    "','.join(users_df.nlargest(n=5, columns='followers')['login'].to_list())"
   ]
  },
  {
   "cell_type": "markdown",
   "metadata": {},
   "source": [
    "Q2. Who are the 5 earliest registered GitHub users in Toronto? List their login in ascending order of created_at, comma-separated."
   ]
  },
  {
   "cell_type": "code",
   "execution_count": 32,
   "metadata": {},
   "outputs": [
    {
     "data": {
      "text/html": [
       "<div>\n",
       "<style scoped>\n",
       "    .dataframe tbody tr th:only-of-type {\n",
       "        vertical-align: middle;\n",
       "    }\n",
       "\n",
       "    .dataframe tbody tr th {\n",
       "        vertical-align: top;\n",
       "    }\n",
       "\n",
       "    .dataframe thead th {\n",
       "        text-align: right;\n",
       "    }\n",
       "</style>\n",
       "<table border=\"1\" class=\"dataframe\">\n",
       "  <thead>\n",
       "    <tr style=\"text-align: right;\">\n",
       "      <th></th>\n",
       "      <th>login</th>\n",
       "      <th>name</th>\n",
       "      <th>company</th>\n",
       "      <th>location</th>\n",
       "      <th>email</th>\n",
       "      <th>hireable</th>\n",
       "      <th>bio</th>\n",
       "      <th>public_repos</th>\n",
       "      <th>followers</th>\n",
       "      <th>following</th>\n",
       "      <th>created_at</th>\n",
       "    </tr>\n",
       "  </thead>\n",
       "  <tbody>\n",
       "    <tr>\n",
       "      <th>0</th>\n",
       "      <td>aneagoie</td>\n",
       "      <td>Andrei Neagoie</td>\n",
       "      <td>NaN</td>\n",
       "      <td>Toronto, Canada</td>\n",
       "      <td>NaN</td>\n",
       "      <td>True</td>\n",
       "      <td>Senior Software Dev turned Instructor. Founder...</td>\n",
       "      <td>145</td>\n",
       "      <td>10268</td>\n",
       "      <td>1</td>\n",
       "      <td>2015-01-30 17:05:43+00:00</td>\n",
       "    </tr>\n",
       "    <tr>\n",
       "      <th>1</th>\n",
       "      <td>ZhangMYihua</td>\n",
       "      <td>Yihua Zhang</td>\n",
       "      <td>NaN</td>\n",
       "      <td>Toronto</td>\n",
       "      <td>yihuazhang2@gmail.com</td>\n",
       "      <td>False</td>\n",
       "      <td>Toronto Software Developer</td>\n",
       "      <td>143</td>\n",
       "      <td>5804</td>\n",
       "      <td>11</td>\n",
       "      <td>2015-01-18 00:01:02+00:00</td>\n",
       "    </tr>\n",
       "    <tr>\n",
       "      <th>2</th>\n",
       "      <td>susanli2016</td>\n",
       "      <td>Susan Li</td>\n",
       "      <td>NaN</td>\n",
       "      <td>Toronto Canada</td>\n",
       "      <td>NaN</td>\n",
       "      <td>False</td>\n",
       "      <td>Chief Data Scientist</td>\n",
       "      <td>34</td>\n",
       "      <td>4917</td>\n",
       "      <td>68</td>\n",
       "      <td>2016-11-28 04:22:39+00:00</td>\n",
       "    </tr>\n",
       "    <tr>\n",
       "      <th>3</th>\n",
       "      <td>thedaviddias</td>\n",
       "      <td>David Dias</td>\n",
       "      <td>KIJIJICA</td>\n",
       "      <td>Toronto, Canada</td>\n",
       "      <td>NaN</td>\n",
       "      <td>False</td>\n",
       "      <td>💻 Passionate Front-End Dev &amp; 🎨 UI/UX fan. Cont...</td>\n",
       "      <td>89</td>\n",
       "      <td>4533</td>\n",
       "      <td>301</td>\n",
       "      <td>2010-04-05 14:40:12+00:00</td>\n",
       "    </tr>\n",
       "    <tr>\n",
       "      <th>4</th>\n",
       "      <td>ange-yaghi</td>\n",
       "      <td>Ange Yaghi</td>\n",
       "      <td>NaN</td>\n",
       "      <td>Toronto</td>\n",
       "      <td>me@angeyaghi.com</td>\n",
       "      <td>False</td>\n",
       "      <td>C++ Developer</td>\n",
       "      <td>32</td>\n",
       "      <td>4020</td>\n",
       "      <td>11</td>\n",
       "      <td>2016-07-13 21:01:21+00:00</td>\n",
       "    </tr>\n",
       "  </tbody>\n",
       "</table>\n",
       "</div>"
      ],
      "text/plain": [
       "          login            name   company         location  \\\n",
       "0      aneagoie  Andrei Neagoie       NaN  Toronto, Canada   \n",
       "1   ZhangMYihua     Yihua Zhang       NaN          Toronto   \n",
       "2   susanli2016        Susan Li       NaN   Toronto Canada   \n",
       "3  thedaviddias      David Dias  KIJIJICA  Toronto, Canada   \n",
       "4    ange-yaghi      Ange Yaghi       NaN          Toronto   \n",
       "\n",
       "                   email  hireable  \\\n",
       "0                    NaN      True   \n",
       "1  yihuazhang2@gmail.com     False   \n",
       "2                    NaN     False   \n",
       "3                    NaN     False   \n",
       "4       me@angeyaghi.com     False   \n",
       "\n",
       "                                                 bio  public_repos  followers  \\\n",
       "0  Senior Software Dev turned Instructor. Founder...           145      10268   \n",
       "1                         Toronto Software Developer           143       5804   \n",
       "2                               Chief Data Scientist            34       4917   \n",
       "3  💻 Passionate Front-End Dev & 🎨 UI/UX fan. Cont...            89       4533   \n",
       "4                                      C++ Developer            32       4020   \n",
       "\n",
       "   following                created_at  \n",
       "0          1 2015-01-30 17:05:43+00:00  \n",
       "1         11 2015-01-18 00:01:02+00:00  \n",
       "2         68 2016-11-28 04:22:39+00:00  \n",
       "3        301 2010-04-05 14:40:12+00:00  \n",
       "4         11 2016-07-13 21:01:21+00:00  "
      ]
     },
     "execution_count": 32,
     "metadata": {},
     "output_type": "execute_result"
    }
   ],
   "source": [
    "users_df['created_at'] = pd.to_datetime(users_df['created_at'])\n",
    "users_df.head()"
   ]
  },
  {
   "cell_type": "code",
   "execution_count": 33,
   "metadata": {},
   "outputs": [
    {
     "data": {
      "text/html": [
       "<div>\n",
       "<style scoped>\n",
       "    .dataframe tbody tr th:only-of-type {\n",
       "        vertical-align: middle;\n",
       "    }\n",
       "\n",
       "    .dataframe tbody tr th {\n",
       "        vertical-align: top;\n",
       "    }\n",
       "\n",
       "    .dataframe thead th {\n",
       "        text-align: right;\n",
       "    }\n",
       "</style>\n",
       "<table border=\"1\" class=\"dataframe\">\n",
       "  <thead>\n",
       "    <tr style=\"text-align: right;\">\n",
       "      <th></th>\n",
       "      <th>login</th>\n",
       "      <th>created_at</th>\n",
       "    </tr>\n",
       "  </thead>\n",
       "  <tbody>\n",
       "    <tr>\n",
       "      <th>428</th>\n",
       "      <td>jamesmacaulay</td>\n",
       "      <td>2008-02-17 20:11:15+00:00</td>\n",
       "    </tr>\n",
       "    <tr>\n",
       "      <th>21</th>\n",
       "      <td>michaelklishin</td>\n",
       "      <td>2008-02-27 16:49:40+00:00</td>\n",
       "    </tr>\n",
       "    <tr>\n",
       "      <th>522</th>\n",
       "      <td>myles</td>\n",
       "      <td>2008-02-27 22:49:45+00:00</td>\n",
       "    </tr>\n",
       "    <tr>\n",
       "      <th>575</th>\n",
       "      <td>nwjsmith</td>\n",
       "      <td>2008-02-28 00:38:55+00:00</td>\n",
       "    </tr>\n",
       "    <tr>\n",
       "      <th>78</th>\n",
       "      <td>vito</td>\n",
       "      <td>2008-03-01 18:39:55+00:00</td>\n",
       "    </tr>\n",
       "  </tbody>\n",
       "</table>\n",
       "</div>"
      ],
      "text/plain": [
       "              login                created_at\n",
       "428   jamesmacaulay 2008-02-17 20:11:15+00:00\n",
       "21   michaelklishin 2008-02-27 16:49:40+00:00\n",
       "522           myles 2008-02-27 22:49:45+00:00\n",
       "575        nwjsmith 2008-02-28 00:38:55+00:00\n",
       "78             vito 2008-03-01 18:39:55+00:00"
      ]
     },
     "execution_count": 33,
     "metadata": {},
     "output_type": "execute_result"
    }
   ],
   "source": [
    "users_df.iloc[users_df['created_at'].sort_values(ascending=True).index[:5].to_list()][['login', 'created_at']]"
   ]
  },
  {
   "cell_type": "code",
   "execution_count": 34,
   "metadata": {},
   "outputs": [
    {
     "data": {
      "text/plain": [
       "'jamesmacaulay,michaelklishin,myles,nwjsmith,vito'"
      ]
     },
     "execution_count": 34,
     "metadata": {},
     "output_type": "execute_result"
    }
   ],
   "source": [
    "oldest_users = users_df.iloc[users_df['created_at'].sort_values(ascending=True).index[:5].to_list()]['login'].to_list()\n",
    "','.join(sorted(oldest_users))"
   ]
  },
  {
   "cell_type": "markdown",
   "metadata": {},
   "source": [
    "Q3. What are the 3 most popular license among these users? Ignore missing licenses. List the license_name in order, comma-separated."
   ]
  },
  {
   "cell_type": "code",
   "execution_count": 35,
   "metadata": {},
   "outputs": [
    {
     "data": {
      "text/html": [
       "<div>\n",
       "<style scoped>\n",
       "    .dataframe tbody tr th:only-of-type {\n",
       "        vertical-align: middle;\n",
       "    }\n",
       "\n",
       "    .dataframe tbody tr th {\n",
       "        vertical-align: top;\n",
       "    }\n",
       "\n",
       "    .dataframe thead th {\n",
       "        text-align: right;\n",
       "    }\n",
       "</style>\n",
       "<table border=\"1\" class=\"dataframe\">\n",
       "  <thead>\n",
       "    <tr style=\"text-align: right;\">\n",
       "      <th></th>\n",
       "      <th>login</th>\n",
       "      <th>full_name</th>\n",
       "      <th>created_at</th>\n",
       "      <th>stargazers_count</th>\n",
       "      <th>watchers_count</th>\n",
       "      <th>language</th>\n",
       "      <th>has_projects</th>\n",
       "      <th>has_wiki</th>\n",
       "      <th>license_name</th>\n",
       "    </tr>\n",
       "  </thead>\n",
       "  <tbody>\n",
       "    <tr>\n",
       "      <th>0</th>\n",
       "      <td>aneagoie</td>\n",
       "      <td>aneagoie/ztm-extension</td>\n",
       "      <td>2023-12-15 13:32:57+00:00</td>\n",
       "      <td>3</td>\n",
       "      <td>3</td>\n",
       "      <td>JavaScript</td>\n",
       "      <td>True</td>\n",
       "      <td>False</td>\n",
       "      <td>mit</td>\n",
       "    </tr>\n",
       "    <tr>\n",
       "      <th>1</th>\n",
       "      <td>aneagoie</td>\n",
       "      <td>aneagoie/ML-Notes</td>\n",
       "      <td>2019-09-28 02:31:10+00:00</td>\n",
       "      <td>60</td>\n",
       "      <td>60</td>\n",
       "      <td>Jupyter Notebook</td>\n",
       "      <td>True</td>\n",
       "      <td>True</td>\n",
       "      <td>NaN</td>\n",
       "    </tr>\n",
       "    <tr>\n",
       "      <th>2</th>\n",
       "      <td>aneagoie</td>\n",
       "      <td>aneagoie/smart-brain-boost-api-dockerized</td>\n",
       "      <td>2018-04-12 18:44:49+00:00</td>\n",
       "      <td>55</td>\n",
       "      <td>55</td>\n",
       "      <td>JavaScript</td>\n",
       "      <td>True</td>\n",
       "      <td>True</td>\n",
       "      <td>NaN</td>\n",
       "    </tr>\n",
       "    <tr>\n",
       "      <th>3</th>\n",
       "      <td>aneagoie</td>\n",
       "      <td>aneagoie/smart-brain-boost-api</td>\n",
       "      <td>2018-04-09 18:46:06+00:00</td>\n",
       "      <td>14</td>\n",
       "      <td>14</td>\n",
       "      <td>JavaScript</td>\n",
       "      <td>True</td>\n",
       "      <td>True</td>\n",
       "      <td>NaN</td>\n",
       "    </tr>\n",
       "    <tr>\n",
       "      <th>4</th>\n",
       "      <td>aneagoie</td>\n",
       "      <td>aneagoie/smart-brain-boost-lambda</td>\n",
       "      <td>2018-04-15 17:02:27+00:00</td>\n",
       "      <td>20</td>\n",
       "      <td>20</td>\n",
       "      <td>JavaScript</td>\n",
       "      <td>True</td>\n",
       "      <td>True</td>\n",
       "      <td>NaN</td>\n",
       "    </tr>\n",
       "  </tbody>\n",
       "</table>\n",
       "</div>"
      ],
      "text/plain": [
       "      login                                  full_name  \\\n",
       "0  aneagoie                     aneagoie/ztm-extension   \n",
       "1  aneagoie                          aneagoie/ML-Notes   \n",
       "2  aneagoie  aneagoie/smart-brain-boost-api-dockerized   \n",
       "3  aneagoie             aneagoie/smart-brain-boost-api   \n",
       "4  aneagoie          aneagoie/smart-brain-boost-lambda   \n",
       "\n",
       "                 created_at  stargazers_count  watchers_count  \\\n",
       "0 2023-12-15 13:32:57+00:00                 3               3   \n",
       "1 2019-09-28 02:31:10+00:00                60              60   \n",
       "2 2018-04-12 18:44:49+00:00                55              55   \n",
       "3 2018-04-09 18:46:06+00:00                14              14   \n",
       "4 2018-04-15 17:02:27+00:00                20              20   \n",
       "\n",
       "           language  has_projects  has_wiki license_name  \n",
       "0        JavaScript          True     False          mit  \n",
       "1  Jupyter Notebook          True      True          NaN  \n",
       "2        JavaScript          True      True          NaN  \n",
       "3        JavaScript          True      True          NaN  \n",
       "4        JavaScript          True      True          NaN  "
      ]
     },
     "execution_count": 35,
     "metadata": {},
     "output_type": "execute_result"
    }
   ],
   "source": [
    "repos_df['created_at'] = pd.to_datetime(repos_df['created_at'])\n",
    "repos_df.head()"
   ]
  },
  {
   "cell_type": "code",
   "execution_count": 36,
   "metadata": {},
   "outputs": [
    {
     "data": {
      "text/plain": [
       "license_name\n",
       "mit           13343\n",
       "other          4221\n",
       "apache-2.0     4061\n",
       "Name: count, dtype: int64"
      ]
     },
     "execution_count": 36,
     "metadata": {},
     "output_type": "execute_result"
    }
   ],
   "source": [
    "repos_df['license_name'].value_counts(dropna=True)[:3]"
   ]
  },
  {
   "cell_type": "code",
   "execution_count": 37,
   "metadata": {},
   "outputs": [
    {
     "data": {
      "text/plain": [
       "'mit,other,apache-2.0'"
      ]
     },
     "execution_count": 37,
     "metadata": {},
     "output_type": "execute_result"
    }
   ],
   "source": [
    "','.join(repos_df['license_name'].value_counts(dropna=True).index[:3].to_list())"
   ]
  },
  {
   "cell_type": "code",
   "execution_count": 38,
   "metadata": {},
   "outputs": [
    {
     "data": {
      "text/plain": [
       "np.int64(27297)"
      ]
     },
     "execution_count": 38,
     "metadata": {},
     "output_type": "execute_result"
    }
   ],
   "source": [
    "repos_df['license_name'].isna().sum()"
   ]
  },
  {
   "cell_type": "markdown",
   "metadata": {},
   "source": [
    "Q4. Which company do the majority of these developers work at?"
   ]
  },
  {
   "cell_type": "code",
   "execution_count": 39,
   "metadata": {},
   "outputs": [
    {
     "data": {
      "text/plain": [
       "company\n",
       "UNIVERSITY OF TORONTO    21\n",
       "SHOPIFY                  16\n",
       "NVIDIA                    7\n",
       "GOOGLE                    6\n",
       "YORK UNIVERSITY           5\n",
       "Name: count, dtype: int64"
      ]
     },
     "execution_count": 39,
     "metadata": {},
     "output_type": "execute_result"
    }
   ],
   "source": [
    "users_df['company'].value_counts()[:5]"
   ]
  },
  {
   "cell_type": "code",
   "execution_count": 40,
   "metadata": {},
   "outputs": [
    {
     "data": {
      "text/plain": [
       "'UNIVERSITY OF TORONTO'"
      ]
     },
     "execution_count": 40,
     "metadata": {},
     "output_type": "execute_result"
    }
   ],
   "source": [
    "users_df['company'].value_counts().index[0]"
   ]
  },
  {
   "cell_type": "markdown",
   "metadata": {},
   "source": [
    "Q5. Which programming language is most popular among these users?"
   ]
  },
  {
   "cell_type": "code",
   "execution_count": 41,
   "metadata": {},
   "outputs": [
    {
     "data": {
      "text/plain": [
       "language\n",
       "JavaScript    10654\n",
       "Python         5029\n",
       "TypeScript     2228\n",
       "Java           2104\n",
       "Ruby           2101\n",
       "Name: count, dtype: int64"
      ]
     },
     "execution_count": 41,
     "metadata": {},
     "output_type": "execute_result"
    }
   ],
   "source": [
    "repos_df['language'].value_counts()[:5]"
   ]
  },
  {
   "cell_type": "code",
   "execution_count": 42,
   "metadata": {},
   "outputs": [
    {
     "data": {
      "text/plain": [
       "'JavaScript'"
      ]
     },
     "execution_count": 42,
     "metadata": {},
     "output_type": "execute_result"
    }
   ],
   "source": [
    "repos_df['language'].value_counts().index[0]"
   ]
  },
  {
   "cell_type": "markdown",
   "metadata": {},
   "source": [
    "Q6. Which programming language is the second most popular among users who joined after 2020?"
   ]
  },
  {
   "cell_type": "code",
   "execution_count": 43,
   "metadata": {},
   "outputs": [
    {
     "name": "stdout",
     "output_type": "stream",
     "text": [
      "\u001b[0;31mSignature:\u001b[0m\n",
      "\u001b[0mpd\u001b[0m\u001b[0;34m.\u001b[0m\u001b[0mmerge\u001b[0m\u001b[0;34m(\u001b[0m\u001b[0;34m\u001b[0m\n",
      "\u001b[0;34m\u001b[0m    \u001b[0mleft\u001b[0m\u001b[0;34m:\u001b[0m \u001b[0;34m'DataFrame | Series'\u001b[0m\u001b[0;34m,\u001b[0m\u001b[0;34m\u001b[0m\n",
      "\u001b[0;34m\u001b[0m    \u001b[0mright\u001b[0m\u001b[0;34m:\u001b[0m \u001b[0;34m'DataFrame | Series'\u001b[0m\u001b[0;34m,\u001b[0m\u001b[0;34m\u001b[0m\n",
      "\u001b[0;34m\u001b[0m    \u001b[0mhow\u001b[0m\u001b[0;34m:\u001b[0m \u001b[0;34m'MergeHow'\u001b[0m \u001b[0;34m=\u001b[0m \u001b[0;34m'inner'\u001b[0m\u001b[0;34m,\u001b[0m\u001b[0;34m\u001b[0m\n",
      "\u001b[0;34m\u001b[0m    \u001b[0mon\u001b[0m\u001b[0;34m:\u001b[0m \u001b[0;34m'IndexLabel | AnyArrayLike | None'\u001b[0m \u001b[0;34m=\u001b[0m \u001b[0;32mNone\u001b[0m\u001b[0;34m,\u001b[0m\u001b[0;34m\u001b[0m\n",
      "\u001b[0;34m\u001b[0m    \u001b[0mleft_on\u001b[0m\u001b[0;34m:\u001b[0m \u001b[0;34m'IndexLabel | AnyArrayLike | None'\u001b[0m \u001b[0;34m=\u001b[0m \u001b[0;32mNone\u001b[0m\u001b[0;34m,\u001b[0m\u001b[0;34m\u001b[0m\n",
      "\u001b[0;34m\u001b[0m    \u001b[0mright_on\u001b[0m\u001b[0;34m:\u001b[0m \u001b[0;34m'IndexLabel | AnyArrayLike | None'\u001b[0m \u001b[0;34m=\u001b[0m \u001b[0;32mNone\u001b[0m\u001b[0;34m,\u001b[0m\u001b[0;34m\u001b[0m\n",
      "\u001b[0;34m\u001b[0m    \u001b[0mleft_index\u001b[0m\u001b[0;34m:\u001b[0m \u001b[0;34m'bool'\u001b[0m \u001b[0;34m=\u001b[0m \u001b[0;32mFalse\u001b[0m\u001b[0;34m,\u001b[0m\u001b[0;34m\u001b[0m\n",
      "\u001b[0;34m\u001b[0m    \u001b[0mright_index\u001b[0m\u001b[0;34m:\u001b[0m \u001b[0;34m'bool'\u001b[0m \u001b[0;34m=\u001b[0m \u001b[0;32mFalse\u001b[0m\u001b[0;34m,\u001b[0m\u001b[0;34m\u001b[0m\n",
      "\u001b[0;34m\u001b[0m    \u001b[0msort\u001b[0m\u001b[0;34m:\u001b[0m \u001b[0;34m'bool'\u001b[0m \u001b[0;34m=\u001b[0m \u001b[0;32mFalse\u001b[0m\u001b[0;34m,\u001b[0m\u001b[0;34m\u001b[0m\n",
      "\u001b[0;34m\u001b[0m    \u001b[0msuffixes\u001b[0m\u001b[0;34m:\u001b[0m \u001b[0;34m'Suffixes'\u001b[0m \u001b[0;34m=\u001b[0m \u001b[0;34m(\u001b[0m\u001b[0;34m'_x'\u001b[0m\u001b[0;34m,\u001b[0m \u001b[0;34m'_y'\u001b[0m\u001b[0;34m)\u001b[0m\u001b[0;34m,\u001b[0m\u001b[0;34m\u001b[0m\n",
      "\u001b[0;34m\u001b[0m    \u001b[0mcopy\u001b[0m\u001b[0;34m:\u001b[0m \u001b[0;34m'bool | None'\u001b[0m \u001b[0;34m=\u001b[0m \u001b[0;32mNone\u001b[0m\u001b[0;34m,\u001b[0m\u001b[0;34m\u001b[0m\n",
      "\u001b[0;34m\u001b[0m    \u001b[0mindicator\u001b[0m\u001b[0;34m:\u001b[0m \u001b[0;34m'str | bool'\u001b[0m \u001b[0;34m=\u001b[0m \u001b[0;32mFalse\u001b[0m\u001b[0;34m,\u001b[0m\u001b[0;34m\u001b[0m\n",
      "\u001b[0;34m\u001b[0m    \u001b[0mvalidate\u001b[0m\u001b[0;34m:\u001b[0m \u001b[0;34m'str | None'\u001b[0m \u001b[0;34m=\u001b[0m \u001b[0;32mNone\u001b[0m\u001b[0;34m,\u001b[0m\u001b[0;34m\u001b[0m\n",
      "\u001b[0;34m\u001b[0m\u001b[0;34m)\u001b[0m \u001b[0;34m->\u001b[0m \u001b[0;34m'DataFrame'\u001b[0m\u001b[0;34m\u001b[0m\u001b[0;34m\u001b[0m\u001b[0m\n",
      "\u001b[0;31mDocstring:\u001b[0m\n",
      "Merge DataFrame or named Series objects with a database-style join.\n",
      "\n",
      "A named Series object is treated as a DataFrame with a single named column.\n",
      "\n",
      "The join is done on columns or indexes. If joining columns on\n",
      "columns, the DataFrame indexes *will be ignored*. Otherwise if joining indexes\n",
      "on indexes or indexes on a column or columns, the index will be passed on.\n",
      "When performing a cross merge, no column specifications to merge on are\n",
      "allowed.\n",
      "\n",
      ".. warning::\n",
      "\n",
      "    If both key columns contain rows where the key is a null value, those\n",
      "    rows will be matched against each other. This is different from usual SQL\n",
      "    join behaviour and can lead to unexpected results.\n",
      "\n",
      "Parameters\n",
      "----------\n",
      "left : DataFrame or named Series\n",
      "right : DataFrame or named Series\n",
      "    Object to merge with.\n",
      "how : {'left', 'right', 'outer', 'inner', 'cross'}, default 'inner'\n",
      "    Type of merge to be performed.\n",
      "\n",
      "    * left: use only keys from left frame, similar to a SQL left outer join;\n",
      "      preserve key order.\n",
      "    * right: use only keys from right frame, similar to a SQL right outer join;\n",
      "      preserve key order.\n",
      "    * outer: use union of keys from both frames, similar to a SQL full outer\n",
      "      join; sort keys lexicographically.\n",
      "    * inner: use intersection of keys from both frames, similar to a SQL inner\n",
      "      join; preserve the order of the left keys.\n",
      "    * cross: creates the cartesian product from both frames, preserves the order\n",
      "      of the left keys.\n",
      "on : label or list\n",
      "    Column or index level names to join on. These must be found in both\n",
      "    DataFrames. If `on` is None and not merging on indexes then this defaults\n",
      "    to the intersection of the columns in both DataFrames.\n",
      "left_on : label or list, or array-like\n",
      "    Column or index level names to join on in the left DataFrame. Can also\n",
      "    be an array or list of arrays of the length of the left DataFrame.\n",
      "    These arrays are treated as if they are columns.\n",
      "right_on : label or list, or array-like\n",
      "    Column or index level names to join on in the right DataFrame. Can also\n",
      "    be an array or list of arrays of the length of the right DataFrame.\n",
      "    These arrays are treated as if they are columns.\n",
      "left_index : bool, default False\n",
      "    Use the index from the left DataFrame as the join key(s). If it is a\n",
      "    MultiIndex, the number of keys in the other DataFrame (either the index\n",
      "    or a number of columns) must match the number of levels.\n",
      "right_index : bool, default False\n",
      "    Use the index from the right DataFrame as the join key. Same caveats as\n",
      "    left_index.\n",
      "sort : bool, default False\n",
      "    Sort the join keys lexicographically in the result DataFrame. If False,\n",
      "    the order of the join keys depends on the join type (how keyword).\n",
      "suffixes : list-like, default is (\"_x\", \"_y\")\n",
      "    A length-2 sequence where each element is optionally a string\n",
      "    indicating the suffix to add to overlapping column names in\n",
      "    `left` and `right` respectively. Pass a value of `None` instead\n",
      "    of a string to indicate that the column name from `left` or\n",
      "    `right` should be left as-is, with no suffix. At least one of the\n",
      "    values must not be None.\n",
      "copy : bool, default True\n",
      "    If False, avoid copy if possible.\n",
      "\n",
      "    .. note::\n",
      "        The `copy` keyword will change behavior in pandas 3.0.\n",
      "        `Copy-on-Write\n",
      "        <https://pandas.pydata.org/docs/dev/user_guide/copy_on_write.html>`__\n",
      "        will be enabled by default, which means that all methods with a\n",
      "        `copy` keyword will use a lazy copy mechanism to defer the copy and\n",
      "        ignore the `copy` keyword. The `copy` keyword will be removed in a\n",
      "        future version of pandas.\n",
      "\n",
      "        You can already get the future behavior and improvements through\n",
      "        enabling copy on write ``pd.options.mode.copy_on_write = True``\n",
      "indicator : bool or str, default False\n",
      "    If True, adds a column to the output DataFrame called \"_merge\" with\n",
      "    information on the source of each row. The column can be given a different\n",
      "    name by providing a string argument. The column will have a Categorical\n",
      "    type with the value of \"left_only\" for observations whose merge key only\n",
      "    appears in the left DataFrame, \"right_only\" for observations\n",
      "    whose merge key only appears in the right DataFrame, and \"both\"\n",
      "    if the observation's merge key is found in both DataFrames.\n",
      "\n",
      "validate : str, optional\n",
      "    If specified, checks if merge is of specified type.\n",
      "\n",
      "    * \"one_to_one\" or \"1:1\": check if merge keys are unique in both\n",
      "      left and right datasets.\n",
      "    * \"one_to_many\" or \"1:m\": check if merge keys are unique in left\n",
      "      dataset.\n",
      "    * \"many_to_one\" or \"m:1\": check if merge keys are unique in right\n",
      "      dataset.\n",
      "    * \"many_to_many\" or \"m:m\": allowed, but does not result in checks.\n",
      "\n",
      "Returns\n",
      "-------\n",
      "DataFrame\n",
      "    A DataFrame of the two merged objects.\n",
      "\n",
      "See Also\n",
      "--------\n",
      "merge_ordered : Merge with optional filling/interpolation.\n",
      "merge_asof : Merge on nearest keys.\n",
      "DataFrame.join : Similar method using indices.\n",
      "\n",
      "Examples\n",
      "--------\n",
      ">>> df1 = pd.DataFrame({'lkey': ['foo', 'bar', 'baz', 'foo'],\n",
      "...                     'value': [1, 2, 3, 5]})\n",
      ">>> df2 = pd.DataFrame({'rkey': ['foo', 'bar', 'baz', 'foo'],\n",
      "...                     'value': [5, 6, 7, 8]})\n",
      ">>> df1\n",
      "    lkey value\n",
      "0   foo      1\n",
      "1   bar      2\n",
      "2   baz      3\n",
      "3   foo      5\n",
      ">>> df2\n",
      "    rkey value\n",
      "0   foo      5\n",
      "1   bar      6\n",
      "2   baz      7\n",
      "3   foo      8\n",
      "\n",
      "Merge df1 and df2 on the lkey and rkey columns. The value columns have\n",
      "the default suffixes, _x and _y, appended.\n",
      "\n",
      ">>> df1.merge(df2, left_on='lkey', right_on='rkey')\n",
      "  lkey  value_x rkey  value_y\n",
      "0  foo        1  foo        5\n",
      "1  foo        1  foo        8\n",
      "2  bar        2  bar        6\n",
      "3  baz        3  baz        7\n",
      "4  foo        5  foo        5\n",
      "5  foo        5  foo        8\n",
      "\n",
      "Merge DataFrames df1 and df2 with specified left and right suffixes\n",
      "appended to any overlapping columns.\n",
      "\n",
      ">>> df1.merge(df2, left_on='lkey', right_on='rkey',\n",
      "...           suffixes=('_left', '_right'))\n",
      "  lkey  value_left rkey  value_right\n",
      "0  foo           1  foo            5\n",
      "1  foo           1  foo            8\n",
      "2  bar           2  bar            6\n",
      "3  baz           3  baz            7\n",
      "4  foo           5  foo            5\n",
      "5  foo           5  foo            8\n",
      "\n",
      "Merge DataFrames df1 and df2, but raise an exception if the DataFrames have\n",
      "any overlapping columns.\n",
      "\n",
      ">>> df1.merge(df2, left_on='lkey', right_on='rkey', suffixes=(False, False))\n",
      "Traceback (most recent call last):\n",
      "...\n",
      "ValueError: columns overlap but no suffix specified:\n",
      "    Index(['value'], dtype='object')\n",
      "\n",
      ">>> df1 = pd.DataFrame({'a': ['foo', 'bar'], 'b': [1, 2]})\n",
      ">>> df2 = pd.DataFrame({'a': ['foo', 'baz'], 'c': [3, 4]})\n",
      ">>> df1\n",
      "      a  b\n",
      "0   foo  1\n",
      "1   bar  2\n",
      ">>> df2\n",
      "      a  c\n",
      "0   foo  3\n",
      "1   baz  4\n",
      "\n",
      ">>> df1.merge(df2, how='inner', on='a')\n",
      "      a  b  c\n",
      "0   foo  1  3\n",
      "\n",
      ">>> df1.merge(df2, how='left', on='a')\n",
      "      a  b  c\n",
      "0   foo  1  3.0\n",
      "1   bar  2  NaN\n",
      "\n",
      ">>> df1 = pd.DataFrame({'left': ['foo', 'bar']})\n",
      ">>> df2 = pd.DataFrame({'right': [7, 8]})\n",
      ">>> df1\n",
      "    left\n",
      "0   foo\n",
      "1   bar\n",
      ">>> df2\n",
      "    right\n",
      "0   7\n",
      "1   8\n",
      "\n",
      ">>> df1.merge(df2, how='cross')\n",
      "   left  right\n",
      "0   foo      7\n",
      "1   foo      8\n",
      "2   bar      7\n",
      "3   bar      8\n",
      "\u001b[0;31mFile:\u001b[0m      ~/Desktop/iit-bs/diploma-data-science/tools-in-data-science/project/github-profiles/.venv/lib/python3.10/site-packages/pandas/core/reshape/merge.py\n",
      "\u001b[0;31mType:\u001b[0m      function"
     ]
    }
   ],
   "source": [
    "pd.merge?"
   ]
  },
  {
   "cell_type": "code",
   "execution_count": 44,
   "metadata": {},
   "outputs": [
    {
     "data": {
      "text/html": [
       "<div>\n",
       "<style scoped>\n",
       "    .dataframe tbody tr th:only-of-type {\n",
       "        vertical-align: middle;\n",
       "    }\n",
       "\n",
       "    .dataframe tbody tr th {\n",
       "        vertical-align: top;\n",
       "    }\n",
       "\n",
       "    .dataframe thead th {\n",
       "        text-align: right;\n",
       "    }\n",
       "</style>\n",
       "<table border=\"1\" class=\"dataframe\">\n",
       "  <thead>\n",
       "    <tr style=\"text-align: right;\">\n",
       "      <th></th>\n",
       "      <th>login</th>\n",
       "      <th>full_name</th>\n",
       "      <th>created_at_repo</th>\n",
       "      <th>stargazers_count</th>\n",
       "      <th>watchers_count</th>\n",
       "      <th>language</th>\n",
       "      <th>has_projects</th>\n",
       "      <th>has_wiki</th>\n",
       "      <th>license_name</th>\n",
       "      <th>name</th>\n",
       "      <th>company</th>\n",
       "      <th>location</th>\n",
       "      <th>email</th>\n",
       "      <th>hireable</th>\n",
       "      <th>bio</th>\n",
       "      <th>public_repos</th>\n",
       "      <th>followers</th>\n",
       "      <th>following</th>\n",
       "      <th>created_at_user</th>\n",
       "    </tr>\n",
       "  </thead>\n",
       "  <tbody>\n",
       "    <tr>\n",
       "      <th>0</th>\n",
       "      <td>aneagoie</td>\n",
       "      <td>aneagoie/ztm-extension</td>\n",
       "      <td>2023-12-15 13:32:57+00:00</td>\n",
       "      <td>3</td>\n",
       "      <td>3</td>\n",
       "      <td>JavaScript</td>\n",
       "      <td>True</td>\n",
       "      <td>False</td>\n",
       "      <td>mit</td>\n",
       "      <td>Andrei Neagoie</td>\n",
       "      <td>NaN</td>\n",
       "      <td>Toronto, Canada</td>\n",
       "      <td>NaN</td>\n",
       "      <td>True</td>\n",
       "      <td>Senior Software Dev turned Instructor. Founder...</td>\n",
       "      <td>145</td>\n",
       "      <td>10268</td>\n",
       "      <td>1</td>\n",
       "      <td>2015-01-30 17:05:43+00:00</td>\n",
       "    </tr>\n",
       "    <tr>\n",
       "      <th>1</th>\n",
       "      <td>aneagoie</td>\n",
       "      <td>aneagoie/ML-Notes</td>\n",
       "      <td>2019-09-28 02:31:10+00:00</td>\n",
       "      <td>60</td>\n",
       "      <td>60</td>\n",
       "      <td>Jupyter Notebook</td>\n",
       "      <td>True</td>\n",
       "      <td>True</td>\n",
       "      <td>NaN</td>\n",
       "      <td>Andrei Neagoie</td>\n",
       "      <td>NaN</td>\n",
       "      <td>Toronto, Canada</td>\n",
       "      <td>NaN</td>\n",
       "      <td>True</td>\n",
       "      <td>Senior Software Dev turned Instructor. Founder...</td>\n",
       "      <td>145</td>\n",
       "      <td>10268</td>\n",
       "      <td>1</td>\n",
       "      <td>2015-01-30 17:05:43+00:00</td>\n",
       "    </tr>\n",
       "    <tr>\n",
       "      <th>2</th>\n",
       "      <td>aneagoie</td>\n",
       "      <td>aneagoie/smart-brain-boost-api-dockerized</td>\n",
       "      <td>2018-04-12 18:44:49+00:00</td>\n",
       "      <td>55</td>\n",
       "      <td>55</td>\n",
       "      <td>JavaScript</td>\n",
       "      <td>True</td>\n",
       "      <td>True</td>\n",
       "      <td>NaN</td>\n",
       "      <td>Andrei Neagoie</td>\n",
       "      <td>NaN</td>\n",
       "      <td>Toronto, Canada</td>\n",
       "      <td>NaN</td>\n",
       "      <td>True</td>\n",
       "      <td>Senior Software Dev turned Instructor. Founder...</td>\n",
       "      <td>145</td>\n",
       "      <td>10268</td>\n",
       "      <td>1</td>\n",
       "      <td>2015-01-30 17:05:43+00:00</td>\n",
       "    </tr>\n",
       "    <tr>\n",
       "      <th>3</th>\n",
       "      <td>aneagoie</td>\n",
       "      <td>aneagoie/smart-brain-boost-api</td>\n",
       "      <td>2018-04-09 18:46:06+00:00</td>\n",
       "      <td>14</td>\n",
       "      <td>14</td>\n",
       "      <td>JavaScript</td>\n",
       "      <td>True</td>\n",
       "      <td>True</td>\n",
       "      <td>NaN</td>\n",
       "      <td>Andrei Neagoie</td>\n",
       "      <td>NaN</td>\n",
       "      <td>Toronto, Canada</td>\n",
       "      <td>NaN</td>\n",
       "      <td>True</td>\n",
       "      <td>Senior Software Dev turned Instructor. Founder...</td>\n",
       "      <td>145</td>\n",
       "      <td>10268</td>\n",
       "      <td>1</td>\n",
       "      <td>2015-01-30 17:05:43+00:00</td>\n",
       "    </tr>\n",
       "    <tr>\n",
       "      <th>4</th>\n",
       "      <td>aneagoie</td>\n",
       "      <td>aneagoie/smart-brain-boost-lambda</td>\n",
       "      <td>2018-04-15 17:02:27+00:00</td>\n",
       "      <td>20</td>\n",
       "      <td>20</td>\n",
       "      <td>JavaScript</td>\n",
       "      <td>True</td>\n",
       "      <td>True</td>\n",
       "      <td>NaN</td>\n",
       "      <td>Andrei Neagoie</td>\n",
       "      <td>NaN</td>\n",
       "      <td>Toronto, Canada</td>\n",
       "      <td>NaN</td>\n",
       "      <td>True</td>\n",
       "      <td>Senior Software Dev turned Instructor. Founder...</td>\n",
       "      <td>145</td>\n",
       "      <td>10268</td>\n",
       "      <td>1</td>\n",
       "      <td>2015-01-30 17:05:43+00:00</td>\n",
       "    </tr>\n",
       "  </tbody>\n",
       "</table>\n",
       "</div>"
      ],
      "text/plain": [
       "      login                                  full_name  \\\n",
       "0  aneagoie                     aneagoie/ztm-extension   \n",
       "1  aneagoie                          aneagoie/ML-Notes   \n",
       "2  aneagoie  aneagoie/smart-brain-boost-api-dockerized   \n",
       "3  aneagoie             aneagoie/smart-brain-boost-api   \n",
       "4  aneagoie          aneagoie/smart-brain-boost-lambda   \n",
       "\n",
       "            created_at_repo  stargazers_count  watchers_count  \\\n",
       "0 2023-12-15 13:32:57+00:00                 3               3   \n",
       "1 2019-09-28 02:31:10+00:00                60              60   \n",
       "2 2018-04-12 18:44:49+00:00                55              55   \n",
       "3 2018-04-09 18:46:06+00:00                14              14   \n",
       "4 2018-04-15 17:02:27+00:00                20              20   \n",
       "\n",
       "           language  has_projects  has_wiki license_name            name  \\\n",
       "0        JavaScript          True     False          mit  Andrei Neagoie   \n",
       "1  Jupyter Notebook          True      True          NaN  Andrei Neagoie   \n",
       "2        JavaScript          True      True          NaN  Andrei Neagoie   \n",
       "3        JavaScript          True      True          NaN  Andrei Neagoie   \n",
       "4        JavaScript          True      True          NaN  Andrei Neagoie   \n",
       "\n",
       "  company         location email  hireable  \\\n",
       "0     NaN  Toronto, Canada   NaN      True   \n",
       "1     NaN  Toronto, Canada   NaN      True   \n",
       "2     NaN  Toronto, Canada   NaN      True   \n",
       "3     NaN  Toronto, Canada   NaN      True   \n",
       "4     NaN  Toronto, Canada   NaN      True   \n",
       "\n",
       "                                                 bio  public_repos  followers  \\\n",
       "0  Senior Software Dev turned Instructor. Founder...           145      10268   \n",
       "1  Senior Software Dev turned Instructor. Founder...           145      10268   \n",
       "2  Senior Software Dev turned Instructor. Founder...           145      10268   \n",
       "3  Senior Software Dev turned Instructor. Founder...           145      10268   \n",
       "4  Senior Software Dev turned Instructor. Founder...           145      10268   \n",
       "\n",
       "   following           created_at_user  \n",
       "0          1 2015-01-30 17:05:43+00:00  \n",
       "1          1 2015-01-30 17:05:43+00:00  \n",
       "2          1 2015-01-30 17:05:43+00:00  \n",
       "3          1 2015-01-30 17:05:43+00:00  \n",
       "4          1 2015-01-30 17:05:43+00:00  "
      ]
     },
     "execution_count": 44,
     "metadata": {},
     "output_type": "execute_result"
    }
   ],
   "source": [
    "merged = repos_df.merge(users_df, how='inner', on='login', suffixes=('_repo', '_user'))\n",
    "merged.head()"
   ]
  },
  {
   "cell_type": "code",
   "execution_count": 45,
   "metadata": {},
   "outputs": [
    {
     "data": {
      "text/plain": [
       "np.int64(640)"
      ]
     },
     "execution_count": 45,
     "metadata": {},
     "output_type": "execute_result"
    }
   ],
   "source": [
    "users_df[users_df['created_at'].dt.year > 2020]['public_repos'].sum()"
   ]
  },
  {
   "cell_type": "code",
   "execution_count": 46,
   "metadata": {},
   "outputs": [
    {
     "data": {
      "text/plain": [
       "language\n",
       "JavaScript    151\n",
       "TypeScript     48\n",
       "HTML           42\n",
       "CSS            31\n",
       "Python         30\n",
       "Name: count, dtype: int64"
      ]
     },
     "execution_count": 46,
     "metadata": {},
     "output_type": "execute_result"
    }
   ],
   "source": [
    "merged[merged['created_at_user'].dt.year > 2020]['language'].value_counts()[:5]"
   ]
  },
  {
   "cell_type": "code",
   "execution_count": 47,
   "metadata": {},
   "outputs": [
    {
     "data": {
      "text/plain": [
       "'TypeScript'"
      ]
     },
     "execution_count": 47,
     "metadata": {},
     "output_type": "execute_result"
    }
   ],
   "source": [
    "merged[merged['created_at_user'].dt.year > 2020]['language'].value_counts().index[1]"
   ]
  },
  {
   "cell_type": "markdown",
   "metadata": {},
   "source": [
    "Q7. Which language has the highest average number of stars per repository?"
   ]
  },
  {
   "cell_type": "code",
   "execution_count": 48,
   "metadata": {},
   "outputs": [
    {
     "data": {
      "text/plain": [
       "language\n",
       "Cython            1778.0\n",
       "Forth             1183.0\n",
       "ASP.NET            414.0\n",
       "BrighterScript     311.0\n",
       "SAS                172.0\n",
       "Name: stargazers_count, dtype: float64"
      ]
     },
     "execution_count": 48,
     "metadata": {},
     "output_type": "execute_result"
    }
   ],
   "source": [
    "repos_df.groupby('language')['stargazers_count'].mean().sort_values(ascending=False)[:5]"
   ]
  },
  {
   "cell_type": "code",
   "execution_count": 49,
   "metadata": {},
   "outputs": [
    {
     "data": {
      "text/plain": [
       "'Cython'"
      ]
     },
     "execution_count": 49,
     "metadata": {},
     "output_type": "execute_result"
    }
   ],
   "source": [
    "repos_df.groupby('language')['stargazers_count'].mean().sort_values(ascending=False).index[0]"
   ]
  },
  {
   "cell_type": "markdown",
   "metadata": {},
   "source": [
    "Q8. Let's define `leader_strength` as `followers / (1 + following)`. Who are the top 5 in terms of `leader_strength`? List their login in order, comma-separated."
   ]
  },
  {
   "cell_type": "code",
   "execution_count": 50,
   "metadata": {},
   "outputs": [
    {
     "data": {
      "text/html": [
       "<div>\n",
       "<style scoped>\n",
       "    .dataframe tbody tr th:only-of-type {\n",
       "        vertical-align: middle;\n",
       "    }\n",
       "\n",
       "    .dataframe tbody tr th {\n",
       "        vertical-align: top;\n",
       "    }\n",
       "\n",
       "    .dataframe thead th {\n",
       "        text-align: right;\n",
       "    }\n",
       "</style>\n",
       "<table border=\"1\" class=\"dataframe\">\n",
       "  <thead>\n",
       "    <tr style=\"text-align: right;\">\n",
       "      <th></th>\n",
       "      <th>login</th>\n",
       "      <th>name</th>\n",
       "      <th>company</th>\n",
       "      <th>location</th>\n",
       "      <th>email</th>\n",
       "      <th>hireable</th>\n",
       "      <th>bio</th>\n",
       "      <th>public_repos</th>\n",
       "      <th>followers</th>\n",
       "      <th>following</th>\n",
       "      <th>created_at</th>\n",
       "      <th>leader_strength</th>\n",
       "    </tr>\n",
       "  </thead>\n",
       "  <tbody>\n",
       "    <tr>\n",
       "      <th>0</th>\n",
       "      <td>aneagoie</td>\n",
       "      <td>Andrei Neagoie</td>\n",
       "      <td>NaN</td>\n",
       "      <td>Toronto, Canada</td>\n",
       "      <td>NaN</td>\n",
       "      <td>True</td>\n",
       "      <td>Senior Software Dev turned Instructor. Founder...</td>\n",
       "      <td>145</td>\n",
       "      <td>10268</td>\n",
       "      <td>1</td>\n",
       "      <td>2015-01-30 17:05:43+00:00</td>\n",
       "      <td>5134.000000</td>\n",
       "    </tr>\n",
       "    <tr>\n",
       "      <th>1</th>\n",
       "      <td>ZhangMYihua</td>\n",
       "      <td>Yihua Zhang</td>\n",
       "      <td>NaN</td>\n",
       "      <td>Toronto</td>\n",
       "      <td>yihuazhang2@gmail.com</td>\n",
       "      <td>False</td>\n",
       "      <td>Toronto Software Developer</td>\n",
       "      <td>143</td>\n",
       "      <td>5804</td>\n",
       "      <td>11</td>\n",
       "      <td>2015-01-18 00:01:02+00:00</td>\n",
       "      <td>483.666667</td>\n",
       "    </tr>\n",
       "    <tr>\n",
       "      <th>2</th>\n",
       "      <td>susanli2016</td>\n",
       "      <td>Susan Li</td>\n",
       "      <td>NaN</td>\n",
       "      <td>Toronto Canada</td>\n",
       "      <td>NaN</td>\n",
       "      <td>False</td>\n",
       "      <td>Chief Data Scientist</td>\n",
       "      <td>34</td>\n",
       "      <td>4917</td>\n",
       "      <td>68</td>\n",
       "      <td>2016-11-28 04:22:39+00:00</td>\n",
       "      <td>71.260870</td>\n",
       "    </tr>\n",
       "    <tr>\n",
       "      <th>3</th>\n",
       "      <td>thedaviddias</td>\n",
       "      <td>David Dias</td>\n",
       "      <td>KIJIJICA</td>\n",
       "      <td>Toronto, Canada</td>\n",
       "      <td>NaN</td>\n",
       "      <td>False</td>\n",
       "      <td>💻 Passionate Front-End Dev &amp; 🎨 UI/UX fan. Cont...</td>\n",
       "      <td>89</td>\n",
       "      <td>4533</td>\n",
       "      <td>301</td>\n",
       "      <td>2010-04-05 14:40:12+00:00</td>\n",
       "      <td>15.009934</td>\n",
       "    </tr>\n",
       "    <tr>\n",
       "      <th>4</th>\n",
       "      <td>ange-yaghi</td>\n",
       "      <td>Ange Yaghi</td>\n",
       "      <td>NaN</td>\n",
       "      <td>Toronto</td>\n",
       "      <td>me@angeyaghi.com</td>\n",
       "      <td>False</td>\n",
       "      <td>C++ Developer</td>\n",
       "      <td>32</td>\n",
       "      <td>4020</td>\n",
       "      <td>11</td>\n",
       "      <td>2016-07-13 21:01:21+00:00</td>\n",
       "      <td>335.000000</td>\n",
       "    </tr>\n",
       "  </tbody>\n",
       "</table>\n",
       "</div>"
      ],
      "text/plain": [
       "          login            name   company         location  \\\n",
       "0      aneagoie  Andrei Neagoie       NaN  Toronto, Canada   \n",
       "1   ZhangMYihua     Yihua Zhang       NaN          Toronto   \n",
       "2   susanli2016        Susan Li       NaN   Toronto Canada   \n",
       "3  thedaviddias      David Dias  KIJIJICA  Toronto, Canada   \n",
       "4    ange-yaghi      Ange Yaghi       NaN          Toronto   \n",
       "\n",
       "                   email  hireable  \\\n",
       "0                    NaN      True   \n",
       "1  yihuazhang2@gmail.com     False   \n",
       "2                    NaN     False   \n",
       "3                    NaN     False   \n",
       "4       me@angeyaghi.com     False   \n",
       "\n",
       "                                                 bio  public_repos  followers  \\\n",
       "0  Senior Software Dev turned Instructor. Founder...           145      10268   \n",
       "1                         Toronto Software Developer           143       5804   \n",
       "2                               Chief Data Scientist            34       4917   \n",
       "3  💻 Passionate Front-End Dev & 🎨 UI/UX fan. Cont...            89       4533   \n",
       "4                                      C++ Developer            32       4020   \n",
       "\n",
       "   following                created_at  leader_strength  \n",
       "0          1 2015-01-30 17:05:43+00:00      5134.000000  \n",
       "1         11 2015-01-18 00:01:02+00:00       483.666667  \n",
       "2         68 2016-11-28 04:22:39+00:00        71.260870  \n",
       "3        301 2010-04-05 14:40:12+00:00        15.009934  \n",
       "4         11 2016-07-13 21:01:21+00:00       335.000000  "
      ]
     },
     "execution_count": 50,
     "metadata": {},
     "output_type": "execute_result"
    }
   ],
   "source": [
    "users_df['leader_strength'] = users_df['followers'] / (1 + users_df['following'])\n",
    "users_df.head()"
   ]
  },
  {
   "cell_type": "code",
   "execution_count": 51,
   "metadata": {},
   "outputs": [
    {
     "data": {
      "text/html": [
       "<div>\n",
       "<style scoped>\n",
       "    .dataframe tbody tr th:only-of-type {\n",
       "        vertical-align: middle;\n",
       "    }\n",
       "\n",
       "    .dataframe tbody tr th {\n",
       "        vertical-align: top;\n",
       "    }\n",
       "\n",
       "    .dataframe thead th {\n",
       "        text-align: right;\n",
       "    }\n",
       "</style>\n",
       "<table border=\"1\" class=\"dataframe\">\n",
       "  <thead>\n",
       "    <tr style=\"text-align: right;\">\n",
       "      <th></th>\n",
       "      <th>login</th>\n",
       "      <th>leader_strength</th>\n",
       "    </tr>\n",
       "  </thead>\n",
       "  <tbody>\n",
       "    <tr>\n",
       "      <th>0</th>\n",
       "      <td>aneagoie</td>\n",
       "      <td>5134.0</td>\n",
       "    </tr>\n",
       "    <tr>\n",
       "      <th>6</th>\n",
       "      <td>nayuki</td>\n",
       "      <td>3541.0</td>\n",
       "    </tr>\n",
       "    <tr>\n",
       "      <th>7</th>\n",
       "      <td>GrapheneOS</td>\n",
       "      <td>3494.0</td>\n",
       "    </tr>\n",
       "    <tr>\n",
       "      <th>11</th>\n",
       "      <td>hlissner</td>\n",
       "      <td>2418.0</td>\n",
       "    </tr>\n",
       "    <tr>\n",
       "      <th>15</th>\n",
       "      <td>rspivak</td>\n",
       "      <td>2178.0</td>\n",
       "    </tr>\n",
       "  </tbody>\n",
       "</table>\n",
       "</div>"
      ],
      "text/plain": [
       "         login  leader_strength\n",
       "0     aneagoie           5134.0\n",
       "6       nayuki           3541.0\n",
       "7   GrapheneOS           3494.0\n",
       "11    hlissner           2418.0\n",
       "15     rspivak           2178.0"
      ]
     },
     "execution_count": 51,
     "metadata": {},
     "output_type": "execute_result"
    }
   ],
   "source": [
    "users_df.nlargest(5, 'leader_strength')[['login', 'leader_strength']]"
   ]
  },
  {
   "cell_type": "code",
   "execution_count": 52,
   "metadata": {},
   "outputs": [
    {
     "data": {
      "text/plain": [
       "'aneagoie,nayuki,GrapheneOS,hlissner,rspivak'"
      ]
     },
     "execution_count": 52,
     "metadata": {},
     "output_type": "execute_result"
    }
   ],
   "source": [
    "','.join(users_df.nlargest(5, 'leader_strength')['login'].to_list())"
   ]
  },
  {
   "cell_type": "markdown",
   "metadata": {},
   "source": [
    "Q9. What is the correlation between the number of followers and the number of public repositories among users in Toronto?"
   ]
  },
  {
   "cell_type": "code",
   "execution_count": 53,
   "metadata": {},
   "outputs": [
    {
     "data": {
      "text/plain": [
       "np.float64(0.055)"
      ]
     },
     "execution_count": 53,
     "metadata": {},
     "output_type": "execute_result"
    }
   ],
   "source": [
    "users_df['followers'].corr(users_df['public_repos']).round(3)"
   ]
  },
  {
   "cell_type": "markdown",
   "metadata": {},
   "source": [
    "Q10. Does creating more repos help users get more followers? Using regression, estimate how many additional followers a user gets per additional public repository."
   ]
  },
  {
   "cell_type": "code",
   "execution_count": 54,
   "metadata": {},
   "outputs": [
    {
     "data": {
      "text/plain": [
       "public_repos    0\n",
       "followers       0\n",
       "dtype: int64"
      ]
     },
     "execution_count": 54,
     "metadata": {},
     "output_type": "execute_result"
    }
   ],
   "source": [
    "users_df[['public_repos', 'followers']].isna().sum()"
   ]
  },
  {
   "cell_type": "code",
   "execution_count": 55,
   "metadata": {},
   "outputs": [
    {
     "data": {
      "text/plain": [
       "np.float64(0.25)"
      ]
     },
     "execution_count": 55,
     "metadata": {},
     "output_type": "execute_result"
    }
   ],
   "source": [
    "linregress(users_df['public_repos'], users_df['followers']).slope.round(3)"
   ]
  },
  {
   "cell_type": "markdown",
   "metadata": {},
   "source": [
    "Q11. Do people typically enable projects and wikis together? What is the correlation between a repo having projects enabled and having wiki enabled?"
   ]
  },
  {
   "cell_type": "code",
   "execution_count": 56,
   "metadata": {},
   "outputs": [
    {
     "name": "stdout",
     "output_type": "stream",
     "text": [
      "<class 'pandas.core.frame.DataFrame'>\n",
      "RangeIndex: 54875 entries, 0 to 54874\n",
      "Data columns (total 2 columns):\n",
      " #   Column        Non-Null Count  Dtype\n",
      "---  ------        --------------  -----\n",
      " 0   has_projects  54875 non-null  bool \n",
      " 1   has_wiki      54875 non-null  bool \n",
      "dtypes: bool(2)\n",
      "memory usage: 107.3 KB\n"
     ]
    }
   ],
   "source": [
    "repos_df[['has_projects', 'has_wiki']].info()"
   ]
  },
  {
   "cell_type": "code",
   "execution_count": 57,
   "metadata": {},
   "outputs": [],
   "source": [
    "has_projects = repos_df['has_projects'].astype(int)\n",
    "has_wiki = repos_df['has_wiki'].astype(int)"
   ]
  },
  {
   "cell_type": "code",
   "execution_count": 58,
   "metadata": {},
   "outputs": [
    {
     "data": {
      "text/plain": [
       "np.float64(0.372)"
      ]
     },
     "execution_count": 58,
     "metadata": {},
     "output_type": "execute_result"
    }
   ],
   "source": [
    "has_projects.corr(has_wiki).round(3)"
   ]
  },
  {
   "cell_type": "code",
   "execution_count": 59,
   "metadata": {},
   "outputs": [
    {
     "data": {
      "text/html": [
       "<div>\n",
       "<style scoped>\n",
       "    .dataframe tbody tr th:only-of-type {\n",
       "        vertical-align: middle;\n",
       "    }\n",
       "\n",
       "    .dataframe tbody tr th {\n",
       "        vertical-align: top;\n",
       "    }\n",
       "\n",
       "    .dataframe thead th {\n",
       "        text-align: right;\n",
       "    }\n",
       "</style>\n",
       "<table border=\"1\" class=\"dataframe\">\n",
       "  <thead>\n",
       "    <tr style=\"text-align: right;\">\n",
       "      <th></th>\n",
       "      <th>has_projects</th>\n",
       "      <th>has_wiki</th>\n",
       "    </tr>\n",
       "  </thead>\n",
       "  <tbody>\n",
       "    <tr>\n",
       "      <th>has_projects</th>\n",
       "      <td>1.000</td>\n",
       "      <td>0.372</td>\n",
       "    </tr>\n",
       "    <tr>\n",
       "      <th>has_wiki</th>\n",
       "      <td>0.372</td>\n",
       "      <td>1.000</td>\n",
       "    </tr>\n",
       "  </tbody>\n",
       "</table>\n",
       "</div>"
      ],
      "text/plain": [
       "              has_projects  has_wiki\n",
       "has_projects         1.000     0.372\n",
       "has_wiki             0.372     1.000"
      ]
     },
     "execution_count": 59,
     "metadata": {},
     "output_type": "execute_result"
    }
   ],
   "source": [
    "repos_df[['has_projects', 'has_wiki']].corr().round(3)"
   ]
  },
  {
   "cell_type": "code",
   "execution_count": 60,
   "metadata": {},
   "outputs": [
    {
     "data": {
      "text/plain": [
       "np.float64(0.372)"
      ]
     },
     "execution_count": 60,
     "metadata": {},
     "output_type": "execute_result"
    }
   ],
   "source": [
    "repos_df['has_projects'].corr(repos_df['has_wiki']).round(3)"
   ]
  },
  {
   "cell_type": "markdown",
   "metadata": {},
   "source": [
    "Q12. Do hireable users follow more people than those who are not hireable?"
   ]
  },
  {
   "cell_type": "code",
   "execution_count": 61,
   "metadata": {},
   "outputs": [
    {
     "data": {
      "text/plain": [
       "hireable\n",
       "False    125.642544\n",
       "True     112.781250\n",
       "Name: following, dtype: float64"
      ]
     },
     "execution_count": 61,
     "metadata": {},
     "output_type": "execute_result"
    }
   ],
   "source": [
    "users_df.groupby('hireable')['following'].mean()"
   ]
  },
  {
   "cell_type": "code",
   "execution_count": 62,
   "metadata": {},
   "outputs": [
    {
     "data": {
      "text/plain": [
       "np.float64(-12.861)"
      ]
     },
     "execution_count": 62,
     "metadata": {},
     "output_type": "execute_result"
    }
   ],
   "source": [
    "(users_df.groupby('hireable')['following'].mean().loc[True] - users_df.groupby('hireable')['following'].mean().loc[False]).round(3)"
   ]
  },
  {
   "cell_type": "markdown",
   "metadata": {},
   "source": [
    "Q13. Some developers write long bios. Does that help them get more followers? What's the correlation of the length of their bio (in Unicode characters) with followers? (Ignore people without bios)\n",
    "\n",
    "Regression slope of followers on bio word count"
   ]
  },
  {
   "cell_type": "code",
   "execution_count": 63,
   "metadata": {},
   "outputs": [],
   "source": [
    "users_with_bio = users_df.loc[users_df['bio'].notna(), :].copy().reset_index(drop=True, inplace=False)\n",
    "users_with_bio['bio_length'] = users_with_bio['bio'].str.split(r'\\s+').str.len()  # Non-stripped version."
   ]
  },
  {
   "cell_type": "code",
   "execution_count": 64,
   "metadata": {},
   "outputs": [
    {
     "data": {
      "text/html": [
       "<div>\n",
       "<style scoped>\n",
       "    .dataframe tbody tr th:only-of-type {\n",
       "        vertical-align: middle;\n",
       "    }\n",
       "\n",
       "    .dataframe tbody tr th {\n",
       "        vertical-align: top;\n",
       "    }\n",
       "\n",
       "    .dataframe thead th {\n",
       "        text-align: right;\n",
       "    }\n",
       "</style>\n",
       "<table border=\"1\" class=\"dataframe\">\n",
       "  <thead>\n",
       "    <tr style=\"text-align: right;\">\n",
       "      <th></th>\n",
       "      <th>bio</th>\n",
       "      <th>bio_length</th>\n",
       "      <th>followers</th>\n",
       "    </tr>\n",
       "  </thead>\n",
       "  <tbody>\n",
       "    <tr>\n",
       "      <th>0</th>\n",
       "      <td>Senior Software Dev turned Instructor. Founder...</td>\n",
       "      <td>8</td>\n",
       "      <td>10268</td>\n",
       "    </tr>\n",
       "    <tr>\n",
       "      <th>1</th>\n",
       "      <td>Toronto Software Developer</td>\n",
       "      <td>3</td>\n",
       "      <td>5804</td>\n",
       "    </tr>\n",
       "    <tr>\n",
       "      <th>2</th>\n",
       "      <td>Chief Data Scientist</td>\n",
       "      <td>3</td>\n",
       "      <td>4917</td>\n",
       "    </tr>\n",
       "    <tr>\n",
       "      <th>3</th>\n",
       "      <td>💻 Passionate Front-End Dev &amp; 🎨 UI/UX fan. Cont...</td>\n",
       "      <td>27</td>\n",
       "      <td>4533</td>\n",
       "    </tr>\n",
       "    <tr>\n",
       "      <th>4</th>\n",
       "      <td>C++ Developer</td>\n",
       "      <td>2</td>\n",
       "      <td>4020</td>\n",
       "    </tr>\n",
       "    <tr>\n",
       "      <th>...</th>\n",
       "      <td>...</td>\n",
       "      <td>...</td>\n",
       "      <td>...</td>\n",
       "    </tr>\n",
       "    <tr>\n",
       "      <th>475</th>\n",
       "      <td>Senior SRE @getsentry\\r\\nPreviously OpsEng @wa...</td>\n",
       "      <td>6</td>\n",
       "      <td>101</td>\n",
       "    </tr>\n",
       "    <tr>\n",
       "      <th>476</th>\n",
       "      <td>Physicist, purveyor of angular momentum, GPUs,...</td>\n",
       "      <td>15</td>\n",
       "      <td>101</td>\n",
       "    </tr>\n",
       "    <tr>\n",
       "      <th>477</th>\n",
       "      <td>Director at Countly, #1 open source mobile ana...</td>\n",
       "      <td>15</td>\n",
       "      <td>101</td>\n",
       "    </tr>\n",
       "    <tr>\n",
       "      <th>478</th>\n",
       "      <td>npx andrewdamelio</td>\n",
       "      <td>2</td>\n",
       "      <td>101</td>\n",
       "    </tr>\n",
       "    <tr>\n",
       "      <th>479</th>\n",
       "      <td>Software, experiments, and having fun.</td>\n",
       "      <td>5</td>\n",
       "      <td>101</td>\n",
       "    </tr>\n",
       "  </tbody>\n",
       "</table>\n",
       "<p>480 rows × 3 columns</p>\n",
       "</div>"
      ],
      "text/plain": [
       "                                                   bio  bio_length  followers\n",
       "0    Senior Software Dev turned Instructor. Founder...           8      10268\n",
       "1                           Toronto Software Developer           3       5804\n",
       "2                                 Chief Data Scientist           3       4917\n",
       "3    💻 Passionate Front-End Dev & 🎨 UI/UX fan. Cont...          27       4533\n",
       "4                                        C++ Developer           2       4020\n",
       "..                                                 ...         ...        ...\n",
       "475  Senior SRE @getsentry\\r\\nPreviously OpsEng @wa...           6        101\n",
       "476  Physicist, purveyor of angular momentum, GPUs,...          15        101\n",
       "477  Director at Countly, #1 open source mobile ana...          15        101\n",
       "478                                  npx andrewdamelio           2        101\n",
       "479             Software, experiments, and having fun.           5        101\n",
       "\n",
       "[480 rows x 3 columns]"
      ]
     },
     "execution_count": 64,
     "metadata": {},
     "output_type": "execute_result"
    }
   ],
   "source": [
    "users_with_bio[['bio', 'bio_length', 'followers']]"
   ]
  },
  {
   "cell_type": "code",
   "execution_count": 65,
   "metadata": {},
   "outputs": [
    {
     "data": {
      "text/plain": [
       "'Director at Countly, #1 open source mobile analytics, web analytics and desktop analytics platform '"
      ]
     },
     "execution_count": 65,
     "metadata": {},
     "output_type": "execute_result"
    }
   ],
   "source": [
    "users_with_bio.iloc[477]['bio']"
   ]
  },
  {
   "cell_type": "code",
   "execution_count": 66,
   "metadata": {},
   "outputs": [],
   "source": [
    "js_bio_lengths = [\n",
    "    8,\n",
    "    3,\n",
    "    3,\n",
    "    27,\n",
    "    2,\n",
    "    22,\n",
    "    25,\n",
    "    19,\n",
    "    10,\n",
    "    19,\n",
    "    14,\n",
    "    4,\n",
    "    4,\n",
    "    11,\n",
    "    17,\n",
    "    16,\n",
    "    2,\n",
    "    7,\n",
    "    10,\n",
    "    2,\n",
    "    8,\n",
    "    19,\n",
    "    6,\n",
    "    21,\n",
    "    8,\n",
    "    17,\n",
    "    14,\n",
    "    16,\n",
    "    13,\n",
    "    25,\n",
    "    2,\n",
    "    1,\n",
    "    27,\n",
    "    15,\n",
    "    5,\n",
    "    9,\n",
    "    9,\n",
    "    19,\n",
    "    14,\n",
    "    17,\n",
    "    11,\n",
    "    24,\n",
    "    9,\n",
    "    12,\n",
    "    17,\n",
    "    5,\n",
    "    5,\n",
    "    20,\n",
    "    13,\n",
    "    6,\n",
    "    2,\n",
    "    16,\n",
    "    2,\n",
    "    13,\n",
    "    5,\n",
    "    4,\n",
    "    10,\n",
    "    26,\n",
    "    16,\n",
    "    24,\n",
    "    6,\n",
    "    8,\n",
    "    10,\n",
    "    10,\n",
    "    6,\n",
    "    21,\n",
    "    6,\n",
    "    13,\n",
    "    7,\n",
    "    10,\n",
    "    17,\n",
    "    10,\n",
    "    13,\n",
    "    19,\n",
    "    8,\n",
    "    7,\n",
    "    6,\n",
    "    4,\n",
    "    15,\n",
    "    19,\n",
    "    7,\n",
    "    3,\n",
    "    5,\n",
    "    5,\n",
    "    8,\n",
    "    6,\n",
    "    22,\n",
    "    4,\n",
    "    10,\n",
    "    20,\n",
    "    5,\n",
    "    8,\n",
    "    6,\n",
    "    9,\n",
    "    7,\n",
    "    8,\n",
    "    18,\n",
    "    5,\n",
    "    1,\n",
    "    12,\n",
    "    18,\n",
    "    6,\n",
    "    7,\n",
    "    17,\n",
    "    22,\n",
    "    19,\n",
    "    2,\n",
    "    4,\n",
    "    3,\n",
    "    25,\n",
    "    16,\n",
    "    6,\n",
    "    16,\n",
    "    7,\n",
    "    8,\n",
    "    17,\n",
    "    8,\n",
    "    12,\n",
    "    23,\n",
    "    3,\n",
    "    8,\n",
    "    24,\n",
    "    9,\n",
    "    6,\n",
    "    8,\n",
    "    3,\n",
    "    8,\n",
    "    22,\n",
    "    8,\n",
    "    22,\n",
    "    3,\n",
    "    17,\n",
    "    4,\n",
    "    7,\n",
    "    5,\n",
    "    5,\n",
    "    11,\n",
    "    7,\n",
    "    20,\n",
    "    18,\n",
    "    13,\n",
    "    20,\n",
    "    1,\n",
    "    2,\n",
    "    4,\n",
    "    5,\n",
    "    4,\n",
    "    10,\n",
    "    3,\n",
    "    6,\n",
    "    26,\n",
    "    17,\n",
    "    7,\n",
    "    5,\n",
    "    17,\n",
    "    8,\n",
    "    3,\n",
    "    15,\n",
    "    28,\n",
    "    5,\n",
    "    2,\n",
    "    1,\n",
    "    15,\n",
    "    5,\n",
    "    2,\n",
    "    9,\n",
    "    3,\n",
    "    3,\n",
    "    3,\n",
    "    9,\n",
    "    6,\n",
    "    9,\n",
    "    4,\n",
    "    5,\n",
    "    15,\n",
    "    11,\n",
    "    3,\n",
    "    8,\n",
    "    19,\n",
    "    8,\n",
    "    4,\n",
    "    8,\n",
    "    11,\n",
    "    14,\n",
    "    3,\n",
    "    11,\n",
    "    17,\n",
    "    17,\n",
    "    15,\n",
    "    5,\n",
    "    13,\n",
    "    6,\n",
    "    5,\n",
    "    5,\n",
    "    25,\n",
    "    1,\n",
    "    3,\n",
    "    4,\n",
    "    3,\n",
    "    4,\n",
    "    22,\n",
    "    4,\n",
    "    3,\n",
    "    12,\n",
    "    9,\n",
    "    17,\n",
    "    8,\n",
    "    14,\n",
    "    1,\n",
    "    4,\n",
    "    4,\n",
    "    3,\n",
    "    2,\n",
    "    15,\n",
    "    9,\n",
    "    3,\n",
    "    2,\n",
    "    10,\n",
    "    6,\n",
    "    3,\n",
    "    10,\n",
    "    5,\n",
    "    2,\n",
    "    1,\n",
    "    13,\n",
    "    16,\n",
    "    13,\n",
    "    4,\n",
    "    5,\n",
    "    4,\n",
    "    3,\n",
    "    24,\n",
    "    8,\n",
    "    8,\n",
    "    7,\n",
    "    7,\n",
    "    11,\n",
    "    2,\n",
    "    4,\n",
    "    15,\n",
    "    7,\n",
    "    14,\n",
    "    10,\n",
    "    7,\n",
    "    10,\n",
    "    7,\n",
    "    5,\n",
    "    16,\n",
    "    10,\n",
    "    20,\n",
    "    18,\n",
    "    5,\n",
    "    6,\n",
    "    16,\n",
    "    12,\n",
    "    5,\n",
    "    8,\n",
    "    6,\n",
    "    11,\n",
    "    16,\n",
    "    5,\n",
    "    15,\n",
    "    6,\n",
    "    4,\n",
    "    13,\n",
    "    8,\n",
    "    2,\n",
    "    3,\n",
    "    11,\n",
    "    13,\n",
    "    16,\n",
    "    18,\n",
    "    13,\n",
    "    3,\n",
    "    17,\n",
    "    11,\n",
    "    4,\n",
    "    3,\n",
    "    22,\n",
    "    2,\n",
    "    13,\n",
    "    23,\n",
    "    3,\n",
    "    3,\n",
    "    20,\n",
    "    6,\n",
    "    21,\n",
    "    9,\n",
    "    7,\n",
    "    23,\n",
    "    24,\n",
    "    21,\n",
    "    4,\n",
    "    14,\n",
    "    7,\n",
    "    8,\n",
    "    27,\n",
    "    4,\n",
    "    14,\n",
    "    15,\n",
    "    2,\n",
    "    21,\n",
    "    23,\n",
    "    2,\n",
    "    19,\n",
    "    2,\n",
    "    13,\n",
    "    1,\n",
    "    5,\n",
    "    17,\n",
    "    17,\n",
    "    18,\n",
    "    20,\n",
    "    5,\n",
    "    11,\n",
    "    12,\n",
    "    6,\n",
    "    21,\n",
    "    4,\n",
    "    1,\n",
    "    11,\n",
    "    5,\n",
    "    13,\n",
    "    20,\n",
    "    17,\n",
    "    2,\n",
    "    8,\n",
    "    14,\n",
    "    30,\n",
    "    13,\n",
    "    4,\n",
    "    15,\n",
    "    1,\n",
    "    19,\n",
    "    10,\n",
    "    15,\n",
    "    3,\n",
    "    20,\n",
    "    5,\n",
    "    2,\n",
    "    3,\n",
    "    10,\n",
    "    16,\n",
    "    1,\n",
    "    8,\n",
    "    14,\n",
    "    16,\n",
    "    5,\n",
    "    13,\n",
    "    6,\n",
    "    4,\n",
    "    4,\n",
    "    3,\n",
    "    4,\n",
    "    23,\n",
    "    13,\n",
    "    3,\n",
    "    25,\n",
    "    15,\n",
    "    2,\n",
    "    11,\n",
    "    9,\n",
    "    2,\n",
    "    4,\n",
    "    7,\n",
    "    17,\n",
    "    10,\n",
    "    19,\n",
    "    4,\n",
    "    9,\n",
    "    1,\n",
    "    3,\n",
    "    3,\n",
    "    7,\n",
    "    4,\n",
    "    4,\n",
    "    7,\n",
    "    23,\n",
    "    6,\n",
    "    14,\n",
    "    4,\n",
    "    16,\n",
    "    12,\n",
    "    16,\n",
    "    15,\n",
    "    15,\n",
    "    7,\n",
    "    6,\n",
    "    4,\n",
    "    14,\n",
    "    6,\n",
    "    1,\n",
    "    3,\n",
    "    4,\n",
    "    15,\n",
    "    12,\n",
    "    5,\n",
    "    16,\n",
    "    10,\n",
    "    2,\n",
    "    3,\n",
    "    5,\n",
    "    2,\n",
    "    4,\n",
    "    5,\n",
    "    8,\n",
    "    7,\n",
    "    13,\n",
    "    5,\n",
    "    8,\n",
    "    7,\n",
    "    8,\n",
    "    18,\n",
    "    10,\n",
    "    5,\n",
    "    4,\n",
    "    23,\n",
    "    2,\n",
    "    8,\n",
    "    21,\n",
    "    18,\n",
    "    13,\n",
    "    14,\n",
    "    10,\n",
    "    16,\n",
    "    13,\n",
    "    6,\n",
    "    13,\n",
    "    23,\n",
    "    4,\n",
    "    19,\n",
    "    8,\n",
    "    10,\n",
    "    9,\n",
    "    7,\n",
    "    11,\n",
    "    5,\n",
    "    3,\n",
    "    1,\n",
    "    4,\n",
    "    18,\n",
    "    13,\n",
    "    3,\n",
    "    4,\n",
    "    13,\n",
    "    20,\n",
    "    3,\n",
    "    12,\n",
    "    14,\n",
    "    10,\n",
    "    10,\n",
    "    4,\n",
    "    8,\n",
    "    4,\n",
    "    5,\n",
    "    1,\n",
    "    4,\n",
    "    11,\n",
    "    15,\n",
    "    6,\n",
    "    4,\n",
    "    10,\n",
    "    23,\n",
    "    3,\n",
    "    4,\n",
    "    24,\n",
    "    14,\n",
    "    3,\n",
    "    7,\n",
    "    12,\n",
    "    8,\n",
    "    6,\n",
    "    19,\n",
    "    17,\n",
    "    1,\n",
    "    6,\n",
    "    15,\n",
    "    15,\n",
    "    2,\n",
    "    5\n",
    "]"
   ]
  },
  {
   "cell_type": "code",
   "execution_count": 67,
   "metadata": {},
   "outputs": [],
   "source": [
    "users_with_bio['js_bio_length'] = js_bio_lengths"
   ]
  },
  {
   "cell_type": "code",
   "execution_count": 68,
   "metadata": {},
   "outputs": [
    {
     "data": {
      "text/html": [
       "<div>\n",
       "<style scoped>\n",
       "    .dataframe tbody tr th:only-of-type {\n",
       "        vertical-align: middle;\n",
       "    }\n",
       "\n",
       "    .dataframe tbody tr th {\n",
       "        vertical-align: top;\n",
       "    }\n",
       "\n",
       "    .dataframe thead th {\n",
       "        text-align: right;\n",
       "    }\n",
       "</style>\n",
       "<table border=\"1\" class=\"dataframe\">\n",
       "  <thead>\n",
       "    <tr style=\"text-align: right;\">\n",
       "      <th></th>\n",
       "      <th>bio_length</th>\n",
       "      <th>js_bio_length</th>\n",
       "    </tr>\n",
       "  </thead>\n",
       "  <tbody>\n",
       "    <tr>\n",
       "      <th>0</th>\n",
       "      <td>8</td>\n",
       "      <td>8</td>\n",
       "    </tr>\n",
       "    <tr>\n",
       "      <th>1</th>\n",
       "      <td>3</td>\n",
       "      <td>3</td>\n",
       "    </tr>\n",
       "    <tr>\n",
       "      <th>2</th>\n",
       "      <td>3</td>\n",
       "      <td>3</td>\n",
       "    </tr>\n",
       "    <tr>\n",
       "      <th>3</th>\n",
       "      <td>27</td>\n",
       "      <td>27</td>\n",
       "    </tr>\n",
       "    <tr>\n",
       "      <th>4</th>\n",
       "      <td>2</td>\n",
       "      <td>2</td>\n",
       "    </tr>\n",
       "    <tr>\n",
       "      <th>...</th>\n",
       "      <td>...</td>\n",
       "      <td>...</td>\n",
       "    </tr>\n",
       "    <tr>\n",
       "      <th>475</th>\n",
       "      <td>6</td>\n",
       "      <td>6</td>\n",
       "    </tr>\n",
       "    <tr>\n",
       "      <th>476</th>\n",
       "      <td>15</td>\n",
       "      <td>15</td>\n",
       "    </tr>\n",
       "    <tr>\n",
       "      <th>477</th>\n",
       "      <td>15</td>\n",
       "      <td>15</td>\n",
       "    </tr>\n",
       "    <tr>\n",
       "      <th>478</th>\n",
       "      <td>2</td>\n",
       "      <td>2</td>\n",
       "    </tr>\n",
       "    <tr>\n",
       "      <th>479</th>\n",
       "      <td>5</td>\n",
       "      <td>5</td>\n",
       "    </tr>\n",
       "  </tbody>\n",
       "</table>\n",
       "<p>480 rows × 2 columns</p>\n",
       "</div>"
      ],
      "text/plain": [
       "     bio_length  js_bio_length\n",
       "0             8              8\n",
       "1             3              3\n",
       "2             3              3\n",
       "3            27             27\n",
       "4             2              2\n",
       "..          ...            ...\n",
       "475           6              6\n",
       "476          15             15\n",
       "477          15             15\n",
       "478           2              2\n",
       "479           5              5\n",
       "\n",
       "[480 rows x 2 columns]"
      ]
     },
     "execution_count": 68,
     "metadata": {},
     "output_type": "execute_result"
    }
   ],
   "source": [
    "users_with_bio[['bio_length', 'js_bio_length']]"
   ]
  },
  {
   "cell_type": "code",
   "execution_count": 69,
   "metadata": {},
   "outputs": [
    {
     "data": {
      "text/plain": [
       "np.int64(480)"
      ]
     },
     "execution_count": 69,
     "metadata": {},
     "output_type": "execute_result"
    }
   ],
   "source": [
    "(users_with_bio['bio_length'] == users_with_bio['js_bio_length']).sum()"
   ]
  },
  {
   "cell_type": "code",
   "execution_count": 70,
   "metadata": {},
   "outputs": [
    {
     "data": {
      "text/plain": [
       "np.float64(8.172)"
      ]
     },
     "execution_count": 70,
     "metadata": {},
     "output_type": "execute_result"
    }
   ],
   "source": [
    "linregress(users_with_bio['bio_length'], users_with_bio['followers']).slope.round(3)"
   ]
  },
  {
   "cell_type": "code",
   "execution_count": 71,
   "metadata": {},
   "outputs": [],
   "source": [
    "# users_df[users_df['bio'].notna()]['bio'].str.strip().value_counts()"
   ]
  },
  {
   "cell_type": "markdown",
   "metadata": {},
   "source": [
    "Q14. Who created the most repositories on weekends (UTC)? List the top 5 users' login in order, comma-separated"
   ]
  },
  {
   "cell_type": "code",
   "execution_count": 72,
   "metadata": {},
   "outputs": [
    {
     "data": {
      "text/plain": [
       "created_at\n",
       "0    8046\n",
       "1    8730\n",
       "2    8839\n",
       "3    8460\n",
       "4    8142\n",
       "5    6326\n",
       "6    6332\n",
       "Name: count, dtype: int64"
      ]
     },
     "execution_count": 72,
     "metadata": {},
     "output_type": "execute_result"
    }
   ],
   "source": [
    "repos_df['created_at'].dt.weekday.value_counts().sort_index()"
   ]
  },
  {
   "cell_type": "code",
   "execution_count": 73,
   "metadata": {},
   "outputs": [
    {
     "data": {
      "text/plain": [
       "login\n",
       "andyw8             180\n",
       "QuinntyneBrown     130\n",
       "invokethreatguy    128\n",
       "rgrinberg          122\n",
       "Devang-25          121\n",
       "dtype: int64"
      ]
     },
     "execution_count": 73,
     "metadata": {},
     "output_type": "execute_result"
    }
   ],
   "source": [
    "repos_df[repos_df['created_at'].dt.weekday >= 5].groupby('login').size().sort_values(ascending=False)[:5]"
   ]
  },
  {
   "cell_type": "code",
   "execution_count": 74,
   "metadata": {},
   "outputs": [
    {
     "data": {
      "text/plain": [
       "'andyw8,QuinntyneBrown,invokethreatguy,rgrinberg,Devang-25'"
      ]
     },
     "execution_count": 74,
     "metadata": {},
     "output_type": "execute_result"
    }
   ],
   "source": [
    "','.join(repos_df[repos_df['created_at'].dt.weekday >= 5].groupby('login').size().sort_values(ascending=False)[:5].index.to_list())"
   ]
  },
  {
   "cell_type": "markdown",
   "metadata": {},
   "source": [
    "Q15. Do people who are hireable share their email addresses more often?\n",
    "\n",
    "[fraction of users with email when hireable=true] minus [fraction of users with email for the rest]"
   ]
  },
  {
   "cell_type": "code",
   "execution_count": 75,
   "metadata": {},
   "outputs": [],
   "source": [
    "users_df['has_email'] = users_df['email'].notna()"
   ]
  },
  {
   "cell_type": "code",
   "execution_count": 76,
   "metadata": {},
   "outputs": [
    {
     "data": {
      "text/plain": [
       "hireable\n",
       "False    0.491228\n",
       "True     0.620536\n",
       "Name: has_email, dtype: float64"
      ]
     },
     "execution_count": 76,
     "metadata": {},
     "output_type": "execute_result"
    }
   ],
   "source": [
    "users_df.groupby('hireable')['has_email'].mean()"
   ]
  },
  {
   "cell_type": "code",
   "execution_count": 77,
   "metadata": {},
   "outputs": [
    {
     "data": {
      "text/plain": [
       "np.float64(0.129)"
      ]
     },
     "execution_count": 77,
     "metadata": {},
     "output_type": "execute_result"
    }
   ],
   "source": [
    "(users_df.groupby('hireable')['has_email'].mean().loc[True] - users_df.groupby('hireable')['has_email'].mean().loc[False]).round(3)"
   ]
  },
  {
   "cell_type": "markdown",
   "metadata": {},
   "source": [
    "Q16. Let's assume that the last word in a user's name is their surname (ignore missing names, trim and split by whitespace.) What's the most common surname? (If there's a tie, list them all, comma-separated, alphabetically)"
   ]
  },
  {
   "cell_type": "code",
   "execution_count": 78,
   "metadata": {},
   "outputs": [
    {
     "data": {
      "text/plain": [
       "name\n",
       "Ahmed    4\n",
       "Smith    3\n",
       "Brown    3\n",
       "Chen     3\n",
       "Kumar    3\n",
       "Name: count, dtype: int64"
      ]
     },
     "execution_count": 78,
     "metadata": {},
     "output_type": "execute_result"
    }
   ],
   "source": [
    "users_df['name'].str.strip().str.split().str[-1].value_counts()[:5]"
   ]
  },
  {
   "cell_type": "code",
   "execution_count": 79,
   "metadata": {},
   "outputs": [
    {
     "data": {
      "text/plain": [
       "'Ahmed'"
      ]
     },
     "execution_count": 79,
     "metadata": {},
     "output_type": "execute_result"
    }
   ],
   "source": [
    "users_df['name'].str.strip().str.split().str[-1].value_counts().index[0]"
   ]
  },
  {
   "cell_type": "markdown",
   "metadata": {},
   "source": [
    "## Analysis"
   ]
  },
  {
   "cell_type": "markdown",
   "metadata": {},
   "source": [
    "Here's a table of statistical analyses that could be useful with these datasets:\n",
    "\n",
    "| Description of Analysis                                                                                     | How it is Useful                                                                                                                               |\n",
    "|-------------------------------------------------------------------------------------------------------------|------------------------------------------------------------------------------------------------------------------------------------------------|\n",
    "| **User Activity Over Time** - Count users based on `created_at` year or month, creating a time series.      | Helps understand user growth trends and peak periods of new users joining.                                                                     |\n",
    "| **Average and Median Repo Star and Watch Counts by Language**                                               | Shows popularity and engagement of repos by language, useful for targeting languages with high community interest.                             |\n",
    "| **Correlation Analysis** - Correlate `public_repos`, `followers`, `following`, `leader_strength` in `users_df`. | Identifies relationships between user popularity (followers) and activity metrics, guiding understanding of influence factors.                 |\n",
    "| **Pivot Table of License Usage by Language**                                                                | Provides insights into which licenses are common within specific programming languages.                                                        |\n",
    "| **Top Companies with High Leader Strength** - Aggregate `leader_strength` by `company` in `users_df`.       | Highlights companies with influential employees, useful for identifying potential partners or industry leaders.                               |\n",
    "| **Repo Activity by Year** - Count repos by `created_at` year in `repos_df`.                                 | Shows trends in repository creation over time, indicating periods of high activity or innovation.                                             |\n",
    "| **Average Leader Strength by Location**                                                                     | Offers insights into regional distribution of influential users, useful for local outreach or marketing strategies.                            |\n",
    "| **Repo Engagement Rates** - Calculate average `stargazers_count` and `watchers_count` per user in `repos_df`. | Measures user engagement per repo, identifying users with the most active repositories and potential influencers.                             |\n",
    "| **Top Languages by Average `leader_strength` in `users_df`**                                                | Shows if certain programming languages are associated with higher influence or leadership in the developer community.                         |\n",
    "| **Count of Hireable vs Non-hireable Users by Location**                                                     | Useful for talent acquisition strategies, showing locations with high numbers of hireable users.                                              |\n",
    "| **Email Availability Analysis by Location** - Calculate the percentage of users with `has_email` by `location`. | Indicates locations with higher public email availability, useful for region-specific communication strategies.                               |\n",
    "| **Average Repo Count and Follower Count by `hireable` Status**                                              | Highlights whether hireable users generally have more repositories and followers, indicating active users seeking employment.                 |\n",
    "| **Popular Repo Characteristics** - Calculate average `stargazers_count` and `watchers_count` by `license_name`. | Helps in understanding if certain licenses are associated with more popular repositories, guiding license choices for open-source projects.   |\n",
    "| **Average Leader Strength by Repo Language**                                                                | Shows if expertise in certain languages correlates with higher `leader_strength`, identifying languages linked to industry leaders.            |\n",
    "| **Time-to-Influence** - Measure the time difference between `created_at` and `leader_strength` development.  | Reveals average time it takes for users to gain influence, useful for understanding growth timelines for new community members.               |\n",
    "\n",
    "Note: Not all the given analysis metrics were computed."
   ]
  },
  {
   "cell_type": "code",
   "execution_count": 80,
   "metadata": {},
   "outputs": [],
   "source": [
    "sns.set_theme()\n",
    "plt.rcParams[\"figure.figsize\"] = (7, 5)"
   ]
  },
  {
   "cell_type": "code",
   "execution_count": 81,
   "metadata": {},
   "outputs": [],
   "source": [
    "users_df = pd.read_csv('users.csv')\n",
    "repos_df = pd.read_csv('repositories.csv')"
   ]
  },
  {
   "cell_type": "code",
   "execution_count": 82,
   "metadata": {},
   "outputs": [],
   "source": [
    "users_df['created_at'] = pd.to_datetime(users_df['created_at'])\n",
    "repos_df['created_at'] = pd.to_datetime(repos_df['created_at'])"
   ]
  },
  {
   "cell_type": "code",
   "execution_count": 83,
   "metadata": {},
   "outputs": [],
   "source": [
    "users_df['leader_strength'] = users_df['followers'] / (1 + users_df['following'])"
   ]
  },
  {
   "cell_type": "markdown",
   "metadata": {},
   "source": [
    "### User Activity Over Time"
   ]
  },
  {
   "cell_type": "code",
   "execution_count": 84,
   "metadata": {},
   "outputs": [
    {
     "data": {
      "text/plain": [
       "created_at\n",
       "2008-12-31 00:00:00+00:00    37\n",
       "2009-12-31 00:00:00+00:00    52\n",
       "2010-12-31 00:00:00+00:00    64\n",
       "2011-12-31 00:00:00+00:00    63\n",
       "2012-12-31 00:00:00+00:00    88\n",
       "Freq: YE-DEC, Name: login, dtype: int64"
      ]
     },
     "execution_count": 84,
     "metadata": {},
     "output_type": "execute_result"
    }
   ],
   "source": [
    "yearly_created_users = users_df.groupby(pd.Grouper(key='created_at', freq='YE'))['login'].nunique()\n",
    "yearly_created_users.head()"
   ]
  },
  {
   "cell_type": "code",
   "execution_count": 85,
   "metadata": {},
   "outputs": [
    {
     "data": {
      "image/png": "[encoded data removed]",
      "text/plain": [
       "<Figure size 700x500 with 1 Axes>"
      ]
     },
     "metadata": {},
     "output_type": "display_data"
    }
   ],
   "source": [
    "sns.lineplot(data=yearly_created_users)\n",
    "plt.title('Accounts Created on GitHub (Yearly)')\n",
    "plt.xlabel('Year (created_at)')\n",
    "plt.ylabel('No. of Accounts')\n",
    "plt.tight_layout()\n",
    "plt.show()"
   ]
  },
  {
   "cell_type": "markdown",
   "metadata": {},
   "source": [
    "Note: The number of accounts created in an year peeked in 2013, it is on a decline ever since."
   ]
  },
  {
   "cell_type": "markdown",
   "metadata": {},
   "source": [
    "### Average and Median Repo Stars by Language"
   ]
  },
  {
   "cell_type": "code",
   "execution_count": 86,
   "metadata": {},
   "outputs": [
    {
     "data": {
      "text/plain": [
       "language\n",
       "AGS Script          8.0\n",
       "AMPL                2.0\n",
       "ANTLR               0.0\n",
       "API Blueprint       1.0\n",
       "APL                 5.0\n",
       "                   ... \n",
       "ZenScript           0.0\n",
       "Zig                 0.0\n",
       "mcfunction          2.5\n",
       "q                   2.0\n",
       "reStructuredText    1.0\n",
       "Name: stargazers_count, Length: 213, dtype: float64"
      ]
     },
     "execution_count": 86,
     "metadata": {},
     "output_type": "execute_result"
    }
   ],
   "source": [
    "popular_languages = repos_df.groupby('language')['stargazers_count'].median()\n",
    "popular_languages"
   ]
  },
  {
   "cell_type": "code",
   "execution_count": 87,
   "metadata": {},
   "outputs": [
    {
     "data": {
      "image/png": "[encoded data removed]",
      "text/plain": [
       "<Figure size 700x500 with 1 Axes>"
      ]
     },
     "metadata": {},
     "output_type": "display_data"
    }
   ],
   "source": [
    "sns.barplot(data=popular_languages.nlargest(5))\n",
    "plt.title('Popular Languages (2008-24)')\n",
    "plt.xlabel('Programming Language')\n",
    "plt.ylabel('Median Stars')\n",
    "plt.show()"
   ]
  },
  {
   "cell_type": "markdown",
   "metadata": {},
   "source": [
    "Note: Forth is the most popular programming language in Toronto."
   ]
  },
  {
   "cell_type": "markdown",
   "metadata": {},
   "source": [
    "### Correlation Analysis"
   ]
  },
  {
   "cell_type": "code",
   "execution_count": 88,
   "metadata": {},
   "outputs": [
    {
     "data": {
      "text/html": [
       "<div>\n",
       "<style scoped>\n",
       "    .dataframe tbody tr th:only-of-type {\n",
       "        vertical-align: middle;\n",
       "    }\n",
       "\n",
       "    .dataframe tbody tr th {\n",
       "        vertical-align: top;\n",
       "    }\n",
       "\n",
       "    .dataframe thead th {\n",
       "        text-align: right;\n",
       "    }\n",
       "</style>\n",
       "<table border=\"1\" class=\"dataframe\">\n",
       "  <thead>\n",
       "    <tr style=\"text-align: right;\">\n",
       "      <th></th>\n",
       "      <th>public_repos</th>\n",
       "      <th>followers</th>\n",
       "      <th>following</th>\n",
       "      <th>leader_strength</th>\n",
       "    </tr>\n",
       "  </thead>\n",
       "  <tbody>\n",
       "    <tr>\n",
       "      <th>public_repos</th>\n",
       "      <td>1.000000</td>\n",
       "      <td>0.054894</td>\n",
       "      <td>0.014837</td>\n",
       "      <td>-0.001432</td>\n",
       "    </tr>\n",
       "    <tr>\n",
       "      <th>followers</th>\n",
       "      <td>0.054894</td>\n",
       "      <td>1.000000</td>\n",
       "      <td>0.007944</td>\n",
       "      <td>0.656162</td>\n",
       "    </tr>\n",
       "    <tr>\n",
       "      <th>following</th>\n",
       "      <td>0.014837</td>\n",
       "      <td>0.007944</td>\n",
       "      <td>1.000000</td>\n",
       "      <td>-0.040108</td>\n",
       "    </tr>\n",
       "    <tr>\n",
       "      <th>leader_strength</th>\n",
       "      <td>-0.001432</td>\n",
       "      <td>0.656162</td>\n",
       "      <td>-0.040108</td>\n",
       "      <td>1.000000</td>\n",
       "    </tr>\n",
       "  </tbody>\n",
       "</table>\n",
       "</div>"
      ],
      "text/plain": [
       "                 public_repos  followers  following  leader_strength\n",
       "public_repos         1.000000   0.054894   0.014837        -0.001432\n",
       "followers            0.054894   1.000000   0.007944         0.656162\n",
       "following            0.014837   0.007944   1.000000        -0.040108\n",
       "leader_strength     -0.001432   0.656162  -0.040108         1.000000"
      ]
     },
     "execution_count": 88,
     "metadata": {},
     "output_type": "execute_result"
    }
   ],
   "source": [
    "users_df[['public_repos', 'followers', 'following', 'leader_strength']].corr()"
   ]
  },
  {
   "cell_type": "markdown",
   "metadata": {},
   "source": [
    "Note: No strong linear correlation among the numerical features."
   ]
  },
  {
   "cell_type": "markdown",
   "metadata": {},
   "source": [
    "### Pivot Table of License Usage by Language"
   ]
  },
  {
   "cell_type": "code",
   "execution_count": 89,
   "metadata": {},
   "outputs": [
    {
     "data": {
      "text/html": [
       "<div>\n",
       "<style scoped>\n",
       "    .dataframe tbody tr th:only-of-type {\n",
       "        vertical-align: middle;\n",
       "    }\n",
       "\n",
       "    .dataframe tbody tr th {\n",
       "        vertical-align: top;\n",
       "    }\n",
       "\n",
       "    .dataframe thead th {\n",
       "        text-align: right;\n",
       "    }\n",
       "</style>\n",
       "<table border=\"1\" class=\"dataframe\">\n",
       "  <thead>\n",
       "    <tr style=\"text-align: right;\">\n",
       "      <th></th>\n",
       "      <th>login</th>\n",
       "      <th>full_name</th>\n",
       "      <th>created_at</th>\n",
       "      <th>stargazers_count</th>\n",
       "      <th>watchers_count</th>\n",
       "      <th>language</th>\n",
       "      <th>has_projects</th>\n",
       "      <th>has_wiki</th>\n",
       "      <th>license_name</th>\n",
       "    </tr>\n",
       "  </thead>\n",
       "  <tbody>\n",
       "    <tr>\n",
       "      <th>0</th>\n",
       "      <td>aneagoie</td>\n",
       "      <td>aneagoie/ztm-extension</td>\n",
       "      <td>2023-12-15 13:32:57+00:00</td>\n",
       "      <td>3</td>\n",
       "      <td>3</td>\n",
       "      <td>JavaScript</td>\n",
       "      <td>True</td>\n",
       "      <td>False</td>\n",
       "      <td>mit</td>\n",
       "    </tr>\n",
       "    <tr>\n",
       "      <th>1</th>\n",
       "      <td>aneagoie</td>\n",
       "      <td>aneagoie/ML-Notes</td>\n",
       "      <td>2019-09-28 02:31:10+00:00</td>\n",
       "      <td>60</td>\n",
       "      <td>60</td>\n",
       "      <td>Jupyter Notebook</td>\n",
       "      <td>True</td>\n",
       "      <td>True</td>\n",
       "      <td>NaN</td>\n",
       "    </tr>\n",
       "    <tr>\n",
       "      <th>2</th>\n",
       "      <td>aneagoie</td>\n",
       "      <td>aneagoie/smart-brain-boost-api-dockerized</td>\n",
       "      <td>2018-04-12 18:44:49+00:00</td>\n",
       "      <td>55</td>\n",
       "      <td>55</td>\n",
       "      <td>JavaScript</td>\n",
       "      <td>True</td>\n",
       "      <td>True</td>\n",
       "      <td>NaN</td>\n",
       "    </tr>\n",
       "    <tr>\n",
       "      <th>3</th>\n",
       "      <td>aneagoie</td>\n",
       "      <td>aneagoie/smart-brain-boost-api</td>\n",
       "      <td>2018-04-09 18:46:06+00:00</td>\n",
       "      <td>14</td>\n",
       "      <td>14</td>\n",
       "      <td>JavaScript</td>\n",
       "      <td>True</td>\n",
       "      <td>True</td>\n",
       "      <td>NaN</td>\n",
       "    </tr>\n",
       "    <tr>\n",
       "      <th>4</th>\n",
       "      <td>aneagoie</td>\n",
       "      <td>aneagoie/smart-brain-boost-lambda</td>\n",
       "      <td>2018-04-15 17:02:27+00:00</td>\n",
       "      <td>20</td>\n",
       "      <td>20</td>\n",
       "      <td>JavaScript</td>\n",
       "      <td>True</td>\n",
       "      <td>True</td>\n",
       "      <td>NaN</td>\n",
       "    </tr>\n",
       "  </tbody>\n",
       "</table>\n",
       "</div>"
      ],
      "text/plain": [
       "      login                                  full_name  \\\n",
       "0  aneagoie                     aneagoie/ztm-extension   \n",
       "1  aneagoie                          aneagoie/ML-Notes   \n",
       "2  aneagoie  aneagoie/smart-brain-boost-api-dockerized   \n",
       "3  aneagoie             aneagoie/smart-brain-boost-api   \n",
       "4  aneagoie          aneagoie/smart-brain-boost-lambda   \n",
       "\n",
       "                 created_at  stargazers_count  watchers_count  \\\n",
       "0 2023-12-15 13:32:57+00:00                 3               3   \n",
       "1 2019-09-28 02:31:10+00:00                60              60   \n",
       "2 2018-04-12 18:44:49+00:00                55              55   \n",
       "3 2018-04-09 18:46:06+00:00                14              14   \n",
       "4 2018-04-15 17:02:27+00:00                20              20   \n",
       "\n",
       "           language  has_projects  has_wiki license_name  \n",
       "0        JavaScript          True     False          mit  \n",
       "1  Jupyter Notebook          True      True          NaN  \n",
       "2        JavaScript          True      True          NaN  \n",
       "3        JavaScript          True      True          NaN  \n",
       "4        JavaScript          True      True          NaN  "
      ]
     },
     "execution_count": 89,
     "metadata": {},
     "output_type": "execute_result"
    }
   ],
   "source": [
    "repos_df.head()"
   ]
  },
  {
   "cell_type": "code",
   "execution_count": 90,
   "metadata": {},
   "outputs": [
    {
     "data": {
      "text/plain": [
       "['Forth', 'ASP.NET', 'BrighterScript', 'SAS', 'SWIG']"
      ]
     },
     "execution_count": 90,
     "metadata": {},
     "output_type": "execute_result"
    }
   ],
   "source": [
    "popular_languages.nlargest(5).index.to_list()"
   ]
  },
  {
   "cell_type": "code",
   "execution_count": 91,
   "metadata": {},
   "outputs": [
    {
     "data": {
      "text/plain": [
       "language\n",
       "Cython            1366.250000\n",
       "BrighterScript     311.000000\n",
       "MATLAB             268.521429\n",
       "Jinja              218.777778\n",
       "ShaderLab          184.277778\n",
       "Dart               183.335100\n",
       "Kotlin             181.852903\n",
       "AppleScript        172.000000\n",
       "SWIG               136.000000\n",
       "Pawn               101.000000\n",
       "dtype: float64"
      ]
     },
     "execution_count": 91,
     "metadata": {},
     "output_type": "execute_result"
    }
   ],
   "source": [
    "pivot_table = repos_df.pivot_table(index='license_name', columns='language', values='stargazers_count', aggfunc='mean')\n",
    "pivot_table.mean(axis=0).nlargest(10)"
   ]
  },
  {
   "cell_type": "markdown",
   "metadata": {},
   "source": [
    "### Top Companies with High Leader Strength"
   ]
  },
  {
   "cell_type": "code",
   "execution_count": 92,
   "metadata": {},
   "outputs": [
    {
     "data": {
      "text/plain": [
       "company\n",
       "PROJECT NAYUKI                                    3541.000000\n",
       "ATTALITECH LTD                                    2141.000000\n",
       "VECTOR INSTITUTE                                  1292.000000\n",
       "DEEP LEARNING CONSULTANT                          1125.500000\n",
       "OLLAMA                                             980.000000\n",
       "HAPI // SMILE CDR // UNIVERSITY HEALTH NETWORK     585.000000\n",
       "HTTPS://FRONTENDSNACKS.DEV/                        523.000000\n",
       "ANACONDA, INC.                                     407.000000\n",
       "JACINTO DESIGN                                     377.000000\n",
       "GITHUB                                             375.093333\n",
       "Name: leader_strength, dtype: float64"
      ]
     },
     "execution_count": 92,
     "metadata": {},
     "output_type": "execute_result"
    }
   ],
   "source": [
    "users_df.groupby('company')['leader_strength'].mean().nlargest(10)"
   ]
  },
  {
   "cell_type": "code",
   "execution_count": 93,
   "metadata": {},
   "outputs": [
    {
     "data": {
      "text/html": [
       "<div>\n",
       "<style scoped>\n",
       "    .dataframe tbody tr th:only-of-type {\n",
       "        vertical-align: middle;\n",
       "    }\n",
       "\n",
       "    .dataframe tbody tr th {\n",
       "        vertical-align: top;\n",
       "    }\n",
       "\n",
       "    .dataframe thead th {\n",
       "        text-align: right;\n",
       "    }\n",
       "</style>\n",
       "<table border=\"1\" class=\"dataframe\">\n",
       "  <thead>\n",
       "    <tr style=\"text-align: right;\">\n",
       "      <th></th>\n",
       "      <th>login</th>\n",
       "      <th>name</th>\n",
       "      <th>company</th>\n",
       "      <th>location</th>\n",
       "      <th>email</th>\n",
       "      <th>hireable</th>\n",
       "      <th>bio</th>\n",
       "      <th>public_repos</th>\n",
       "      <th>followers</th>\n",
       "      <th>following</th>\n",
       "      <th>created_at</th>\n",
       "      <th>leader_strength</th>\n",
       "    </tr>\n",
       "  </thead>\n",
       "  <tbody>\n",
       "    <tr>\n",
       "      <th>18</th>\n",
       "      <td>jmorganca</td>\n",
       "      <td>Jeffrey Morgan</td>\n",
       "      <td>OLLAMA</td>\n",
       "      <td>Toronto</td>\n",
       "      <td>jmorganca@gmail.com</td>\n",
       "      <td>False</td>\n",
       "      <td>Building @ollama \\r\\n\\r\\nPreviously at @docker...</td>\n",
       "      <td>2</td>\n",
       "      <td>1960</td>\n",
       "      <td>1</td>\n",
       "      <td>2010-04-24 05:02:15+00:00</td>\n",
       "      <td>980.0</td>\n",
       "    </tr>\n",
       "  </tbody>\n",
       "</table>\n",
       "</div>"
      ],
      "text/plain": [
       "        login            name company location                email  hireable  \\\n",
       "18  jmorganca  Jeffrey Morgan  OLLAMA  Toronto  jmorganca@gmail.com     False   \n",
       "\n",
       "                                                  bio  public_repos  \\\n",
       "18  Building @ollama \\r\\n\\r\\nPreviously at @docker...             2   \n",
       "\n",
       "    followers  following                created_at  leader_strength  \n",
       "18       1960          1 2010-04-24 05:02:15+00:00            980.0  "
      ]
     },
     "execution_count": 93,
     "metadata": {},
     "output_type": "execute_result"
    }
   ],
   "source": [
    "users_df[users_df['company'] == 'OLLAMA']"
   ]
  },
  {
   "cell_type": "markdown",
   "metadata": {},
   "source": [
    "### Repo Activity by Year"
   ]
  },
  {
   "cell_type": "code",
   "execution_count": 94,
   "metadata": {},
   "outputs": [
    {
     "data": {
      "text/plain": [
       "created_at\n",
       "2008-12-31 00:00:00+00:00      79\n",
       "2009-12-31 00:00:00+00:00     191\n",
       "2010-12-31 00:00:00+00:00     516\n",
       "2011-12-31 00:00:00+00:00     799\n",
       "2012-12-31 00:00:00+00:00    1454\n",
       "Freq: YE-DEC, Name: login, dtype: int64"
      ]
     },
     "execution_count": 94,
     "metadata": {},
     "output_type": "execute_result"
    }
   ],
   "source": [
    "yearly_created_repos = repos_df.groupby(pd.Grouper(key='created_at', freq='YE'))['login'].count()\n",
    "yearly_created_repos.head()"
   ]
  },
  {
   "cell_type": "code",
   "execution_count": 95,
   "metadata": {},
   "outputs": [
    {
     "data": {
      "image/png": "[encoded data removed]",
      "text/plain": [
       "<Figure size 700x500 with 1 Axes>"
      ]
     },
     "metadata": {},
     "output_type": "display_data"
    }
   ],
   "source": [
    "sns.lineplot(data=yearly_created_repos)\n",
    "plt.title('Repositories Created on GitHub (Yearly)')\n",
    "plt.xlabel('Year (created_at)')\n",
    "plt.ylabel('No. of Repos')\n",
    "plt.tight_layout()\n",
    "plt.show()"
   ]
  },
  {
   "cell_type": "markdown",
   "metadata": {},
   "source": [
    "Note: Sharp increase in number of repos being created in 2015."
   ]
  },
  {
   "cell_type": "markdown",
   "metadata": {},
   "source": [
    "### Repo Engagement Rates"
   ]
  },
  {
   "cell_type": "code",
   "execution_count": 96,
   "metadata": {},
   "outputs": [
    {
     "data": {
      "text/plain": [
       "login\n",
       "0xsauby         85.571429\n",
       "1997alireza      2.485714\n",
       "1Computer1       8.296296\n",
       "1Password      130.118421\n",
       "32teeth          2.506667\n",
       "                  ...    \n",
       "zhangsu          2.137931\n",
       "ziishaned      625.512195\n",
       "zlovatt         12.214286\n",
       "zoffixznet       0.116000\n",
       "zoltan-nz        2.763780\n",
       "Name: stargazers_count, Length: 678, dtype: float64"
      ]
     },
     "execution_count": 96,
     "metadata": {},
     "output_type": "execute_result"
    }
   ],
   "source": [
    "popular_users = repos_df.groupby('login')['stargazers_count'].mean()\n",
    "popular_users"
   ]
  },
  {
   "cell_type": "code",
   "execution_count": 97,
   "metadata": {},
   "outputs": [
    {
     "data": {
      "image/png": "[encoded data removed]",
      "text/plain": [
       "<Figure size 700x500 with 1 Axes>"
      ]
     },
     "metadata": {},
     "output_type": "display_data"
    }
   ],
   "source": [
    "sns.barplot(data=popular_users.nlargest(5))\n",
    "plt.title('Popular Users (2008-24)')\n",
    "plt.xlabel('Username')\n",
    "plt.ylabel('Avg. stars per repo')\n",
    "plt.show()"
   ]
  },
  {
   "cell_type": "markdown",
   "metadata": {},
   "source": [
    "Note: Suprising result as these aren't the most popular user nor have the highest no. of repos."
   ]
  },
  {
   "cell_type": "markdown",
   "metadata": {},
   "source": [
    "### Average Leader Strength by Repo Language"
   ]
  },
  {
   "cell_type": "code",
   "execution_count": 98,
   "metadata": {},
   "outputs": [
    {
     "data": {
      "text/plain": [
       "language\n",
       "AGS Script                                                [utiasASRL]\n",
       "AMPL                                        [ReikaKalseki, shonfeder]\n",
       "ANTLR                                 [jamesagnew, lextm, zoffixznet]\n",
       "API Blueprint                                           [lunaroyster]\n",
       "APL                                                      [codereport]\n",
       "                                          ...                        \n",
       "ZenScript                                                 [Krutonium]\n",
       "Zig                 [wiseodd, zackradisic, gf3, DaleSeo, andrewn6,...\n",
       "mcfunction                                     [fmoliveira, adryd325]\n",
       "q                                                            [san089]\n",
       "reStructuredText                                          [eviltrout]\n",
       "Name: login, Length: 213, dtype: object"
      ]
     },
     "execution_count": 98,
     "metadata": {},
     "output_type": "execute_result"
    }
   ],
   "source": [
    "repos_df.groupby('language')['login'].unique()"
   ]
  },
  {
   "cell_type": "code",
   "execution_count": 99,
   "metadata": {},
   "outputs": [
    {
     "data": {
      "text/html": [
       "<div>\n",
       "<style scoped>\n",
       "    .dataframe tbody tr th:only-of-type {\n",
       "        vertical-align: middle;\n",
       "    }\n",
       "\n",
       "    .dataframe tbody tr th {\n",
       "        vertical-align: top;\n",
       "    }\n",
       "\n",
       "    .dataframe thead th {\n",
       "        text-align: right;\n",
       "    }\n",
       "</style>\n",
       "<table border=\"1\" class=\"dataframe\">\n",
       "  <thead>\n",
       "    <tr style=\"text-align: right;\">\n",
       "      <th></th>\n",
       "      <th>language</th>\n",
       "      <th>avg_leader_strength</th>\n",
       "    </tr>\n",
       "  </thead>\n",
       "  <tbody>\n",
       "    <tr>\n",
       "      <th>0</th>\n",
       "      <td>AGS Script</td>\n",
       "      <td>162.0000</td>\n",
       "    </tr>\n",
       "    <tr>\n",
       "      <th>1</th>\n",
       "      <td>AMPL</td>\n",
       "      <td>189.8090</td>\n",
       "    </tr>\n",
       "    <tr>\n",
       "      <th>2</th>\n",
       "      <td>ANTLR</td>\n",
       "      <td>197.3832</td>\n",
       "    </tr>\n",
       "    <tr>\n",
       "      <th>3</th>\n",
       "      <td>API Blueprint</td>\n",
       "      <td>0.9469</td>\n",
       "    </tr>\n",
       "    <tr>\n",
       "      <th>4</th>\n",
       "      <td>APL</td>\n",
       "      <td>36.8542</td>\n",
       "    </tr>\n",
       "  </tbody>\n",
       "</table>\n",
       "</div>"
      ],
      "text/plain": [
       "        language  avg_leader_strength\n",
       "0     AGS Script             162.0000\n",
       "1           AMPL             189.8090\n",
       "2          ANTLR             197.3832\n",
       "3  API Blueprint               0.9469\n",
       "4            APL              36.8542"
      ]
     },
     "execution_count": 99,
     "metadata": {},
     "output_type": "execute_result"
    }
   ],
   "source": [
    "language_users = repos_df.groupby('language')['login'].unique()\n",
    "\n",
    "avg_leader_strength = []\n",
    "\n",
    "for i, users in zip(language_users.index, language_users):\n",
    "    avg_leader_strength.append([i, users_df[users_df['login'].isin(users)]['leader_strength'].mean().round(4)])\n",
    "\n",
    "avg_leader_str = pd.DataFrame(avg_leader_strength, columns=['language', 'avg_leader_strength'])\n",
    "avg_leader_str.head()"
   ]
  },
  {
   "cell_type": "code",
   "execution_count": 100,
   "metadata": {},
   "outputs": [
    {
     "data": {
      "text/html": [
       "<div>\n",
       "<style scoped>\n",
       "    .dataframe tbody tr th:only-of-type {\n",
       "        vertical-align: middle;\n",
       "    }\n",
       "\n",
       "    .dataframe tbody tr th {\n",
       "        vertical-align: top;\n",
       "    }\n",
       "\n",
       "    .dataframe thead th {\n",
       "        text-align: right;\n",
       "    }\n",
       "</style>\n",
       "<table border=\"1\" class=\"dataframe\">\n",
       "  <thead>\n",
       "    <tr style=\"text-align: right;\">\n",
       "      <th></th>\n",
       "      <th>language</th>\n",
       "      <th>avg_leader_strength</th>\n",
       "    </tr>\n",
       "  </thead>\n",
       "  <tbody>\n",
       "    <tr>\n",
       "      <th>67</th>\n",
       "      <td>Forth</td>\n",
       "      <td>1227.0000</td>\n",
       "    </tr>\n",
       "    <tr>\n",
       "      <th>129</th>\n",
       "      <td>PAWN</td>\n",
       "      <td>1227.0000</td>\n",
       "    </tr>\n",
       "    <tr>\n",
       "      <th>134</th>\n",
       "      <td>Pawn</td>\n",
       "      <td>1227.0000</td>\n",
       "    </tr>\n",
       "    <tr>\n",
       "      <th>178</th>\n",
       "      <td>Starlark</td>\n",
       "      <td>885.1463</td>\n",
       "    </tr>\n",
       "    <tr>\n",
       "      <th>72</th>\n",
       "      <td>Gleam</td>\n",
       "      <td>648.3333</td>\n",
       "    </tr>\n",
       "    <tr>\n",
       "      <th>96</th>\n",
       "      <td>KiCad</td>\n",
       "      <td>638.0000</td>\n",
       "    </tr>\n",
       "    <tr>\n",
       "      <th>118</th>\n",
       "      <td>Nginx</td>\n",
       "      <td>607.1315</td>\n",
       "    </tr>\n",
       "    <tr>\n",
       "      <th>131</th>\n",
       "      <td>PLSQL</td>\n",
       "      <td>589.0000</td>\n",
       "    </tr>\n",
       "    <tr>\n",
       "      <th>212</th>\n",
       "      <td>reStructuredText</td>\n",
       "      <td>589.0000</td>\n",
       "    </tr>\n",
       "    <tr>\n",
       "      <th>35</th>\n",
       "      <td>Clean</td>\n",
       "      <td>564.0000</td>\n",
       "    </tr>\n",
       "  </tbody>\n",
       "</table>\n",
       "</div>"
      ],
      "text/plain": [
       "             language  avg_leader_strength\n",
       "67              Forth            1227.0000\n",
       "129              PAWN            1227.0000\n",
       "134              Pawn            1227.0000\n",
       "178          Starlark             885.1463\n",
       "72              Gleam             648.3333\n",
       "96              KiCad             638.0000\n",
       "118             Nginx             607.1315\n",
       "131             PLSQL             589.0000\n",
       "212  reStructuredText             589.0000\n",
       "35              Clean             564.0000"
      ]
     },
     "execution_count": 100,
     "metadata": {},
     "output_type": "execute_result"
    }
   ],
   "source": [
    "avg_leader_str.nlargest(10, columns='avg_leader_strength')"
   ]
  }
 ],
 "metadata": {
  "kernelspec": {
   "display_name": ".venv",
   "language": "python",
   "name": "python3"
  },
  "language_info": {
   "codemirror_mode": {
    "name": "ipython",
    "version": 3
   },
   "file_extension": ".py",
   "mimetype": "text/x-python",
   "name": "python",
   "nbconvert_exporter": "python",
   "pygments_lexer": "ipython3",
   "version": "3.10.12"
  }
 },
 "nbformat": 4,
 "nbformat_minor": 2
}
