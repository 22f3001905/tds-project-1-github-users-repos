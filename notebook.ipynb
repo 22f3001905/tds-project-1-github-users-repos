{
 "cells": [
  {
   "cell_type": "markdown",
   "metadata": {},
   "source": [
    "## GitHub User Data Scraping"
   ]
  },
  {
   "cell_type": "code",
   "execution_count": 1,
   "metadata": {},
   "outputs": [
    {
     "data": {
      "text/plain": [
       "True"
      ]
     },
     "execution_count": 1,
     "metadata": {},
     "output_type": "execute_result"
    }
   ],
   "source": [
    "import os\n",
    "import time\n",
    "import requests\n",
    "import requests_cache\n",
    "\n",
    "import pandas as pd\n",
    "\n",
    "from dotenv import load_dotenv\n",
    "load_dotenv()"
   ]
  },
  {
   "cell_type": "markdown",
   "metadata": {},
   "source": [
    "### Testing GH Search API"
   ]
  },
  {
   "cell_type": "code",
   "execution_count": 2,
   "metadata": {},
   "outputs": [
    {
     "name": "stdout",
     "output_type": "stream",
     "text": [
      "URL: https://api.github.com/search/users?q=followers%3A%3E100+location%3AToronto&per_page=100&page=1\n",
      "# users: 100\n"
     ]
    }
   ],
   "source": [
    "url = \"https://api.github.com/search/users\"\n",
    "\n",
    "params = {\n",
    "    'q': 'followers:>100 location:Toronto',  # Uses a query string (GraphQL).\n",
    "    'per_page': 100,\n",
    "    'page': 1\n",
    "}\n",
    "# Authenticated Users: 5,000 requests per hour.\n",
    "access_token = os.getenv('GITHUB_TOKEN')\n",
    "headers = {'Authorization': f'token {access_token}'}\n",
    "\n",
    "response = requests.get(url, params=params, headers=headers)\n",
    "print('URL:', response.url)\n",
    "\n",
    "if response.status_code == 200:\n",
    "    data = response.json()\n",
    "    print('# users:', len(data['items']))\n",
    "else:\n",
    "    print(f\"Failed to fetch data. Status code: {response.status_code}\")"
   ]
  },
  {
   "cell_type": "code",
   "execution_count": 3,
   "metadata": {},
   "outputs": [
    {
     "data": {
      "text/plain": [
       "{'next': {'url': 'https://api.github.com/search/users?q=followers%3A%3E100+location%3AToronto&per_page=100&page=2',\n",
       "  'rel': 'next'},\n",
       " 'last': {'url': 'https://api.github.com/search/users?q=followers%3A%3E100+location%3AToronto&per_page=100&page=7',\n",
       "  'rel': 'last'}}"
      ]
     },
     "execution_count": 3,
     "metadata": {},
     "output_type": "execute_result"
    }
   ],
   "source": [
    "response.links  # feature of requests library"
   ]
  },
  {
   "cell_type": "code",
   "execution_count": 4,
   "metadata": {},
   "outputs": [
    {
     "data": {
      "text/plain": [
       "dict_keys(['total_count', 'incomplete_results', 'items'])"
      ]
     },
     "execution_count": 4,
     "metadata": {},
     "output_type": "execute_result"
    }
   ],
   "source": [
    "data.keys()"
   ]
  },
  {
   "cell_type": "code",
   "execution_count": 5,
   "metadata": {},
   "outputs": [
    {
     "data": {
      "text/plain": [
       "{'login': 'aneagoie',\n",
       " 'id': 10776230,\n",
       " 'node_id': 'MDQ6VXNlcjEwNzc2MjMw',\n",
       " 'avatar_url': 'https://avatars.githubusercontent.com/u/10776230?v=4',\n",
       " 'gravatar_id': '',\n",
       " 'url': 'https://api.github.com/users/aneagoie',\n",
       " 'html_url': 'https://github.com/aneagoie',\n",
       " 'followers_url': 'https://api.github.com/users/aneagoie/followers',\n",
       " 'following_url': 'https://api.github.com/users/aneagoie/following{/other_user}',\n",
       " 'gists_url': 'https://api.github.com/users/aneagoie/gists{/gist_id}',\n",
       " 'starred_url': 'https://api.github.com/users/aneagoie/starred{/owner}{/repo}',\n",
       " 'subscriptions_url': 'https://api.github.com/users/aneagoie/subscriptions',\n",
       " 'organizations_url': 'https://api.github.com/users/aneagoie/orgs',\n",
       " 'repos_url': 'https://api.github.com/users/aneagoie/repos',\n",
       " 'events_url': 'https://api.github.com/users/aneagoie/events{/privacy}',\n",
       " 'received_events_url': 'https://api.github.com/users/aneagoie/received_events',\n",
       " 'type': 'User',\n",
       " 'user_view_type': 'public',\n",
       " 'site_admin': False,\n",
       " 'score': 1.0}"
      ]
     },
     "execution_count": 5,
     "metadata": {},
     "output_type": "execute_result"
    }
   ],
   "source": [
    "data['items'][0]"
   ]
  },
  {
   "cell_type": "markdown",
   "metadata": {},
   "source": [
    "### Search for Users\n",
    "\n",
    "* Toronto users with more than 100 followers"
   ]
  },
  {
   "cell_type": "code",
   "execution_count": 6,
   "metadata": {},
   "outputs": [],
   "source": [
    "def dynamic_delay(response):\n",
    "    if response.headers.get('X-RateLimit-Remaining') == '0':\n",
    "        reset_time = int(response.headers.get('X-RateLimit-Reset'))\n",
    "        sleep_time = reset_time - int(time.time()) + 5  # Add a buffer of 5s.\n",
    "\n",
    "        print(f\"Rate limit exceeded. Sleeping for {sleep_time} seconds!\")\n",
    "        time.sleep(sleep_time)\n",
    "\n",
    "    time.sleep(1)  # Sleep for 1s regardless."
   ]
  },
  {
   "cell_type": "code",
   "execution_count": 7,
   "metadata": {},
   "outputs": [
    {
     "name": "stdout",
     "output_type": "stream",
     "text": [
      "Fetched from cache.\n",
      "# of users: 680\n"
     ]
    }
   ],
   "source": [
    "printed_message_from_cached = False\n",
    "requests_cache.install_cache('cache/search_users', expire_after=None)\n",
    "\n",
    "users = []  # All users in Toronto with more than 100 followers.\n",
    "\n",
    "url = \"https://api.github.com/search/users\"\n",
    "params = {\n",
    "    'q': 'followers:>100 location:Toronto',  # Uses a query string (GraphQL).\n",
    "    'per_page': 100,\n",
    "    'page': 1\n",
    "}\n",
    "\n",
    "access_token = os.getenv('GITHUB_TOKEN')\n",
    "headers = {'Authorization': f'token {access_token}'}\n",
    "\n",
    "while True:\n",
    "    response = requests.get(url, params=params, headers=headers)\n",
    "\n",
    "    if response.status_code != 200:\n",
    "        print(f\"Failed to fetch users. Status code: {response.status_code}\")\n",
    "        break\n",
    "\n",
    "    data = response.json()\n",
    "\n",
    "    for user in data.get('items', []):\n",
    "        users.append({\n",
    "            'login': user['login'],\n",
    "            'id': user['id'],\n",
    "            'url': user['url'],\n",
    "            'repos_url': user['repos_url']\n",
    "        })\n",
    "    \n",
    "    if response.from_cache:\n",
    "        if not printed_message_from_cached:\n",
    "            print('Fetched from cache.')\n",
    "            printed_message_from_cached = True\n",
    "    else:\n",
    "        print(\"Fetched from API:\", response.url)\n",
    "        dynamic_delay(response)\n",
    "\n",
    "    # Check if there are more pages.\n",
    "    if 'next' not in response.links:\n",
    "        break\n",
    "\n",
    "    params['page'] += 1\n",
    "\n",
    "print('# of users:', len(users))"
   ]
  },
  {
   "cell_type": "code",
   "execution_count": 8,
   "metadata": {},
   "outputs": [
    {
     "data": {
      "text/plain": [
       "{'Access-Control-Allow-Origin': '*',\n",
       " 'Access-Control-Expose-Headers': 'ETag, Link, Location, Retry-After, X-GitHub-OTP, X-RateLimit-Limit, X-RateLimit-Remaining, X-RateLimit-Used, X-RateLimit-Resource, X-RateLimit-Reset, X-OAuth-Scopes, X-Accepted-OAuth-Scopes, X-Poll-Interval, X-GitHub-Media-Type, X-GitHub-SSO, X-GitHub-Request-Id, Deprecation, Sunset',\n",
       " 'Cache-Control': 'no-cache',\n",
       " 'Content-Encoding': 'gzip',\n",
       " 'Content-Security-Policy': \"default-src 'none'\",\n",
       " 'Content-Type': 'application/json; charset=utf-8',\n",
       " 'Date': 'Mon, 21 Oct 2024 16:43:35 GMT',\n",
       " 'Link': '<https://api.github.com/search/users?q=followers%3A%3E100+location%3AToronto&per_page=100&page=6>; rel=\"prev\", <https://api.github.com/search/users?q=followers%3A%3E100+location%3AToronto&per_page=100&page=1>; rel=\"first\"',\n",
       " 'Referrer-Policy': 'origin-when-cross-origin, strict-origin-when-cross-origin',\n",
       " 'Server': 'github.com',\n",
       " 'Strict-Transport-Security': 'max-age=31536000; includeSubdomains; preload',\n",
       " 'Transfer-Encoding': 'chunked',\n",
       " 'Vary': 'Accept, Authorization, Cookie, X-GitHub-OTP,Accept-Encoding, Accept, X-Requested-With',\n",
       " 'X-Accepted-OAuth-Scopes': '',\n",
       " 'X-Content-Type-Options': 'nosniff',\n",
       " 'X-Frame-Options': 'deny',\n",
       " 'X-GitHub-Media-Type': 'github.v3; format=json',\n",
       " 'X-GitHub-Request-Id': 'CFA4:665C5:6C493D:739E66:671684B7',\n",
       " 'X-OAuth-Scopes': 'repo, user',\n",
       " 'X-RateLimit-Limit': '30',\n",
       " 'X-RateLimit-Remaining': '22',\n",
       " 'X-RateLimit-Reset': '1729529065',\n",
       " 'X-RateLimit-Resource': 'search',\n",
       " 'X-RateLimit-Used': '8',\n",
       " 'X-XSS-Protection': '0',\n",
       " 'github-authentication-token-expiration': '2024-11-20 07:23:10 UTC',\n",
       " 'x-github-api-version-selected': '2022-11-28'}"
      ]
     },
     "execution_count": 8,
     "metadata": {},
     "output_type": "execute_result"
    }
   ],
   "source": [
    "dict(response.headers)"
   ]
  },
  {
   "cell_type": "code",
   "execution_count": 9,
   "metadata": {},
   "outputs": [
    {
     "data": {
      "text/plain": [
       "{'login': 'aneagoie',\n",
       " 'id': 10776230,\n",
       " 'url': 'https://api.github.com/users/aneagoie',\n",
       " 'repos_url': 'https://api.github.com/users/aneagoie/repos'}"
      ]
     },
     "execution_count": 9,
     "metadata": {},
     "output_type": "execute_result"
    }
   ],
   "source": [
    "users[0]"
   ]
  },
  {
   "cell_type": "markdown",
   "metadata": {},
   "source": [
    "### Fetch User Data"
   ]
  },
  {
   "cell_type": "code",
   "execution_count": 10,
   "metadata": {},
   "outputs": [],
   "source": [
    "def clean_company_name(company):\n",
    "    company_name = None\n",
    "    if company:\n",
    "        company_name = company.strip()\n",
    "        if company_name.startswith('@'):\n",
    "            company_name = company_name[1:]\n",
    "        company_name = company_name.upper()\n",
    "    \n",
    "    return company_name"
   ]
  },
  {
   "cell_type": "code",
   "execution_count": 11,
   "metadata": {},
   "outputs": [
    {
     "name": "stdout",
     "output_type": "stream",
     "text": [
      "Fetched from cache.\n"
     ]
    },
    {
     "data": {
      "text/plain": [
       "{'login': 'aneagoie',\n",
       " 'name': 'Andrei Neagoie',\n",
       " 'company': None,\n",
       " 'location': 'Toronto, Canada',\n",
       " 'email': None,\n",
       " 'hireable': True,\n",
       " 'bio': 'Senior Software Dev turned Instructor. Founder of zerotomastery.io',\n",
       " 'public_repos': 145,\n",
       " 'followers': 10268,\n",
       " 'following': 1,\n",
       " 'created_at': '2015-01-30T17:05:43Z'}"
      ]
     },
     "execution_count": 11,
     "metadata": {},
     "output_type": "execute_result"
    }
   ],
   "source": [
    "printed_message_from_cached = False\n",
    "requests_cache.install_cache('cache/users', expire_after=None)\n",
    "\n",
    "users_data = []\n",
    "\n",
    "for user in users:\n",
    "    response = requests.get(user['url'], headers=headers)\n",
    "\n",
    "    if response.status_code != 200:\n",
    "        print(f\"Failed to fetch {user['login']}'s data. Status code: {response.status_code}\")\n",
    "        break\n",
    "    \n",
    "    data = response.json()\n",
    "    \n",
    "    users_data.append({\n",
    "        'login': data['login'],\n",
    "        'name': data['name'],\n",
    "        'company': clean_company_name(data['company']),\n",
    "        'location': data['location'],\n",
    "        'email': data['email'],\n",
    "        'hireable': data['hireable'],\n",
    "        'bio': data['bio'],\n",
    "        'public_repos': data['public_repos'],\n",
    "        'followers': data['followers'],\n",
    "        'following': data['following'],\n",
    "        'created_at': data['created_at'],\n",
    "    })\n",
    "\n",
    "    if response.from_cache:\n",
    "        if not printed_message_from_cached:\n",
    "            print('Fetched from cache.')\n",
    "            printed_message_from_cached = True\n",
    "    else:\n",
    "        print('Fetched from API:', response.url)\n",
    "        dynamic_delay(response)\n",
    "\n",
    "users_data[0]"
   ]
  },
  {
   "cell_type": "code",
   "execution_count": 12,
   "metadata": {},
   "outputs": [
    {
     "data": {
      "text/plain": [
       "680"
      ]
     },
     "execution_count": 12,
     "metadata": {},
     "output_type": "execute_result"
    }
   ],
   "source": [
    "len(users_data)"
   ]
  },
  {
   "cell_type": "code",
   "execution_count": 13,
   "metadata": {},
   "outputs": [
    {
     "data": {
      "text/plain": [
       "{'Access-Control-Allow-Origin': '*',\n",
       " 'Access-Control-Expose-Headers': 'ETag, Link, Location, Retry-After, X-GitHub-OTP, X-RateLimit-Limit, X-RateLimit-Remaining, X-RateLimit-Used, X-RateLimit-Resource, X-RateLimit-Reset, X-OAuth-Scopes, X-Accepted-OAuth-Scopes, X-Poll-Interval, X-GitHub-Media-Type, X-GitHub-SSO, X-GitHub-Request-Id, Deprecation, Sunset',\n",
       " 'Cache-Control': 'private, max-age=60, s-maxage=60',\n",
       " 'Content-Encoding': 'gzip',\n",
       " 'Content-Security-Policy': \"default-src 'none'\",\n",
       " 'Content-Type': 'application/json; charset=utf-8',\n",
       " 'Date': 'Mon, 21 Oct 2024 17:01:38 GMT',\n",
       " 'ETag': 'W/\"dbbd1c8be0f168814915dde0d8fbc5b716d3913a61c224d395043082b7f75e8b\"',\n",
       " 'Last-Modified': 'Fri, 18 Oct 2024 22:22:40 GMT',\n",
       " 'Referrer-Policy': 'origin-when-cross-origin, strict-origin-when-cross-origin',\n",
       " 'Server': 'github.com',\n",
       " 'Strict-Transport-Security': 'max-age=31536000; includeSubdomains; preload',\n",
       " 'Transfer-Encoding': 'chunked',\n",
       " 'Vary': 'Accept, Authorization, Cookie, X-GitHub-OTP,Accept-Encoding, Accept, X-Requested-With',\n",
       " 'X-Accepted-OAuth-Scopes': '',\n",
       " 'X-Content-Type-Options': 'nosniff',\n",
       " 'X-Frame-Options': 'deny',\n",
       " 'X-GitHub-Media-Type': 'github.v3; format=json',\n",
       " 'X-GitHub-Request-Id': 'E5A2:23CFFC:63FAA2:6A31F5:671688F2',\n",
       " 'X-OAuth-Scopes': 'repo, user',\n",
       " 'X-RateLimit-Limit': '5000',\n",
       " 'X-RateLimit-Remaining': '4320',\n",
       " 'X-RateLimit-Reset': '1729532617',\n",
       " 'X-RateLimit-Resource': 'core',\n",
       " 'X-RateLimit-Used': '680',\n",
       " 'X-XSS-Protection': '0',\n",
       " 'github-authentication-token-expiration': '2024-11-20 07:23:10 UTC',\n",
       " 'x-github-api-version-selected': '2022-11-28'}"
      ]
     },
     "execution_count": 13,
     "metadata": {},
     "output_type": "execute_result"
    }
   ],
   "source": [
    "dict(response.headers)"
   ]
  },
  {
   "cell_type": "markdown",
   "metadata": {},
   "source": [
    "#### Save user data to .csv"
   ]
  },
  {
   "cell_type": "code",
   "execution_count": 14,
   "metadata": {},
   "outputs": [
    {
     "data": {
      "text/html": [
       "<div>\n",
       "<style scoped>\n",
       "    .dataframe tbody tr th:only-of-type {\n",
       "        vertical-align: middle;\n",
       "    }\n",
       "\n",
       "    .dataframe tbody tr th {\n",
       "        vertical-align: top;\n",
       "    }\n",
       "\n",
       "    .dataframe thead th {\n",
       "        text-align: right;\n",
       "    }\n",
       "</style>\n",
       "<table border=\"1\" class=\"dataframe\">\n",
       "  <thead>\n",
       "    <tr style=\"text-align: right;\">\n",
       "      <th></th>\n",
       "      <th>login</th>\n",
       "      <th>name</th>\n",
       "      <th>company</th>\n",
       "      <th>location</th>\n",
       "      <th>email</th>\n",
       "      <th>hireable</th>\n",
       "      <th>bio</th>\n",
       "      <th>public_repos</th>\n",
       "      <th>followers</th>\n",
       "      <th>following</th>\n",
       "      <th>created_at</th>\n",
       "    </tr>\n",
       "  </thead>\n",
       "  <tbody>\n",
       "    <tr>\n",
       "      <th>0</th>\n",
       "      <td>aneagoie</td>\n",
       "      <td>Andrei Neagoie</td>\n",
       "      <td>None</td>\n",
       "      <td>Toronto, Canada</td>\n",
       "      <td>None</td>\n",
       "      <td>True</td>\n",
       "      <td>Senior Software Dev turned Instructor. Founder...</td>\n",
       "      <td>145</td>\n",
       "      <td>10268</td>\n",
       "      <td>1</td>\n",
       "      <td>2015-01-30T17:05:43Z</td>\n",
       "    </tr>\n",
       "    <tr>\n",
       "      <th>1</th>\n",
       "      <td>ZhangMYihua</td>\n",
       "      <td>Yihua Zhang</td>\n",
       "      <td>None</td>\n",
       "      <td>Toronto</td>\n",
       "      <td>yihuazhang2@gmail.com</td>\n",
       "      <td>None</td>\n",
       "      <td>Toronto Software Developer</td>\n",
       "      <td>143</td>\n",
       "      <td>5804</td>\n",
       "      <td>11</td>\n",
       "      <td>2015-01-18T00:01:02Z</td>\n",
       "    </tr>\n",
       "    <tr>\n",
       "      <th>2</th>\n",
       "      <td>susanli2016</td>\n",
       "      <td>Susan Li</td>\n",
       "      <td>None</td>\n",
       "      <td>Toronto Canada</td>\n",
       "      <td>None</td>\n",
       "      <td>None</td>\n",
       "      <td>Chief Data Scientist</td>\n",
       "      <td>34</td>\n",
       "      <td>4917</td>\n",
       "      <td>68</td>\n",
       "      <td>2016-11-28T04:22:39Z</td>\n",
       "    </tr>\n",
       "    <tr>\n",
       "      <th>3</th>\n",
       "      <td>thedaviddias</td>\n",
       "      <td>David Dias</td>\n",
       "      <td>KIJIJICA</td>\n",
       "      <td>Toronto, Canada</td>\n",
       "      <td>None</td>\n",
       "      <td>None</td>\n",
       "      <td>💻 Passionate Front-End Dev &amp; 🎨 UI/UX fan. Cont...</td>\n",
       "      <td>89</td>\n",
       "      <td>4533</td>\n",
       "      <td>301</td>\n",
       "      <td>2010-04-05T14:40:12Z</td>\n",
       "    </tr>\n",
       "    <tr>\n",
       "      <th>4</th>\n",
       "      <td>ange-yaghi</td>\n",
       "      <td>Ange Yaghi</td>\n",
       "      <td>None</td>\n",
       "      <td>Toronto</td>\n",
       "      <td>me@angeyaghi.com</td>\n",
       "      <td>None</td>\n",
       "      <td>C++ Developer</td>\n",
       "      <td>32</td>\n",
       "      <td>4020</td>\n",
       "      <td>11</td>\n",
       "      <td>2016-07-13T21:01:21Z</td>\n",
       "    </tr>\n",
       "  </tbody>\n",
       "</table>\n",
       "</div>"
      ],
      "text/plain": [
       "          login            name   company         location  \\\n",
       "0      aneagoie  Andrei Neagoie      None  Toronto, Canada   \n",
       "1   ZhangMYihua     Yihua Zhang      None          Toronto   \n",
       "2   susanli2016        Susan Li      None   Toronto Canada   \n",
       "3  thedaviddias      David Dias  KIJIJICA  Toronto, Canada   \n",
       "4    ange-yaghi      Ange Yaghi      None          Toronto   \n",
       "\n",
       "                   email hireable  \\\n",
       "0                   None     True   \n",
       "1  yihuazhang2@gmail.com     None   \n",
       "2                   None     None   \n",
       "3                   None     None   \n",
       "4       me@angeyaghi.com     None   \n",
       "\n",
       "                                                 bio  public_repos  followers  \\\n",
       "0  Senior Software Dev turned Instructor. Founder...           145      10268   \n",
       "1                         Toronto Software Developer           143       5804   \n",
       "2                               Chief Data Scientist            34       4917   \n",
       "3  💻 Passionate Front-End Dev & 🎨 UI/UX fan. Cont...            89       4533   \n",
       "4                                      C++ Developer            32       4020   \n",
       "\n",
       "   following            created_at  \n",
       "0          1  2015-01-30T17:05:43Z  \n",
       "1         11  2015-01-18T00:01:02Z  \n",
       "2         68  2016-11-28T04:22:39Z  \n",
       "3        301  2010-04-05T14:40:12Z  \n",
       "4         11  2016-07-13T21:01:21Z  "
      ]
     },
     "execution_count": 14,
     "metadata": {},
     "output_type": "execute_result"
    }
   ],
   "source": [
    "users_df = pd.DataFrame(users_data)\n",
    "users_df.head()"
   ]
  },
  {
   "cell_type": "code",
   "execution_count": 15,
   "metadata": {},
   "outputs": [
    {
     "name": "stdout",
     "output_type": "stream",
     "text": [
      "Total Expected Repos: 54875\n"
     ]
    }
   ],
   "source": [
    "total_number_of_repos_expected = users_df[users_df['public_repos'] <= 500]['public_repos'].sum() + (500 * len(users_df[users_df['public_repos'] > 500]))\n",
    "print(f\"Total Expected Repos: {total_number_of_repos_expected}\")"
   ]
  },
  {
   "cell_type": "code",
   "execution_count": 23,
   "metadata": {},
   "outputs": [
    {
     "name": "stdout",
     "output_type": "stream",
     "text": [
      "# of unique users: 680\n"
     ]
    }
   ],
   "source": [
    "n_unique_users = len(users_df['login'].unique())  # Sanity check.\n",
    "print(f\"# of unique users: {n_unique_users}\")"
   ]
  },
  {
   "cell_type": "code",
   "execution_count": 17,
   "metadata": {},
   "outputs": [],
   "source": [
    "users_df.to_csv('data/users.csv', index=False)"
   ]
  },
  {
   "cell_type": "markdown",
   "metadata": {},
   "source": [
    "### Fetch Users' Repo Data"
   ]
  },
  {
   "cell_type": "code",
   "execution_count": 18,
   "metadata": {},
   "outputs": [
    {
     "name": "stdout",
     "output_type": "stream",
     "text": [
      "Fetched from cache.\n",
      "# of Repos: 54875\n"
     ]
    }
   ],
   "source": [
    "printed_message_from_cached = False\n",
    "requests_cache.install_cache('cache/repos', expire_after=None)\n",
    "\n",
    "repos_data = []\n",
    "\n",
    "for user in users:\n",
    "    repos = []\n",
    "    params = {\n",
    "        'sort': 'pushed',\n",
    "        'direction': 'desc',\n",
    "        'per_page': 100,\n",
    "        'page': 1,\n",
    "    }\n",
    "    while True:\n",
    "        response = requests.get(user['repos_url'], params=params, headers=headers)\n",
    "\n",
    "        if response.status_code != 200:\n",
    "            print(f\"Failed to fetch { user['login'] }'s repo data. Status code: {response.status_code}\")\n",
    "            break\n",
    "        \n",
    "        data = response.json()\n",
    "        for repo in data:\n",
    "            repos.append({\n",
    "                'login': user['login'],\n",
    "                'full_name': repo['full_name'],\n",
    "                'created_at': repo['created_at'],\n",
    "                'stargazers_count': repo['stargazers_count'],\n",
    "                'watchers_count': repo['watchers_count'],\n",
    "                'language': repo['language'],\n",
    "                'has_projects': repo['has_projects'],\n",
    "                'has_wiki': repo['has_wiki'],\n",
    "                'license_name': repo['license']['key'] if repo['license'] else None,\n",
    "            })\n",
    "        \n",
    "        if response.from_cache:\n",
    "            if not printed_message_from_cached:\n",
    "                print('Fetched from cache.')\n",
    "                printed_message_from_cached = True\n",
    "        else:\n",
    "            print('Fetched from API:', response.url)\n",
    "            dynamic_delay(response)\n",
    "\n",
    "        if ('next' not in response.links) or (params['page'] == 5):\n",
    "            break\n",
    "\n",
    "        params['page'] += 1\n",
    "    \n",
    "    repos_data.extend(repos)\n",
    "\n",
    "print('# of Repos:', len(repos_data))"
   ]
  },
  {
   "cell_type": "code",
   "execution_count": 19,
   "metadata": {},
   "outputs": [
    {
     "name": "stdout",
     "output_type": "stream",
     "text": [
      "Pass repos sanity check: True\n"
     ]
    }
   ],
   "source": [
    "print('Pass repos sanity check:', total_number_of_repos_expected == len(repos_data))"
   ]
  },
  {
   "cell_type": "code",
   "execution_count": 20,
   "metadata": {},
   "outputs": [
    {
     "data": {
      "text/plain": [
       "{'login': 'aneagoie',\n",
       " 'full_name': 'aneagoie/ztm-extension',\n",
       " 'created_at': '2023-12-15T13:32:57Z',\n",
       " 'stargazers_count': 3,\n",
       " 'watchers_count': 3,\n",
       " 'language': 'JavaScript',\n",
       " 'has_projects': True,\n",
       " 'has_wiki': False,\n",
       " 'license_name': 'mit'}"
      ]
     },
     "execution_count": 20,
     "metadata": {},
     "output_type": "execute_result"
    }
   ],
   "source": [
    "repos_data[0]"
   ]
  },
  {
   "cell_type": "markdown",
   "metadata": {},
   "source": [
    "#### Save repo data to .csv"
   ]
  },
  {
   "cell_type": "code",
   "execution_count": 21,
   "metadata": {},
   "outputs": [
    {
     "data": {
      "text/html": [
       "<div>\n",
       "<style scoped>\n",
       "    .dataframe tbody tr th:only-of-type {\n",
       "        vertical-align: middle;\n",
       "    }\n",
       "\n",
       "    .dataframe tbody tr th {\n",
       "        vertical-align: top;\n",
       "    }\n",
       "\n",
       "    .dataframe thead th {\n",
       "        text-align: right;\n",
       "    }\n",
       "</style>\n",
       "<table border=\"1\" class=\"dataframe\">\n",
       "  <thead>\n",
       "    <tr style=\"text-align: right;\">\n",
       "      <th></th>\n",
       "      <th>login</th>\n",
       "      <th>full_name</th>\n",
       "      <th>created_at</th>\n",
       "      <th>stargazers_count</th>\n",
       "      <th>watchers_count</th>\n",
       "      <th>language</th>\n",
       "      <th>has_projects</th>\n",
       "      <th>has_wiki</th>\n",
       "      <th>license_name</th>\n",
       "    </tr>\n",
       "  </thead>\n",
       "  <tbody>\n",
       "    <tr>\n",
       "      <th>0</th>\n",
       "      <td>aneagoie</td>\n",
       "      <td>aneagoie/ztm-extension</td>\n",
       "      <td>2023-12-15T13:32:57Z</td>\n",
       "      <td>3</td>\n",
       "      <td>3</td>\n",
       "      <td>JavaScript</td>\n",
       "      <td>True</td>\n",
       "      <td>False</td>\n",
       "      <td>mit</td>\n",
       "    </tr>\n",
       "    <tr>\n",
       "      <th>1</th>\n",
       "      <td>aneagoie</td>\n",
       "      <td>aneagoie/ML-Notes</td>\n",
       "      <td>2019-09-28T02:31:10Z</td>\n",
       "      <td>60</td>\n",
       "      <td>60</td>\n",
       "      <td>Jupyter Notebook</td>\n",
       "      <td>True</td>\n",
       "      <td>True</td>\n",
       "      <td>None</td>\n",
       "    </tr>\n",
       "    <tr>\n",
       "      <th>2</th>\n",
       "      <td>aneagoie</td>\n",
       "      <td>aneagoie/smart-brain-boost-api-dockerized</td>\n",
       "      <td>2018-04-12T18:44:49Z</td>\n",
       "      <td>55</td>\n",
       "      <td>55</td>\n",
       "      <td>JavaScript</td>\n",
       "      <td>True</td>\n",
       "      <td>True</td>\n",
       "      <td>None</td>\n",
       "    </tr>\n",
       "    <tr>\n",
       "      <th>3</th>\n",
       "      <td>aneagoie</td>\n",
       "      <td>aneagoie/smart-brain-boost-api</td>\n",
       "      <td>2018-04-09T18:46:06Z</td>\n",
       "      <td>14</td>\n",
       "      <td>14</td>\n",
       "      <td>JavaScript</td>\n",
       "      <td>True</td>\n",
       "      <td>True</td>\n",
       "      <td>None</td>\n",
       "    </tr>\n",
       "    <tr>\n",
       "      <th>4</th>\n",
       "      <td>aneagoie</td>\n",
       "      <td>aneagoie/smart-brain-boost-lambda</td>\n",
       "      <td>2018-04-15T17:02:27Z</td>\n",
       "      <td>20</td>\n",
       "      <td>20</td>\n",
       "      <td>JavaScript</td>\n",
       "      <td>True</td>\n",
       "      <td>True</td>\n",
       "      <td>None</td>\n",
       "    </tr>\n",
       "  </tbody>\n",
       "</table>\n",
       "</div>"
      ],
      "text/plain": [
       "      login                                  full_name            created_at  \\\n",
       "0  aneagoie                     aneagoie/ztm-extension  2023-12-15T13:32:57Z   \n",
       "1  aneagoie                          aneagoie/ML-Notes  2019-09-28T02:31:10Z   \n",
       "2  aneagoie  aneagoie/smart-brain-boost-api-dockerized  2018-04-12T18:44:49Z   \n",
       "3  aneagoie             aneagoie/smart-brain-boost-api  2018-04-09T18:46:06Z   \n",
       "4  aneagoie          aneagoie/smart-brain-boost-lambda  2018-04-15T17:02:27Z   \n",
       "\n",
       "   stargazers_count  watchers_count          language  has_projects  has_wiki  \\\n",
       "0                 3               3        JavaScript          True     False   \n",
       "1                60              60  Jupyter Notebook          True      True   \n",
       "2                55              55        JavaScript          True      True   \n",
       "3                14              14        JavaScript          True      True   \n",
       "4                20              20        JavaScript          True      True   \n",
       "\n",
       "  license_name  \n",
       "0          mit  \n",
       "1         None  \n",
       "2         None  \n",
       "3         None  \n",
       "4         None  "
      ]
     },
     "execution_count": 21,
     "metadata": {},
     "output_type": "execute_result"
    }
   ],
   "source": [
    "repos_df = pd.DataFrame(repos_data)\n",
    "repos_df.head()"
   ]
  },
  {
   "cell_type": "code",
   "execution_count": 22,
   "metadata": {},
   "outputs": [],
   "source": [
    "repos_df.to_csv('data/repositories.csv')"
   ]
  },
  {
   "cell_type": "markdown",
   "metadata": {},
   "source": [
    "## Questions"
   ]
  },
  {
   "cell_type": "markdown",
   "metadata": {},
   "source": []
  }
 ],
 "metadata": {
  "kernelspec": {
   "display_name": ".venv",
   "language": "python",
   "name": "python3"
  },
  "language_info": {
   "codemirror_mode": {
    "name": "ipython",
    "version": 3
   },
   "file_extension": ".py",
   "mimetype": "text/x-python",
   "name": "python",
   "nbconvert_exporter": "python",
   "pygments_lexer": "ipython3",
   "version": "3.10.12"
  }
 },
 "nbformat": 4,
 "nbformat_minor": 2
}
