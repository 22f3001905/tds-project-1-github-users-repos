{
 "cells": [
  {
   "cell_type": "code",
   "execution_count": 1,
   "metadata": {},
   "outputs": [
    {
     "data": {
      "text/plain": [
       "True"
      ]
     },
     "execution_count": 1,
     "metadata": {},
     "output_type": "execute_result"
    }
   ],
   "source": [
    "import os\n",
    "import time\n",
    "import requests\n",
    "import requests_cache\n",
    "\n",
    "import numpy as np\n",
    "import pandas as pd\n",
    "from scipy.stats import linregress\n",
    "\n",
    "from dotenv import load_dotenv\n",
    "load_dotenv()"
   ]
  },
  {
   "cell_type": "markdown",
   "metadata": {},
   "source": [
    "## GitHub User Data Scraping"
   ]
  },
  {
   "cell_type": "markdown",
   "metadata": {},
   "source": [
    "### Testing GH Search API"
   ]
  },
  {
   "cell_type": "code",
   "execution_count": 2,
   "metadata": {},
   "outputs": [
    {
     "name": "stdout",
     "output_type": "stream",
     "text": [
      "URL: https://api.github.com/search/users?q=followers%3A%3E100+location%3AToronto&per_page=100&page=1\n",
      "# users: 100\n"
     ]
    }
   ],
   "source": [
    "url = \"https://api.github.com/search/users\"\n",
    "\n",
    "params = {\n",
    "    'q': 'followers:>100 location:Toronto',  # Uses a query string (GraphQL).\n",
    "    'per_page': 100,\n",
    "    'page': 1\n",
    "}\n",
    "# Authenticated Users: 5,000 requests per hour.\n",
    "access_token = os.getenv('GITHUB_TOKEN')\n",
    "headers = {'Authorization': f'token {access_token}'}\n",
    "\n",
    "response = requests.get(url, params=params, headers=headers)\n",
    "print('URL:', response.url)\n",
    "\n",
    "if response.status_code == 200:\n",
    "    data = response.json()\n",
    "    print('# users:', len(data['items']))\n",
    "else:\n",
    "    print(f\"Failed to fetch data. Status code: {response.status_code}\")"
   ]
  },
  {
   "cell_type": "code",
   "execution_count": 3,
   "metadata": {},
   "outputs": [
    {
     "data": {
      "text/plain": [
       "{'next': {'url': 'https://api.github.com/search/users?q=followers%3A%3E100+location%3AToronto&per_page=100&page=2',\n",
       "  'rel': 'next'},\n",
       " 'last': {'url': 'https://api.github.com/search/users?q=followers%3A%3E100+location%3AToronto&per_page=100&page=7',\n",
       "  'rel': 'last'}}"
      ]
     },
     "execution_count": 3,
     "metadata": {},
     "output_type": "execute_result"
    }
   ],
   "source": [
    "response.links  # feature of requests library"
   ]
  },
  {
   "cell_type": "code",
   "execution_count": 4,
   "metadata": {},
   "outputs": [
    {
     "data": {
      "text/plain": [
       "dict_keys(['total_count', 'incomplete_results', 'items'])"
      ]
     },
     "execution_count": 4,
     "metadata": {},
     "output_type": "execute_result"
    }
   ],
   "source": [
    "data.keys()"
   ]
  },
  {
   "cell_type": "code",
   "execution_count": 5,
   "metadata": {},
   "outputs": [
    {
     "data": {
      "text/plain": [
       "{'login': 'aneagoie',\n",
       " 'id': 10776230,\n",
       " 'node_id': 'MDQ6VXNlcjEwNzc2MjMw',\n",
       " 'avatar_url': 'https://avatars.githubusercontent.com/u/10776230?v=4',\n",
       " 'gravatar_id': '',\n",
       " 'url': 'https://api.github.com/users/aneagoie',\n",
       " 'html_url': 'https://github.com/aneagoie',\n",
       " 'followers_url': 'https://api.github.com/users/aneagoie/followers',\n",
       " 'following_url': 'https://api.github.com/users/aneagoie/following{/other_user}',\n",
       " 'gists_url': 'https://api.github.com/users/aneagoie/gists{/gist_id}',\n",
       " 'starred_url': 'https://api.github.com/users/aneagoie/starred{/owner}{/repo}',\n",
       " 'subscriptions_url': 'https://api.github.com/users/aneagoie/subscriptions',\n",
       " 'organizations_url': 'https://api.github.com/users/aneagoie/orgs',\n",
       " 'repos_url': 'https://api.github.com/users/aneagoie/repos',\n",
       " 'events_url': 'https://api.github.com/users/aneagoie/events{/privacy}',\n",
       " 'received_events_url': 'https://api.github.com/users/aneagoie/received_events',\n",
       " 'type': 'User',\n",
       " 'user_view_type': 'public',\n",
       " 'site_admin': False,\n",
       " 'score': 1.0}"
      ]
     },
     "execution_count": 5,
     "metadata": {},
     "output_type": "execute_result"
    }
   ],
   "source": [
    "data['items'][0]"
   ]
  },
  {
   "cell_type": "markdown",
   "metadata": {},
   "source": [
    "### Search for Users\n",
    "\n",
    "* Toronto users with more than 100 followers"
   ]
  },
  {
   "cell_type": "code",
   "execution_count": 6,
   "metadata": {},
   "outputs": [],
   "source": [
    "def dynamic_delay(response):\n",
    "    if response.headers.get('X-RateLimit-Remaining') == '0':\n",
    "        reset_time = int(response.headers.get('X-RateLimit-Reset'))\n",
    "        sleep_time = reset_time - int(time.time()) + 5  # Add a buffer of 5s.\n",
    "\n",
    "        print(f\"Rate limit exceeded. Sleeping for {sleep_time} seconds!\")\n",
    "        time.sleep(sleep_time)\n",
    "\n",
    "    time.sleep(1)  # Sleep for 1s regardless."
   ]
  },
  {
   "cell_type": "code",
   "execution_count": 7,
   "metadata": {},
   "outputs": [
    {
     "name": "stdout",
     "output_type": "stream",
     "text": [
      "Fetched from cache.\n",
      "# of users: 680\n"
     ]
    }
   ],
   "source": [
    "printed_message_from_cached = False\n",
    "requests_cache.install_cache('cache/search_users', expire_after=None)\n",
    "\n",
    "users = []  # All users in Toronto with more than 100 followers.\n",
    "\n",
    "url = \"https://api.github.com/search/users\"\n",
    "params = {\n",
    "    'q': 'followers:>100 location:Toronto',  # Uses a query string (GraphQL).\n",
    "    'per_page': 100,\n",
    "    'page': 1\n",
    "}\n",
    "\n",
    "access_token = os.getenv('GITHUB_TOKEN')\n",
    "headers = {'Authorization': f'token {access_token}'}\n",
    "\n",
    "while True:\n",
    "    response = requests.get(url, params=params, headers=headers)\n",
    "\n",
    "    if response.status_code != 200:\n",
    "        print(f\"Failed to fetch users. Status code: {response.status_code}\")\n",
    "        break\n",
    "\n",
    "    data = response.json()\n",
    "\n",
    "    for user in data.get('items', []):\n",
    "        users.append({\n",
    "            'login': user['login'],\n",
    "            'id': user['id'],\n",
    "            'url': user['url'],\n",
    "            'repos_url': user['repos_url']\n",
    "        })\n",
    "    \n",
    "    if response.from_cache:\n",
    "        if not printed_message_from_cached:\n",
    "            print('Fetched from cache.')\n",
    "            printed_message_from_cached = True\n",
    "    else:\n",
    "        print(\"Fetched from API:\", response.url)\n",
    "        dynamic_delay(response)\n",
    "\n",
    "    # Check if there are more pages.\n",
    "    if 'next' not in response.links:\n",
    "        break\n",
    "\n",
    "    params['page'] += 1\n",
    "\n",
    "print('# of users:', len(users))"
   ]
  },
  {
   "cell_type": "code",
   "execution_count": 8,
   "metadata": {},
   "outputs": [
    {
     "data": {
      "text/plain": [
       "{'Access-Control-Allow-Origin': '*',\n",
       " 'Access-Control-Expose-Headers': 'ETag, Link, Location, Retry-After, X-GitHub-OTP, X-RateLimit-Limit, X-RateLimit-Remaining, X-RateLimit-Used, X-RateLimit-Resource, X-RateLimit-Reset, X-OAuth-Scopes, X-Accepted-OAuth-Scopes, X-Poll-Interval, X-GitHub-Media-Type, X-GitHub-SSO, X-GitHub-Request-Id, Deprecation, Sunset',\n",
       " 'Cache-Control': 'no-cache',\n",
       " 'Content-Encoding': 'gzip',\n",
       " 'Content-Security-Policy': \"default-src 'none'\",\n",
       " 'Content-Type': 'application/json; charset=utf-8',\n",
       " 'Date': 'Mon, 21 Oct 2024 16:43:35 GMT',\n",
       " 'Link': '<https://api.github.com/search/users?q=followers%3A%3E100+location%3AToronto&per_page=100&page=6>; rel=\"prev\", <https://api.github.com/search/users?q=followers%3A%3E100+location%3AToronto&per_page=100&page=1>; rel=\"first\"',\n",
       " 'Referrer-Policy': 'origin-when-cross-origin, strict-origin-when-cross-origin',\n",
       " 'Server': 'github.com',\n",
       " 'Strict-Transport-Security': 'max-age=31536000; includeSubdomains; preload',\n",
       " 'Transfer-Encoding': 'chunked',\n",
       " 'Vary': 'Accept, Authorization, Cookie, X-GitHub-OTP,Accept-Encoding, Accept, X-Requested-With',\n",
       " 'X-Accepted-OAuth-Scopes': '',\n",
       " 'X-Content-Type-Options': 'nosniff',\n",
       " 'X-Frame-Options': 'deny',\n",
       " 'X-GitHub-Media-Type': 'github.v3; format=json',\n",
       " 'X-GitHub-Request-Id': 'CFA4:665C5:6C493D:739E66:671684B7',\n",
       " 'X-OAuth-Scopes': 'repo, user',\n",
       " 'X-RateLimit-Limit': '30',\n",
       " 'X-RateLimit-Remaining': '22',\n",
       " 'X-RateLimit-Reset': '1729529065',\n",
       " 'X-RateLimit-Resource': 'search',\n",
       " 'X-RateLimit-Used': '8',\n",
       " 'X-XSS-Protection': '0',\n",
       " 'github-authentication-token-expiration': '2024-11-20 07:23:10 UTC',\n",
       " 'x-github-api-version-selected': '2022-11-28'}"
      ]
     },
     "execution_count": 8,
     "metadata": {},
     "output_type": "execute_result"
    }
   ],
   "source": [
    "dict(response.headers)"
   ]
  },
  {
   "cell_type": "code",
   "execution_count": 9,
   "metadata": {},
   "outputs": [
    {
     "data": {
      "text/plain": [
       "{'login': 'aneagoie',\n",
       " 'id': 10776230,\n",
       " 'url': 'https://api.github.com/users/aneagoie',\n",
       " 'repos_url': 'https://api.github.com/users/aneagoie/repos'}"
      ]
     },
     "execution_count": 9,
     "metadata": {},
     "output_type": "execute_result"
    }
   ],
   "source": [
    "users[0]"
   ]
  },
  {
   "cell_type": "markdown",
   "metadata": {},
   "source": [
    "### Fetch User Data"
   ]
  },
  {
   "cell_type": "code",
   "execution_count": 10,
   "metadata": {},
   "outputs": [],
   "source": [
    "def clean_company_name(company):\n",
    "    company_name = None\n",
    "    if company:\n",
    "        company_name = company.strip()\n",
    "        if company_name.startswith('@'):\n",
    "            company_name = company_name[1:]\n",
    "        company_name = company_name.upper()\n",
    "    \n",
    "    return company_name"
   ]
  },
  {
   "cell_type": "code",
   "execution_count": 11,
   "metadata": {},
   "outputs": [
    {
     "name": "stdout",
     "output_type": "stream",
     "text": [
      "Fetched from cache.\n"
     ]
    },
    {
     "data": {
      "text/plain": [
       "{'login': 'aneagoie',\n",
       " 'name': 'Andrei Neagoie',\n",
       " 'company': None,\n",
       " 'location': 'Toronto, Canada',\n",
       " 'email': None,\n",
       " 'hireable': True,\n",
       " 'bio': 'Senior Software Dev turned Instructor. Founder of zerotomastery.io',\n",
       " 'public_repos': 145,\n",
       " 'followers': 10268,\n",
       " 'following': 1,\n",
       " 'created_at': '2015-01-30T17:05:43Z'}"
      ]
     },
     "execution_count": 11,
     "metadata": {},
     "output_type": "execute_result"
    }
   ],
   "source": [
    "printed_message_from_cached = False\n",
    "requests_cache.install_cache('cache/users', expire_after=None)\n",
    "\n",
    "users_data = []\n",
    "\n",
    "for user in users:\n",
    "    response = requests.get(user['url'], headers=headers)\n",
    "\n",
    "    if response.status_code != 200:\n",
    "        print(f\"Failed to fetch {user['login']}'s data. Status code: {response.status_code}\")\n",
    "        break\n",
    "    \n",
    "    data = response.json()\n",
    "    \n",
    "    users_data.append({\n",
    "        'login': data['login'],\n",
    "        'name': data['name'],\n",
    "        'company': clean_company_name(data['company']),\n",
    "        'location': data['location'],\n",
    "        'email': data['email'],\n",
    "        'hireable': data['hireable'],\n",
    "        'bio': data['bio'],\n",
    "        'public_repos': data['public_repos'],\n",
    "        'followers': data['followers'],\n",
    "        'following': data['following'],\n",
    "        'created_at': data['created_at'],\n",
    "    })\n",
    "\n",
    "    if response.from_cache:\n",
    "        if not printed_message_from_cached:\n",
    "            print('Fetched from cache.')\n",
    "            printed_message_from_cached = True\n",
    "    else:\n",
    "        print('Fetched from API:', response.url)\n",
    "        dynamic_delay(response)\n",
    "\n",
    "users_data[0]"
   ]
  },
  {
   "cell_type": "code",
   "execution_count": 12,
   "metadata": {},
   "outputs": [
    {
     "data": {
      "text/plain": [
       "680"
      ]
     },
     "execution_count": 12,
     "metadata": {},
     "output_type": "execute_result"
    }
   ],
   "source": [
    "len(users_data)"
   ]
  },
  {
   "cell_type": "code",
   "execution_count": 13,
   "metadata": {},
   "outputs": [
    {
     "data": {
      "text/plain": [
       "{'Access-Control-Allow-Origin': '*',\n",
       " 'Access-Control-Expose-Headers': 'ETag, Link, Location, Retry-After, X-GitHub-OTP, X-RateLimit-Limit, X-RateLimit-Remaining, X-RateLimit-Used, X-RateLimit-Resource, X-RateLimit-Reset, X-OAuth-Scopes, X-Accepted-OAuth-Scopes, X-Poll-Interval, X-GitHub-Media-Type, X-GitHub-SSO, X-GitHub-Request-Id, Deprecation, Sunset',\n",
       " 'Cache-Control': 'private, max-age=60, s-maxage=60',\n",
       " 'Content-Encoding': 'gzip',\n",
       " 'Content-Security-Policy': \"default-src 'none'\",\n",
       " 'Content-Type': 'application/json; charset=utf-8',\n",
       " 'Date': 'Mon, 21 Oct 2024 17:01:38 GMT',\n",
       " 'ETag': 'W/\"dbbd1c8be0f168814915dde0d8fbc5b716d3913a61c224d395043082b7f75e8b\"',\n",
       " 'Last-Modified': 'Fri, 18 Oct 2024 22:22:40 GMT',\n",
       " 'Referrer-Policy': 'origin-when-cross-origin, strict-origin-when-cross-origin',\n",
       " 'Server': 'github.com',\n",
       " 'Strict-Transport-Security': 'max-age=31536000; includeSubdomains; preload',\n",
       " 'Transfer-Encoding': 'chunked',\n",
       " 'Vary': 'Accept, Authorization, Cookie, X-GitHub-OTP,Accept-Encoding, Accept, X-Requested-With',\n",
       " 'X-Accepted-OAuth-Scopes': '',\n",
       " 'X-Content-Type-Options': 'nosniff',\n",
       " 'X-Frame-Options': 'deny',\n",
       " 'X-GitHub-Media-Type': 'github.v3; format=json',\n",
       " 'X-GitHub-Request-Id': 'E5A2:23CFFC:63FAA2:6A31F5:671688F2',\n",
       " 'X-OAuth-Scopes': 'repo, user',\n",
       " 'X-RateLimit-Limit': '5000',\n",
       " 'X-RateLimit-Remaining': '4320',\n",
       " 'X-RateLimit-Reset': '1729532617',\n",
       " 'X-RateLimit-Resource': 'core',\n",
       " 'X-RateLimit-Used': '680',\n",
       " 'X-XSS-Protection': '0',\n",
       " 'github-authentication-token-expiration': '2024-11-20 07:23:10 UTC',\n",
       " 'x-github-api-version-selected': '2022-11-28'}"
      ]
     },
     "execution_count": 13,
     "metadata": {},
     "output_type": "execute_result"
    }
   ],
   "source": [
    "dict(response.headers)"
   ]
  },
  {
   "cell_type": "markdown",
   "metadata": {},
   "source": [
    "#### Save user data to .csv"
   ]
  },
  {
   "cell_type": "code",
   "execution_count": 14,
   "metadata": {},
   "outputs": [
    {
     "data": {
      "text/html": [
       "<div>\n",
       "<style scoped>\n",
       "    .dataframe tbody tr th:only-of-type {\n",
       "        vertical-align: middle;\n",
       "    }\n",
       "\n",
       "    .dataframe tbody tr th {\n",
       "        vertical-align: top;\n",
       "    }\n",
       "\n",
       "    .dataframe thead th {\n",
       "        text-align: right;\n",
       "    }\n",
       "</style>\n",
       "<table border=\"1\" class=\"dataframe\">\n",
       "  <thead>\n",
       "    <tr style=\"text-align: right;\">\n",
       "      <th></th>\n",
       "      <th>login</th>\n",
       "      <th>name</th>\n",
       "      <th>company</th>\n",
       "      <th>location</th>\n",
       "      <th>email</th>\n",
       "      <th>hireable</th>\n",
       "      <th>bio</th>\n",
       "      <th>public_repos</th>\n",
       "      <th>followers</th>\n",
       "      <th>following</th>\n",
       "      <th>created_at</th>\n",
       "    </tr>\n",
       "  </thead>\n",
       "  <tbody>\n",
       "    <tr>\n",
       "      <th>0</th>\n",
       "      <td>aneagoie</td>\n",
       "      <td>Andrei Neagoie</td>\n",
       "      <td>None</td>\n",
       "      <td>Toronto, Canada</td>\n",
       "      <td>None</td>\n",
       "      <td>True</td>\n",
       "      <td>Senior Software Dev turned Instructor. Founder...</td>\n",
       "      <td>145</td>\n",
       "      <td>10268</td>\n",
       "      <td>1</td>\n",
       "      <td>2015-01-30T17:05:43Z</td>\n",
       "    </tr>\n",
       "    <tr>\n",
       "      <th>1</th>\n",
       "      <td>ZhangMYihua</td>\n",
       "      <td>Yihua Zhang</td>\n",
       "      <td>None</td>\n",
       "      <td>Toronto</td>\n",
       "      <td>yihuazhang2@gmail.com</td>\n",
       "      <td>None</td>\n",
       "      <td>Toronto Software Developer</td>\n",
       "      <td>143</td>\n",
       "      <td>5804</td>\n",
       "      <td>11</td>\n",
       "      <td>2015-01-18T00:01:02Z</td>\n",
       "    </tr>\n",
       "    <tr>\n",
       "      <th>2</th>\n",
       "      <td>susanli2016</td>\n",
       "      <td>Susan Li</td>\n",
       "      <td>None</td>\n",
       "      <td>Toronto Canada</td>\n",
       "      <td>None</td>\n",
       "      <td>None</td>\n",
       "      <td>Chief Data Scientist</td>\n",
       "      <td>34</td>\n",
       "      <td>4917</td>\n",
       "      <td>68</td>\n",
       "      <td>2016-11-28T04:22:39Z</td>\n",
       "    </tr>\n",
       "    <tr>\n",
       "      <th>3</th>\n",
       "      <td>thedaviddias</td>\n",
       "      <td>David Dias</td>\n",
       "      <td>KIJIJICA</td>\n",
       "      <td>Toronto, Canada</td>\n",
       "      <td>None</td>\n",
       "      <td>None</td>\n",
       "      <td>💻 Passionate Front-End Dev &amp; 🎨 UI/UX fan. Cont...</td>\n",
       "      <td>89</td>\n",
       "      <td>4533</td>\n",
       "      <td>301</td>\n",
       "      <td>2010-04-05T14:40:12Z</td>\n",
       "    </tr>\n",
       "    <tr>\n",
       "      <th>4</th>\n",
       "      <td>ange-yaghi</td>\n",
       "      <td>Ange Yaghi</td>\n",
       "      <td>None</td>\n",
       "      <td>Toronto</td>\n",
       "      <td>me@angeyaghi.com</td>\n",
       "      <td>None</td>\n",
       "      <td>C++ Developer</td>\n",
       "      <td>32</td>\n",
       "      <td>4020</td>\n",
       "      <td>11</td>\n",
       "      <td>2016-07-13T21:01:21Z</td>\n",
       "    </tr>\n",
       "  </tbody>\n",
       "</table>\n",
       "</div>"
      ],
      "text/plain": [
       "          login            name   company         location  \\\n",
       "0      aneagoie  Andrei Neagoie      None  Toronto, Canada   \n",
       "1   ZhangMYihua     Yihua Zhang      None          Toronto   \n",
       "2   susanli2016        Susan Li      None   Toronto Canada   \n",
       "3  thedaviddias      David Dias  KIJIJICA  Toronto, Canada   \n",
       "4    ange-yaghi      Ange Yaghi      None          Toronto   \n",
       "\n",
       "                   email hireable  \\\n",
       "0                   None     True   \n",
       "1  yihuazhang2@gmail.com     None   \n",
       "2                   None     None   \n",
       "3                   None     None   \n",
       "4       me@angeyaghi.com     None   \n",
       "\n",
       "                                                 bio  public_repos  followers  \\\n",
       "0  Senior Software Dev turned Instructor. Founder...           145      10268   \n",
       "1                         Toronto Software Developer           143       5804   \n",
       "2                               Chief Data Scientist            34       4917   \n",
       "3  💻 Passionate Front-End Dev & 🎨 UI/UX fan. Cont...            89       4533   \n",
       "4                                      C++ Developer            32       4020   \n",
       "\n",
       "   following            created_at  \n",
       "0          1  2015-01-30T17:05:43Z  \n",
       "1         11  2015-01-18T00:01:02Z  \n",
       "2         68  2016-11-28T04:22:39Z  \n",
       "3        301  2010-04-05T14:40:12Z  \n",
       "4         11  2016-07-13T21:01:21Z  "
      ]
     },
     "execution_count": 14,
     "metadata": {},
     "output_type": "execute_result"
    }
   ],
   "source": [
    "users_df = pd.DataFrame(users_data)\n",
    "users_df.head()"
   ]
  },
  {
   "cell_type": "code",
   "execution_count": 15,
   "metadata": {},
   "outputs": [
    {
     "name": "stdout",
     "output_type": "stream",
     "text": [
      "Total Expected Repos: 54875\n"
     ]
    }
   ],
   "source": [
    "total_number_of_repos_expected = users_df[users_df['public_repos'] <= 500]['public_repos'].sum() + (500 * len(users_df[users_df['public_repos'] > 500]))\n",
    "print(f\"Total Expected Repos: {total_number_of_repos_expected}\")"
   ]
  },
  {
   "cell_type": "code",
   "execution_count": 16,
   "metadata": {},
   "outputs": [
    {
     "name": "stdout",
     "output_type": "stream",
     "text": [
      "# of unique users: 680\n"
     ]
    }
   ],
   "source": [
    "n_unique_users = len(users_df['login'].unique())  # Sanity check.\n",
    "print(f\"# of unique users: {n_unique_users}\")"
   ]
  },
  {
   "cell_type": "code",
   "execution_count": 17,
   "metadata": {},
   "outputs": [],
   "source": [
    "users_df.to_csv('users.csv', index=False)"
   ]
  },
  {
   "cell_type": "markdown",
   "metadata": {},
   "source": [
    "### Fetch Users' Repo Data"
   ]
  },
  {
   "cell_type": "code",
   "execution_count": 18,
   "metadata": {},
   "outputs": [
    {
     "name": "stdout",
     "output_type": "stream",
     "text": [
      "Fetched from cache.\n",
      "# of Repos: 54875\n"
     ]
    }
   ],
   "source": [
    "printed_message_from_cached = False\n",
    "requests_cache.install_cache('cache/repos', expire_after=None)\n",
    "\n",
    "repos_data = []\n",
    "\n",
    "for user in users:\n",
    "    repos = []\n",
    "    params = {\n",
    "        'sort': 'pushed',\n",
    "        'direction': 'desc',\n",
    "        'per_page': 100,\n",
    "        'page': 1,\n",
    "    }\n",
    "    while True:\n",
    "        response = requests.get(user['repos_url'], params=params, headers=headers)\n",
    "\n",
    "        if response.status_code != 200:\n",
    "            print(f\"Failed to fetch { user['login'] }'s repo data. Status code: {response.status_code}\")\n",
    "            break\n",
    "        \n",
    "        data = response.json()\n",
    "        for repo in data:\n",
    "            repos.append({\n",
    "                'login': user['login'],\n",
    "                'full_name': repo['full_name'],\n",
    "                'created_at': repo['created_at'],\n",
    "                'stargazers_count': repo['stargazers_count'],\n",
    "                'watchers_count': repo['watchers_count'],\n",
    "                'language': repo['language'],\n",
    "                'has_projects': repo['has_projects'],\n",
    "                'has_wiki': repo['has_wiki'],\n",
    "                'license_name': repo['license']['key'] if repo['license'] else None,\n",
    "            })\n",
    "        \n",
    "        if response.from_cache:\n",
    "            if not printed_message_from_cached:\n",
    "                print('Fetched from cache.')\n",
    "                printed_message_from_cached = True\n",
    "        else:\n",
    "            print('Fetched from API:', response.url)\n",
    "            dynamic_delay(response)\n",
    "\n",
    "        if ('next' not in response.links) or (params['page'] == 5):\n",
    "            break\n",
    "\n",
    "        params['page'] += 1\n",
    "    \n",
    "    repos_data.extend(repos)\n",
    "\n",
    "print('# of Repos:', len(repos_data))"
   ]
  },
  {
   "cell_type": "code",
   "execution_count": 19,
   "metadata": {},
   "outputs": [
    {
     "name": "stdout",
     "output_type": "stream",
     "text": [
      "Pass repos sanity check: True\n"
     ]
    }
   ],
   "source": [
    "print('Pass repos sanity check:', total_number_of_repos_expected == len(repos_data))"
   ]
  },
  {
   "cell_type": "code",
   "execution_count": 20,
   "metadata": {},
   "outputs": [
    {
     "data": {
      "text/plain": [
       "{'login': 'aneagoie',\n",
       " 'full_name': 'aneagoie/ztm-extension',\n",
       " 'created_at': '2023-12-15T13:32:57Z',\n",
       " 'stargazers_count': 3,\n",
       " 'watchers_count': 3,\n",
       " 'language': 'JavaScript',\n",
       " 'has_projects': True,\n",
       " 'has_wiki': False,\n",
       " 'license_name': 'mit'}"
      ]
     },
     "execution_count": 20,
     "metadata": {},
     "output_type": "execute_result"
    }
   ],
   "source": [
    "repos_data[0]"
   ]
  },
  {
   "cell_type": "markdown",
   "metadata": {},
   "source": [
    "#### Save repo data to .csv"
   ]
  },
  {
   "cell_type": "code",
   "execution_count": 21,
   "metadata": {},
   "outputs": [
    {
     "data": {
      "text/html": [
       "<div>\n",
       "<style scoped>\n",
       "    .dataframe tbody tr th:only-of-type {\n",
       "        vertical-align: middle;\n",
       "    }\n",
       "\n",
       "    .dataframe tbody tr th {\n",
       "        vertical-align: top;\n",
       "    }\n",
       "\n",
       "    .dataframe thead th {\n",
       "        text-align: right;\n",
       "    }\n",
       "</style>\n",
       "<table border=\"1\" class=\"dataframe\">\n",
       "  <thead>\n",
       "    <tr style=\"text-align: right;\">\n",
       "      <th></th>\n",
       "      <th>login</th>\n",
       "      <th>full_name</th>\n",
       "      <th>created_at</th>\n",
       "      <th>stargazers_count</th>\n",
       "      <th>watchers_count</th>\n",
       "      <th>language</th>\n",
       "      <th>has_projects</th>\n",
       "      <th>has_wiki</th>\n",
       "      <th>license_name</th>\n",
       "    </tr>\n",
       "  </thead>\n",
       "  <tbody>\n",
       "    <tr>\n",
       "      <th>0</th>\n",
       "      <td>aneagoie</td>\n",
       "      <td>aneagoie/ztm-extension</td>\n",
       "      <td>2023-12-15T13:32:57Z</td>\n",
       "      <td>3</td>\n",
       "      <td>3</td>\n",
       "      <td>JavaScript</td>\n",
       "      <td>True</td>\n",
       "      <td>False</td>\n",
       "      <td>mit</td>\n",
       "    </tr>\n",
       "    <tr>\n",
       "      <th>1</th>\n",
       "      <td>aneagoie</td>\n",
       "      <td>aneagoie/ML-Notes</td>\n",
       "      <td>2019-09-28T02:31:10Z</td>\n",
       "      <td>60</td>\n",
       "      <td>60</td>\n",
       "      <td>Jupyter Notebook</td>\n",
       "      <td>True</td>\n",
       "      <td>True</td>\n",
       "      <td>None</td>\n",
       "    </tr>\n",
       "    <tr>\n",
       "      <th>2</th>\n",
       "      <td>aneagoie</td>\n",
       "      <td>aneagoie/smart-brain-boost-api-dockerized</td>\n",
       "      <td>2018-04-12T18:44:49Z</td>\n",
       "      <td>55</td>\n",
       "      <td>55</td>\n",
       "      <td>JavaScript</td>\n",
       "      <td>True</td>\n",
       "      <td>True</td>\n",
       "      <td>None</td>\n",
       "    </tr>\n",
       "    <tr>\n",
       "      <th>3</th>\n",
       "      <td>aneagoie</td>\n",
       "      <td>aneagoie/smart-brain-boost-api</td>\n",
       "      <td>2018-04-09T18:46:06Z</td>\n",
       "      <td>14</td>\n",
       "      <td>14</td>\n",
       "      <td>JavaScript</td>\n",
       "      <td>True</td>\n",
       "      <td>True</td>\n",
       "      <td>None</td>\n",
       "    </tr>\n",
       "    <tr>\n",
       "      <th>4</th>\n",
       "      <td>aneagoie</td>\n",
       "      <td>aneagoie/smart-brain-boost-lambda</td>\n",
       "      <td>2018-04-15T17:02:27Z</td>\n",
       "      <td>20</td>\n",
       "      <td>20</td>\n",
       "      <td>JavaScript</td>\n",
       "      <td>True</td>\n",
       "      <td>True</td>\n",
       "      <td>None</td>\n",
       "    </tr>\n",
       "  </tbody>\n",
       "</table>\n",
       "</div>"
      ],
      "text/plain": [
       "      login                                  full_name            created_at  \\\n",
       "0  aneagoie                     aneagoie/ztm-extension  2023-12-15T13:32:57Z   \n",
       "1  aneagoie                          aneagoie/ML-Notes  2019-09-28T02:31:10Z   \n",
       "2  aneagoie  aneagoie/smart-brain-boost-api-dockerized  2018-04-12T18:44:49Z   \n",
       "3  aneagoie             aneagoie/smart-brain-boost-api  2018-04-09T18:46:06Z   \n",
       "4  aneagoie          aneagoie/smart-brain-boost-lambda  2018-04-15T17:02:27Z   \n",
       "\n",
       "   stargazers_count  watchers_count          language  has_projects  has_wiki  \\\n",
       "0                 3               3        JavaScript          True     False   \n",
       "1                60              60  Jupyter Notebook          True      True   \n",
       "2                55              55        JavaScript          True      True   \n",
       "3                14              14        JavaScript          True      True   \n",
       "4                20              20        JavaScript          True      True   \n",
       "\n",
       "  license_name  \n",
       "0          mit  \n",
       "1         None  \n",
       "2         None  \n",
       "3         None  \n",
       "4         None  "
      ]
     },
     "execution_count": 21,
     "metadata": {},
     "output_type": "execute_result"
    }
   ],
   "source": [
    "repos_df = pd.DataFrame(repos_data)\n",
    "repos_df.head()"
   ]
  },
  {
   "cell_type": "code",
   "execution_count": 65,
   "metadata": {},
   "outputs": [],
   "source": [
    "repos_df.to_csv('repositories.csv', index=False)"
   ]
  },
  {
   "cell_type": "markdown",
   "metadata": {},
   "source": [
    "## Questions"
   ]
  },
  {
   "cell_type": "markdown",
   "metadata": {},
   "source": [
    "Q1. Who are the top 5 users in Toronto with the highest number of followers? List their login in order, comma-separated."
   ]
  },
  {
   "cell_type": "code",
   "execution_count": 23,
   "metadata": {},
   "outputs": [
    {
     "data": {
      "text/html": [
       "<div>\n",
       "<style scoped>\n",
       "    .dataframe tbody tr th:only-of-type {\n",
       "        vertical-align: middle;\n",
       "    }\n",
       "\n",
       "    .dataframe tbody tr th {\n",
       "        vertical-align: top;\n",
       "    }\n",
       "\n",
       "    .dataframe thead th {\n",
       "        text-align: right;\n",
       "    }\n",
       "</style>\n",
       "<table border=\"1\" class=\"dataframe\">\n",
       "  <thead>\n",
       "    <tr style=\"text-align: right;\">\n",
       "      <th></th>\n",
       "      <th>login</th>\n",
       "      <th>name</th>\n",
       "      <th>company</th>\n",
       "      <th>location</th>\n",
       "      <th>email</th>\n",
       "      <th>hireable</th>\n",
       "      <th>bio</th>\n",
       "      <th>public_repos</th>\n",
       "      <th>followers</th>\n",
       "      <th>following</th>\n",
       "      <th>created_at</th>\n",
       "    </tr>\n",
       "  </thead>\n",
       "  <tbody>\n",
       "    <tr>\n",
       "      <th>0</th>\n",
       "      <td>aneagoie</td>\n",
       "      <td>Andrei Neagoie</td>\n",
       "      <td>None</td>\n",
       "      <td>Toronto, Canada</td>\n",
       "      <td>None</td>\n",
       "      <td>True</td>\n",
       "      <td>Senior Software Dev turned Instructor. Founder...</td>\n",
       "      <td>145</td>\n",
       "      <td>10268</td>\n",
       "      <td>1</td>\n",
       "      <td>2015-01-30T17:05:43Z</td>\n",
       "    </tr>\n",
       "    <tr>\n",
       "      <th>1</th>\n",
       "      <td>ZhangMYihua</td>\n",
       "      <td>Yihua Zhang</td>\n",
       "      <td>None</td>\n",
       "      <td>Toronto</td>\n",
       "      <td>yihuazhang2@gmail.com</td>\n",
       "      <td>None</td>\n",
       "      <td>Toronto Software Developer</td>\n",
       "      <td>143</td>\n",
       "      <td>5804</td>\n",
       "      <td>11</td>\n",
       "      <td>2015-01-18T00:01:02Z</td>\n",
       "    </tr>\n",
       "    <tr>\n",
       "      <th>2</th>\n",
       "      <td>susanli2016</td>\n",
       "      <td>Susan Li</td>\n",
       "      <td>None</td>\n",
       "      <td>Toronto Canada</td>\n",
       "      <td>None</td>\n",
       "      <td>None</td>\n",
       "      <td>Chief Data Scientist</td>\n",
       "      <td>34</td>\n",
       "      <td>4917</td>\n",
       "      <td>68</td>\n",
       "      <td>2016-11-28T04:22:39Z</td>\n",
       "    </tr>\n",
       "    <tr>\n",
       "      <th>3</th>\n",
       "      <td>thedaviddias</td>\n",
       "      <td>David Dias</td>\n",
       "      <td>KIJIJICA</td>\n",
       "      <td>Toronto, Canada</td>\n",
       "      <td>None</td>\n",
       "      <td>None</td>\n",
       "      <td>💻 Passionate Front-End Dev &amp; 🎨 UI/UX fan. Cont...</td>\n",
       "      <td>89</td>\n",
       "      <td>4533</td>\n",
       "      <td>301</td>\n",
       "      <td>2010-04-05T14:40:12Z</td>\n",
       "    </tr>\n",
       "    <tr>\n",
       "      <th>4</th>\n",
       "      <td>ange-yaghi</td>\n",
       "      <td>Ange Yaghi</td>\n",
       "      <td>None</td>\n",
       "      <td>Toronto</td>\n",
       "      <td>me@angeyaghi.com</td>\n",
       "      <td>None</td>\n",
       "      <td>C++ Developer</td>\n",
       "      <td>32</td>\n",
       "      <td>4020</td>\n",
       "      <td>11</td>\n",
       "      <td>2016-07-13T21:01:21Z</td>\n",
       "    </tr>\n",
       "  </tbody>\n",
       "</table>\n",
       "</div>"
      ],
      "text/plain": [
       "          login            name   company         location  \\\n",
       "0      aneagoie  Andrei Neagoie      None  Toronto, Canada   \n",
       "1   ZhangMYihua     Yihua Zhang      None          Toronto   \n",
       "2   susanli2016        Susan Li      None   Toronto Canada   \n",
       "3  thedaviddias      David Dias  KIJIJICA  Toronto, Canada   \n",
       "4    ange-yaghi      Ange Yaghi      None          Toronto   \n",
       "\n",
       "                   email hireable  \\\n",
       "0                   None     True   \n",
       "1  yihuazhang2@gmail.com     None   \n",
       "2                   None     None   \n",
       "3                   None     None   \n",
       "4       me@angeyaghi.com     None   \n",
       "\n",
       "                                                 bio  public_repos  followers  \\\n",
       "0  Senior Software Dev turned Instructor. Founder...           145      10268   \n",
       "1                         Toronto Software Developer           143       5804   \n",
       "2                               Chief Data Scientist            34       4917   \n",
       "3  💻 Passionate Front-End Dev & 🎨 UI/UX fan. Cont...            89       4533   \n",
       "4                                      C++ Developer            32       4020   \n",
       "\n",
       "   following            created_at  \n",
       "0          1  2015-01-30T17:05:43Z  \n",
       "1         11  2015-01-18T00:01:02Z  \n",
       "2         68  2016-11-28T04:22:39Z  \n",
       "3        301  2010-04-05T14:40:12Z  \n",
       "4         11  2016-07-13T21:01:21Z  "
      ]
     },
     "execution_count": 23,
     "metadata": {},
     "output_type": "execute_result"
    }
   ],
   "source": [
    "users_df.head()"
   ]
  },
  {
   "cell_type": "code",
   "execution_count": 24,
   "metadata": {},
   "outputs": [
    {
     "data": {
      "text/html": [
       "<div>\n",
       "<style scoped>\n",
       "    .dataframe tbody tr th:only-of-type {\n",
       "        vertical-align: middle;\n",
       "    }\n",
       "\n",
       "    .dataframe tbody tr th {\n",
       "        vertical-align: top;\n",
       "    }\n",
       "\n",
       "    .dataframe thead th {\n",
       "        text-align: right;\n",
       "    }\n",
       "</style>\n",
       "<table border=\"1\" class=\"dataframe\">\n",
       "  <thead>\n",
       "    <tr style=\"text-align: right;\">\n",
       "      <th></th>\n",
       "      <th>login</th>\n",
       "      <th>followers</th>\n",
       "    </tr>\n",
       "  </thead>\n",
       "  <tbody>\n",
       "    <tr>\n",
       "      <th>0</th>\n",
       "      <td>aneagoie</td>\n",
       "      <td>10268</td>\n",
       "    </tr>\n",
       "    <tr>\n",
       "      <th>1</th>\n",
       "      <td>ZhangMYihua</td>\n",
       "      <td>5804</td>\n",
       "    </tr>\n",
       "    <tr>\n",
       "      <th>2</th>\n",
       "      <td>susanli2016</td>\n",
       "      <td>4917</td>\n",
       "    </tr>\n",
       "    <tr>\n",
       "      <th>3</th>\n",
       "      <td>thedaviddias</td>\n",
       "      <td>4533</td>\n",
       "    </tr>\n",
       "    <tr>\n",
       "      <th>4</th>\n",
       "      <td>ange-yaghi</td>\n",
       "      <td>4020</td>\n",
       "    </tr>\n",
       "  </tbody>\n",
       "</table>\n",
       "</div>"
      ],
      "text/plain": [
       "          login  followers\n",
       "0      aneagoie      10268\n",
       "1   ZhangMYihua       5804\n",
       "2   susanli2016       4917\n",
       "3  thedaviddias       4533\n",
       "4    ange-yaghi       4020"
      ]
     },
     "execution_count": 24,
     "metadata": {},
     "output_type": "execute_result"
    }
   ],
   "source": [
    "users_df.nlargest(n=5, columns='followers')[['login', 'followers']]"
   ]
  },
  {
   "cell_type": "code",
   "execution_count": 25,
   "metadata": {},
   "outputs": [
    {
     "data": {
      "text/plain": [
       "'aneagoie,ZhangMYihua,susanli2016,thedaviddias,ange-yaghi'"
      ]
     },
     "execution_count": 25,
     "metadata": {},
     "output_type": "execute_result"
    }
   ],
   "source": [
    "','.join(users_df.nlargest(n=5, columns='followers')['login'].to_list())"
   ]
  },
  {
   "cell_type": "markdown",
   "metadata": {},
   "source": [
    "Q2. Who are the 5 earliest registered GitHub users in Toronto? List their login in ascending order of created_at, comma-separated."
   ]
  },
  {
   "cell_type": "code",
   "execution_count": 26,
   "metadata": {},
   "outputs": [
    {
     "data": {
      "text/html": [
       "<div>\n",
       "<style scoped>\n",
       "    .dataframe tbody tr th:only-of-type {\n",
       "        vertical-align: middle;\n",
       "    }\n",
       "\n",
       "    .dataframe tbody tr th {\n",
       "        vertical-align: top;\n",
       "    }\n",
       "\n",
       "    .dataframe thead th {\n",
       "        text-align: right;\n",
       "    }\n",
       "</style>\n",
       "<table border=\"1\" class=\"dataframe\">\n",
       "  <thead>\n",
       "    <tr style=\"text-align: right;\">\n",
       "      <th></th>\n",
       "      <th>login</th>\n",
       "      <th>name</th>\n",
       "      <th>company</th>\n",
       "      <th>location</th>\n",
       "      <th>email</th>\n",
       "      <th>hireable</th>\n",
       "      <th>bio</th>\n",
       "      <th>public_repos</th>\n",
       "      <th>followers</th>\n",
       "      <th>following</th>\n",
       "      <th>created_at</th>\n",
       "    </tr>\n",
       "  </thead>\n",
       "  <tbody>\n",
       "    <tr>\n",
       "      <th>0</th>\n",
       "      <td>aneagoie</td>\n",
       "      <td>Andrei Neagoie</td>\n",
       "      <td>None</td>\n",
       "      <td>Toronto, Canada</td>\n",
       "      <td>None</td>\n",
       "      <td>True</td>\n",
       "      <td>Senior Software Dev turned Instructor. Founder...</td>\n",
       "      <td>145</td>\n",
       "      <td>10268</td>\n",
       "      <td>1</td>\n",
       "      <td>2015-01-30 17:05:43+00:00</td>\n",
       "    </tr>\n",
       "    <tr>\n",
       "      <th>1</th>\n",
       "      <td>ZhangMYihua</td>\n",
       "      <td>Yihua Zhang</td>\n",
       "      <td>None</td>\n",
       "      <td>Toronto</td>\n",
       "      <td>yihuazhang2@gmail.com</td>\n",
       "      <td>None</td>\n",
       "      <td>Toronto Software Developer</td>\n",
       "      <td>143</td>\n",
       "      <td>5804</td>\n",
       "      <td>11</td>\n",
       "      <td>2015-01-18 00:01:02+00:00</td>\n",
       "    </tr>\n",
       "    <tr>\n",
       "      <th>2</th>\n",
       "      <td>susanli2016</td>\n",
       "      <td>Susan Li</td>\n",
       "      <td>None</td>\n",
       "      <td>Toronto Canada</td>\n",
       "      <td>None</td>\n",
       "      <td>None</td>\n",
       "      <td>Chief Data Scientist</td>\n",
       "      <td>34</td>\n",
       "      <td>4917</td>\n",
       "      <td>68</td>\n",
       "      <td>2016-11-28 04:22:39+00:00</td>\n",
       "    </tr>\n",
       "    <tr>\n",
       "      <th>3</th>\n",
       "      <td>thedaviddias</td>\n",
       "      <td>David Dias</td>\n",
       "      <td>KIJIJICA</td>\n",
       "      <td>Toronto, Canada</td>\n",
       "      <td>None</td>\n",
       "      <td>None</td>\n",
       "      <td>💻 Passionate Front-End Dev &amp; 🎨 UI/UX fan. Cont...</td>\n",
       "      <td>89</td>\n",
       "      <td>4533</td>\n",
       "      <td>301</td>\n",
       "      <td>2010-04-05 14:40:12+00:00</td>\n",
       "    </tr>\n",
       "    <tr>\n",
       "      <th>4</th>\n",
       "      <td>ange-yaghi</td>\n",
       "      <td>Ange Yaghi</td>\n",
       "      <td>None</td>\n",
       "      <td>Toronto</td>\n",
       "      <td>me@angeyaghi.com</td>\n",
       "      <td>None</td>\n",
       "      <td>C++ Developer</td>\n",
       "      <td>32</td>\n",
       "      <td>4020</td>\n",
       "      <td>11</td>\n",
       "      <td>2016-07-13 21:01:21+00:00</td>\n",
       "    </tr>\n",
       "  </tbody>\n",
       "</table>\n",
       "</div>"
      ],
      "text/plain": [
       "          login            name   company         location  \\\n",
       "0      aneagoie  Andrei Neagoie      None  Toronto, Canada   \n",
       "1   ZhangMYihua     Yihua Zhang      None          Toronto   \n",
       "2   susanli2016        Susan Li      None   Toronto Canada   \n",
       "3  thedaviddias      David Dias  KIJIJICA  Toronto, Canada   \n",
       "4    ange-yaghi      Ange Yaghi      None          Toronto   \n",
       "\n",
       "                   email hireable  \\\n",
       "0                   None     True   \n",
       "1  yihuazhang2@gmail.com     None   \n",
       "2                   None     None   \n",
       "3                   None     None   \n",
       "4       me@angeyaghi.com     None   \n",
       "\n",
       "                                                 bio  public_repos  followers  \\\n",
       "0  Senior Software Dev turned Instructor. Founder...           145      10268   \n",
       "1                         Toronto Software Developer           143       5804   \n",
       "2                               Chief Data Scientist            34       4917   \n",
       "3  💻 Passionate Front-End Dev & 🎨 UI/UX fan. Cont...            89       4533   \n",
       "4                                      C++ Developer            32       4020   \n",
       "\n",
       "   following                created_at  \n",
       "0          1 2015-01-30 17:05:43+00:00  \n",
       "1         11 2015-01-18 00:01:02+00:00  \n",
       "2         68 2016-11-28 04:22:39+00:00  \n",
       "3        301 2010-04-05 14:40:12+00:00  \n",
       "4         11 2016-07-13 21:01:21+00:00  "
      ]
     },
     "execution_count": 26,
     "metadata": {},
     "output_type": "execute_result"
    }
   ],
   "source": [
    "users_df['created_at'] = pd.to_datetime(users_df['created_at'])\n",
    "users_df.head()"
   ]
  },
  {
   "cell_type": "code",
   "execution_count": 27,
   "metadata": {},
   "outputs": [
    {
     "data": {
      "text/html": [
       "<div>\n",
       "<style scoped>\n",
       "    .dataframe tbody tr th:only-of-type {\n",
       "        vertical-align: middle;\n",
       "    }\n",
       "\n",
       "    .dataframe tbody tr th {\n",
       "        vertical-align: top;\n",
       "    }\n",
       "\n",
       "    .dataframe thead th {\n",
       "        text-align: right;\n",
       "    }\n",
       "</style>\n",
       "<table border=\"1\" class=\"dataframe\">\n",
       "  <thead>\n",
       "    <tr style=\"text-align: right;\">\n",
       "      <th></th>\n",
       "      <th>login</th>\n",
       "      <th>created_at</th>\n",
       "    </tr>\n",
       "  </thead>\n",
       "  <tbody>\n",
       "    <tr>\n",
       "      <th>428</th>\n",
       "      <td>jamesmacaulay</td>\n",
       "      <td>2008-02-17 20:11:15+00:00</td>\n",
       "    </tr>\n",
       "    <tr>\n",
       "      <th>21</th>\n",
       "      <td>michaelklishin</td>\n",
       "      <td>2008-02-27 16:49:40+00:00</td>\n",
       "    </tr>\n",
       "    <tr>\n",
       "      <th>522</th>\n",
       "      <td>myles</td>\n",
       "      <td>2008-02-27 22:49:45+00:00</td>\n",
       "    </tr>\n",
       "    <tr>\n",
       "      <th>575</th>\n",
       "      <td>nwjsmith</td>\n",
       "      <td>2008-02-28 00:38:55+00:00</td>\n",
       "    </tr>\n",
       "    <tr>\n",
       "      <th>78</th>\n",
       "      <td>vito</td>\n",
       "      <td>2008-03-01 18:39:55+00:00</td>\n",
       "    </tr>\n",
       "  </tbody>\n",
       "</table>\n",
       "</div>"
      ],
      "text/plain": [
       "              login                created_at\n",
       "428   jamesmacaulay 2008-02-17 20:11:15+00:00\n",
       "21   michaelklishin 2008-02-27 16:49:40+00:00\n",
       "522           myles 2008-02-27 22:49:45+00:00\n",
       "575        nwjsmith 2008-02-28 00:38:55+00:00\n",
       "78             vito 2008-03-01 18:39:55+00:00"
      ]
     },
     "execution_count": 27,
     "metadata": {},
     "output_type": "execute_result"
    }
   ],
   "source": [
    "users_df.iloc[users_df['created_at'].sort_values(ascending=True).index[:5].to_list()][['login', 'created_at']]"
   ]
  },
  {
   "cell_type": "code",
   "execution_count": 28,
   "metadata": {},
   "outputs": [
    {
     "data": {
      "text/plain": [
       "'jamesmacaulay,michaelklishin,myles,nwjsmith,vito'"
      ]
     },
     "execution_count": 28,
     "metadata": {},
     "output_type": "execute_result"
    }
   ],
   "source": [
    "oldest_users = users_df.iloc[users_df['created_at'].sort_values(ascending=True).index[:5].to_list()]['login'].to_list()\n",
    "','.join(sorted(oldest_users))"
   ]
  },
  {
   "cell_type": "markdown",
   "metadata": {},
   "source": [
    "Q3. What are the 3 most popular license among these users? Ignore missing licenses. List the license_name in order, comma-separated."
   ]
  },
  {
   "cell_type": "code",
   "execution_count": 29,
   "metadata": {},
   "outputs": [
    {
     "data": {
      "text/html": [
       "<div>\n",
       "<style scoped>\n",
       "    .dataframe tbody tr th:only-of-type {\n",
       "        vertical-align: middle;\n",
       "    }\n",
       "\n",
       "    .dataframe tbody tr th {\n",
       "        vertical-align: top;\n",
       "    }\n",
       "\n",
       "    .dataframe thead th {\n",
       "        text-align: right;\n",
       "    }\n",
       "</style>\n",
       "<table border=\"1\" class=\"dataframe\">\n",
       "  <thead>\n",
       "    <tr style=\"text-align: right;\">\n",
       "      <th></th>\n",
       "      <th>login</th>\n",
       "      <th>full_name</th>\n",
       "      <th>created_at</th>\n",
       "      <th>stargazers_count</th>\n",
       "      <th>watchers_count</th>\n",
       "      <th>language</th>\n",
       "      <th>has_projects</th>\n",
       "      <th>has_wiki</th>\n",
       "      <th>license_name</th>\n",
       "    </tr>\n",
       "  </thead>\n",
       "  <tbody>\n",
       "    <tr>\n",
       "      <th>0</th>\n",
       "      <td>aneagoie</td>\n",
       "      <td>aneagoie/ztm-extension</td>\n",
       "      <td>2023-12-15 13:32:57+00:00</td>\n",
       "      <td>3</td>\n",
       "      <td>3</td>\n",
       "      <td>JavaScript</td>\n",
       "      <td>True</td>\n",
       "      <td>False</td>\n",
       "      <td>mit</td>\n",
       "    </tr>\n",
       "    <tr>\n",
       "      <th>1</th>\n",
       "      <td>aneagoie</td>\n",
       "      <td>aneagoie/ML-Notes</td>\n",
       "      <td>2019-09-28 02:31:10+00:00</td>\n",
       "      <td>60</td>\n",
       "      <td>60</td>\n",
       "      <td>Jupyter Notebook</td>\n",
       "      <td>True</td>\n",
       "      <td>True</td>\n",
       "      <td>None</td>\n",
       "    </tr>\n",
       "    <tr>\n",
       "      <th>2</th>\n",
       "      <td>aneagoie</td>\n",
       "      <td>aneagoie/smart-brain-boost-api-dockerized</td>\n",
       "      <td>2018-04-12 18:44:49+00:00</td>\n",
       "      <td>55</td>\n",
       "      <td>55</td>\n",
       "      <td>JavaScript</td>\n",
       "      <td>True</td>\n",
       "      <td>True</td>\n",
       "      <td>None</td>\n",
       "    </tr>\n",
       "    <tr>\n",
       "      <th>3</th>\n",
       "      <td>aneagoie</td>\n",
       "      <td>aneagoie/smart-brain-boost-api</td>\n",
       "      <td>2018-04-09 18:46:06+00:00</td>\n",
       "      <td>14</td>\n",
       "      <td>14</td>\n",
       "      <td>JavaScript</td>\n",
       "      <td>True</td>\n",
       "      <td>True</td>\n",
       "      <td>None</td>\n",
       "    </tr>\n",
       "    <tr>\n",
       "      <th>4</th>\n",
       "      <td>aneagoie</td>\n",
       "      <td>aneagoie/smart-brain-boost-lambda</td>\n",
       "      <td>2018-04-15 17:02:27+00:00</td>\n",
       "      <td>20</td>\n",
       "      <td>20</td>\n",
       "      <td>JavaScript</td>\n",
       "      <td>True</td>\n",
       "      <td>True</td>\n",
       "      <td>None</td>\n",
       "    </tr>\n",
       "  </tbody>\n",
       "</table>\n",
       "</div>"
      ],
      "text/plain": [
       "      login                                  full_name  \\\n",
       "0  aneagoie                     aneagoie/ztm-extension   \n",
       "1  aneagoie                          aneagoie/ML-Notes   \n",
       "2  aneagoie  aneagoie/smart-brain-boost-api-dockerized   \n",
       "3  aneagoie             aneagoie/smart-brain-boost-api   \n",
       "4  aneagoie          aneagoie/smart-brain-boost-lambda   \n",
       "\n",
       "                 created_at  stargazers_count  watchers_count  \\\n",
       "0 2023-12-15 13:32:57+00:00                 3               3   \n",
       "1 2019-09-28 02:31:10+00:00                60              60   \n",
       "2 2018-04-12 18:44:49+00:00                55              55   \n",
       "3 2018-04-09 18:46:06+00:00                14              14   \n",
       "4 2018-04-15 17:02:27+00:00                20              20   \n",
       "\n",
       "           language  has_projects  has_wiki license_name  \n",
       "0        JavaScript          True     False          mit  \n",
       "1  Jupyter Notebook          True      True         None  \n",
       "2        JavaScript          True      True         None  \n",
       "3        JavaScript          True      True         None  \n",
       "4        JavaScript          True      True         None  "
      ]
     },
     "execution_count": 29,
     "metadata": {},
     "output_type": "execute_result"
    }
   ],
   "source": [
    "repos_df['created_at'] = pd.to_datetime(repos_df['created_at'])\n",
    "repos_df.head()"
   ]
  },
  {
   "cell_type": "code",
   "execution_count": 30,
   "metadata": {},
   "outputs": [
    {
     "data": {
      "text/plain": [
       "license_name\n",
       "mit           13343\n",
       "other          4221\n",
       "apache-2.0     4061\n",
       "Name: count, dtype: int64"
      ]
     },
     "execution_count": 30,
     "metadata": {},
     "output_type": "execute_result"
    }
   ],
   "source": [
    "repos_df['license_name'].value_counts(dropna=True)[:3]"
   ]
  },
  {
   "cell_type": "code",
   "execution_count": 31,
   "metadata": {},
   "outputs": [
    {
     "data": {
      "text/plain": [
       "'mit,other,apache-2.0'"
      ]
     },
     "execution_count": 31,
     "metadata": {},
     "output_type": "execute_result"
    }
   ],
   "source": [
    "','.join(repos_df['license_name'].value_counts(dropna=True).index[:3].to_list())"
   ]
  },
  {
   "cell_type": "code",
   "execution_count": 32,
   "metadata": {},
   "outputs": [
    {
     "data": {
      "text/plain": [
       "np.int64(27297)"
      ]
     },
     "execution_count": 32,
     "metadata": {},
     "output_type": "execute_result"
    }
   ],
   "source": [
    "repos_df['license_name'].isna().sum()"
   ]
  },
  {
   "cell_type": "markdown",
   "metadata": {},
   "source": [
    "Q4. Which company do the majority of these developers work at?"
   ]
  },
  {
   "cell_type": "code",
   "execution_count": 33,
   "metadata": {},
   "outputs": [
    {
     "data": {
      "text/plain": [
       "company\n",
       "UNIVERSITY OF TORONTO    21\n",
       "SHOPIFY                  16\n",
       "NVIDIA                    7\n",
       "GOOGLE                    6\n",
       "YORK UNIVERSITY           5\n",
       "Name: count, dtype: int64"
      ]
     },
     "execution_count": 33,
     "metadata": {},
     "output_type": "execute_result"
    }
   ],
   "source": [
    "users_df['company'].value_counts()[:5]"
   ]
  },
  {
   "cell_type": "code",
   "execution_count": 34,
   "metadata": {},
   "outputs": [
    {
     "data": {
      "text/plain": [
       "'UNIVERSITY OF TORONTO'"
      ]
     },
     "execution_count": 34,
     "metadata": {},
     "output_type": "execute_result"
    }
   ],
   "source": [
    "users_df['company'].value_counts().index[0]"
   ]
  },
  {
   "cell_type": "markdown",
   "metadata": {},
   "source": [
    "Q5. Which programming language is most popular among these users?"
   ]
  },
  {
   "cell_type": "code",
   "execution_count": 35,
   "metadata": {},
   "outputs": [
    {
     "data": {
      "text/plain": [
       "language\n",
       "JavaScript    10654\n",
       "Python         5029\n",
       "TypeScript     2228\n",
       "Java           2104\n",
       "Ruby           2101\n",
       "Name: count, dtype: int64"
      ]
     },
     "execution_count": 35,
     "metadata": {},
     "output_type": "execute_result"
    }
   ],
   "source": [
    "repos_df['language'].value_counts()[:5]"
   ]
  },
  {
   "cell_type": "code",
   "execution_count": 36,
   "metadata": {},
   "outputs": [
    {
     "data": {
      "text/plain": [
       "'JavaScript'"
      ]
     },
     "execution_count": 36,
     "metadata": {},
     "output_type": "execute_result"
    }
   ],
   "source": [
    "repos_df['language'].value_counts().index[0]"
   ]
  },
  {
   "cell_type": "markdown",
   "metadata": {},
   "source": [
    "Q6. Which programming language is the second most popular among users who joined after 2020?"
   ]
  },
  {
   "cell_type": "code",
   "execution_count": 37,
   "metadata": {},
   "outputs": [
    {
     "name": "stdout",
     "output_type": "stream",
     "text": [
      "\u001b[0;31mSignature:\u001b[0m\n",
      "\u001b[0mpd\u001b[0m\u001b[0;34m.\u001b[0m\u001b[0mmerge\u001b[0m\u001b[0;34m(\u001b[0m\u001b[0;34m\u001b[0m\n",
      "\u001b[0;34m\u001b[0m    \u001b[0mleft\u001b[0m\u001b[0;34m:\u001b[0m \u001b[0;34m'DataFrame | Series'\u001b[0m\u001b[0;34m,\u001b[0m\u001b[0;34m\u001b[0m\n",
      "\u001b[0;34m\u001b[0m    \u001b[0mright\u001b[0m\u001b[0;34m:\u001b[0m \u001b[0;34m'DataFrame | Series'\u001b[0m\u001b[0;34m,\u001b[0m\u001b[0;34m\u001b[0m\n",
      "\u001b[0;34m\u001b[0m    \u001b[0mhow\u001b[0m\u001b[0;34m:\u001b[0m \u001b[0;34m'MergeHow'\u001b[0m \u001b[0;34m=\u001b[0m \u001b[0;34m'inner'\u001b[0m\u001b[0;34m,\u001b[0m\u001b[0;34m\u001b[0m\n",
      "\u001b[0;34m\u001b[0m    \u001b[0mon\u001b[0m\u001b[0;34m:\u001b[0m \u001b[0;34m'IndexLabel | AnyArrayLike | None'\u001b[0m \u001b[0;34m=\u001b[0m \u001b[0;32mNone\u001b[0m\u001b[0;34m,\u001b[0m\u001b[0;34m\u001b[0m\n",
      "\u001b[0;34m\u001b[0m    \u001b[0mleft_on\u001b[0m\u001b[0;34m:\u001b[0m \u001b[0;34m'IndexLabel | AnyArrayLike | None'\u001b[0m \u001b[0;34m=\u001b[0m \u001b[0;32mNone\u001b[0m\u001b[0;34m,\u001b[0m\u001b[0;34m\u001b[0m\n",
      "\u001b[0;34m\u001b[0m    \u001b[0mright_on\u001b[0m\u001b[0;34m:\u001b[0m \u001b[0;34m'IndexLabel | AnyArrayLike | None'\u001b[0m \u001b[0;34m=\u001b[0m \u001b[0;32mNone\u001b[0m\u001b[0;34m,\u001b[0m\u001b[0;34m\u001b[0m\n",
      "\u001b[0;34m\u001b[0m    \u001b[0mleft_index\u001b[0m\u001b[0;34m:\u001b[0m \u001b[0;34m'bool'\u001b[0m \u001b[0;34m=\u001b[0m \u001b[0;32mFalse\u001b[0m\u001b[0;34m,\u001b[0m\u001b[0;34m\u001b[0m\n",
      "\u001b[0;34m\u001b[0m    \u001b[0mright_index\u001b[0m\u001b[0;34m:\u001b[0m \u001b[0;34m'bool'\u001b[0m \u001b[0;34m=\u001b[0m \u001b[0;32mFalse\u001b[0m\u001b[0;34m,\u001b[0m\u001b[0;34m\u001b[0m\n",
      "\u001b[0;34m\u001b[0m    \u001b[0msort\u001b[0m\u001b[0;34m:\u001b[0m \u001b[0;34m'bool'\u001b[0m \u001b[0;34m=\u001b[0m \u001b[0;32mFalse\u001b[0m\u001b[0;34m,\u001b[0m\u001b[0;34m\u001b[0m\n",
      "\u001b[0;34m\u001b[0m    \u001b[0msuffixes\u001b[0m\u001b[0;34m:\u001b[0m \u001b[0;34m'Suffixes'\u001b[0m \u001b[0;34m=\u001b[0m \u001b[0;34m(\u001b[0m\u001b[0;34m'_x'\u001b[0m\u001b[0;34m,\u001b[0m \u001b[0;34m'_y'\u001b[0m\u001b[0;34m)\u001b[0m\u001b[0;34m,\u001b[0m\u001b[0;34m\u001b[0m\n",
      "\u001b[0;34m\u001b[0m    \u001b[0mcopy\u001b[0m\u001b[0;34m:\u001b[0m \u001b[0;34m'bool | None'\u001b[0m \u001b[0;34m=\u001b[0m \u001b[0;32mNone\u001b[0m\u001b[0;34m,\u001b[0m\u001b[0;34m\u001b[0m\n",
      "\u001b[0;34m\u001b[0m    \u001b[0mindicator\u001b[0m\u001b[0;34m:\u001b[0m \u001b[0;34m'str | bool'\u001b[0m \u001b[0;34m=\u001b[0m \u001b[0;32mFalse\u001b[0m\u001b[0;34m,\u001b[0m\u001b[0;34m\u001b[0m\n",
      "\u001b[0;34m\u001b[0m    \u001b[0mvalidate\u001b[0m\u001b[0;34m:\u001b[0m \u001b[0;34m'str | None'\u001b[0m \u001b[0;34m=\u001b[0m \u001b[0;32mNone\u001b[0m\u001b[0;34m,\u001b[0m\u001b[0;34m\u001b[0m\n",
      "\u001b[0;34m\u001b[0m\u001b[0;34m)\u001b[0m \u001b[0;34m->\u001b[0m \u001b[0;34m'DataFrame'\u001b[0m\u001b[0;34m\u001b[0m\u001b[0;34m\u001b[0m\u001b[0m\n",
      "\u001b[0;31mDocstring:\u001b[0m\n",
      "Merge DataFrame or named Series objects with a database-style join.\n",
      "\n",
      "A named Series object is treated as a DataFrame with a single named column.\n",
      "\n",
      "The join is done on columns or indexes. If joining columns on\n",
      "columns, the DataFrame indexes *will be ignored*. Otherwise if joining indexes\n",
      "on indexes or indexes on a column or columns, the index will be passed on.\n",
      "When performing a cross merge, no column specifications to merge on are\n",
      "allowed.\n",
      "\n",
      ".. warning::\n",
      "\n",
      "    If both key columns contain rows where the key is a null value, those\n",
      "    rows will be matched against each other. This is different from usual SQL\n",
      "    join behaviour and can lead to unexpected results.\n",
      "\n",
      "Parameters\n",
      "----------\n",
      "left : DataFrame or named Series\n",
      "right : DataFrame or named Series\n",
      "    Object to merge with.\n",
      "how : {'left', 'right', 'outer', 'inner', 'cross'}, default 'inner'\n",
      "    Type of merge to be performed.\n",
      "\n",
      "    * left: use only keys from left frame, similar to a SQL left outer join;\n",
      "      preserve key order.\n",
      "    * right: use only keys from right frame, similar to a SQL right outer join;\n",
      "      preserve key order.\n",
      "    * outer: use union of keys from both frames, similar to a SQL full outer\n",
      "      join; sort keys lexicographically.\n",
      "    * inner: use intersection of keys from both frames, similar to a SQL inner\n",
      "      join; preserve the order of the left keys.\n",
      "    * cross: creates the cartesian product from both frames, preserves the order\n",
      "      of the left keys.\n",
      "on : label or list\n",
      "    Column or index level names to join on. These must be found in both\n",
      "    DataFrames. If `on` is None and not merging on indexes then this defaults\n",
      "    to the intersection of the columns in both DataFrames.\n",
      "left_on : label or list, or array-like\n",
      "    Column or index level names to join on in the left DataFrame. Can also\n",
      "    be an array or list of arrays of the length of the left DataFrame.\n",
      "    These arrays are treated as if they are columns.\n",
      "right_on : label or list, or array-like\n",
      "    Column or index level names to join on in the right DataFrame. Can also\n",
      "    be an array or list of arrays of the length of the right DataFrame.\n",
      "    These arrays are treated as if they are columns.\n",
      "left_index : bool, default False\n",
      "    Use the index from the left DataFrame as the join key(s). If it is a\n",
      "    MultiIndex, the number of keys in the other DataFrame (either the index\n",
      "    or a number of columns) must match the number of levels.\n",
      "right_index : bool, default False\n",
      "    Use the index from the right DataFrame as the join key. Same caveats as\n",
      "    left_index.\n",
      "sort : bool, default False\n",
      "    Sort the join keys lexicographically in the result DataFrame. If False,\n",
      "    the order of the join keys depends on the join type (how keyword).\n",
      "suffixes : list-like, default is (\"_x\", \"_y\")\n",
      "    A length-2 sequence where each element is optionally a string\n",
      "    indicating the suffix to add to overlapping column names in\n",
      "    `left` and `right` respectively. Pass a value of `None` instead\n",
      "    of a string to indicate that the column name from `left` or\n",
      "    `right` should be left as-is, with no suffix. At least one of the\n",
      "    values must not be None.\n",
      "copy : bool, default True\n",
      "    If False, avoid copy if possible.\n",
      "\n",
      "    .. note::\n",
      "        The `copy` keyword will change behavior in pandas 3.0.\n",
      "        `Copy-on-Write\n",
      "        <https://pandas.pydata.org/docs/dev/user_guide/copy_on_write.html>`__\n",
      "        will be enabled by default, which means that all methods with a\n",
      "        `copy` keyword will use a lazy copy mechanism to defer the copy and\n",
      "        ignore the `copy` keyword. The `copy` keyword will be removed in a\n",
      "        future version of pandas.\n",
      "\n",
      "        You can already get the future behavior and improvements through\n",
      "        enabling copy on write ``pd.options.mode.copy_on_write = True``\n",
      "indicator : bool or str, default False\n",
      "    If True, adds a column to the output DataFrame called \"_merge\" with\n",
      "    information on the source of each row. The column can be given a different\n",
      "    name by providing a string argument. The column will have a Categorical\n",
      "    type with the value of \"left_only\" for observations whose merge key only\n",
      "    appears in the left DataFrame, \"right_only\" for observations\n",
      "    whose merge key only appears in the right DataFrame, and \"both\"\n",
      "    if the observation's merge key is found in both DataFrames.\n",
      "\n",
      "validate : str, optional\n",
      "    If specified, checks if merge is of specified type.\n",
      "\n",
      "    * \"one_to_one\" or \"1:1\": check if merge keys are unique in both\n",
      "      left and right datasets.\n",
      "    * \"one_to_many\" or \"1:m\": check if merge keys are unique in left\n",
      "      dataset.\n",
      "    * \"many_to_one\" or \"m:1\": check if merge keys are unique in right\n",
      "      dataset.\n",
      "    * \"many_to_many\" or \"m:m\": allowed, but does not result in checks.\n",
      "\n",
      "Returns\n",
      "-------\n",
      "DataFrame\n",
      "    A DataFrame of the two merged objects.\n",
      "\n",
      "See Also\n",
      "--------\n",
      "merge_ordered : Merge with optional filling/interpolation.\n",
      "merge_asof : Merge on nearest keys.\n",
      "DataFrame.join : Similar method using indices.\n",
      "\n",
      "Examples\n",
      "--------\n",
      ">>> df1 = pd.DataFrame({'lkey': ['foo', 'bar', 'baz', 'foo'],\n",
      "...                     'value': [1, 2, 3, 5]})\n",
      ">>> df2 = pd.DataFrame({'rkey': ['foo', 'bar', 'baz', 'foo'],\n",
      "...                     'value': [5, 6, 7, 8]})\n",
      ">>> df1\n",
      "    lkey value\n",
      "0   foo      1\n",
      "1   bar      2\n",
      "2   baz      3\n",
      "3   foo      5\n",
      ">>> df2\n",
      "    rkey value\n",
      "0   foo      5\n",
      "1   bar      6\n",
      "2   baz      7\n",
      "3   foo      8\n",
      "\n",
      "Merge df1 and df2 on the lkey and rkey columns. The value columns have\n",
      "the default suffixes, _x and _y, appended.\n",
      "\n",
      ">>> df1.merge(df2, left_on='lkey', right_on='rkey')\n",
      "  lkey  value_x rkey  value_y\n",
      "0  foo        1  foo        5\n",
      "1  foo        1  foo        8\n",
      "2  bar        2  bar        6\n",
      "3  baz        3  baz        7\n",
      "4  foo        5  foo        5\n",
      "5  foo        5  foo        8\n",
      "\n",
      "Merge DataFrames df1 and df2 with specified left and right suffixes\n",
      "appended to any overlapping columns.\n",
      "\n",
      ">>> df1.merge(df2, left_on='lkey', right_on='rkey',\n",
      "...           suffixes=('_left', '_right'))\n",
      "  lkey  value_left rkey  value_right\n",
      "0  foo           1  foo            5\n",
      "1  foo           1  foo            8\n",
      "2  bar           2  bar            6\n",
      "3  baz           3  baz            7\n",
      "4  foo           5  foo            5\n",
      "5  foo           5  foo            8\n",
      "\n",
      "Merge DataFrames df1 and df2, but raise an exception if the DataFrames have\n",
      "any overlapping columns.\n",
      "\n",
      ">>> df1.merge(df2, left_on='lkey', right_on='rkey', suffixes=(False, False))\n",
      "Traceback (most recent call last):\n",
      "...\n",
      "ValueError: columns overlap but no suffix specified:\n",
      "    Index(['value'], dtype='object')\n",
      "\n",
      ">>> df1 = pd.DataFrame({'a': ['foo', 'bar'], 'b': [1, 2]})\n",
      ">>> df2 = pd.DataFrame({'a': ['foo', 'baz'], 'c': [3, 4]})\n",
      ">>> df1\n",
      "      a  b\n",
      "0   foo  1\n",
      "1   bar  2\n",
      ">>> df2\n",
      "      a  c\n",
      "0   foo  3\n",
      "1   baz  4\n",
      "\n",
      ">>> df1.merge(df2, how='inner', on='a')\n",
      "      a  b  c\n",
      "0   foo  1  3\n",
      "\n",
      ">>> df1.merge(df2, how='left', on='a')\n",
      "      a  b  c\n",
      "0   foo  1  3.0\n",
      "1   bar  2  NaN\n",
      "\n",
      ">>> df1 = pd.DataFrame({'left': ['foo', 'bar']})\n",
      ">>> df2 = pd.DataFrame({'right': [7, 8]})\n",
      ">>> df1\n",
      "    left\n",
      "0   foo\n",
      "1   bar\n",
      ">>> df2\n",
      "    right\n",
      "0   7\n",
      "1   8\n",
      "\n",
      ">>> df1.merge(df2, how='cross')\n",
      "   left  right\n",
      "0   foo      7\n",
      "1   foo      8\n",
      "2   bar      7\n",
      "3   bar      8\n",
      "\u001b[0;31mFile:\u001b[0m      ~/Desktop/iit-bs/diploma-data-science/tools-in-data-science/project/github-profiles/.venv/lib/python3.10/site-packages/pandas/core/reshape/merge.py\n",
      "\u001b[0;31mType:\u001b[0m      function"
     ]
    }
   ],
   "source": [
    "pd.merge?"
   ]
  },
  {
   "cell_type": "code",
   "execution_count": 38,
   "metadata": {},
   "outputs": [
    {
     "data": {
      "text/html": [
       "<div>\n",
       "<style scoped>\n",
       "    .dataframe tbody tr th:only-of-type {\n",
       "        vertical-align: middle;\n",
       "    }\n",
       "\n",
       "    .dataframe tbody tr th {\n",
       "        vertical-align: top;\n",
       "    }\n",
       "\n",
       "    .dataframe thead th {\n",
       "        text-align: right;\n",
       "    }\n",
       "</style>\n",
       "<table border=\"1\" class=\"dataframe\">\n",
       "  <thead>\n",
       "    <tr style=\"text-align: right;\">\n",
       "      <th></th>\n",
       "      <th>login</th>\n",
       "      <th>full_name</th>\n",
       "      <th>created_at_repo</th>\n",
       "      <th>stargazers_count</th>\n",
       "      <th>watchers_count</th>\n",
       "      <th>language</th>\n",
       "      <th>has_projects</th>\n",
       "      <th>has_wiki</th>\n",
       "      <th>license_name</th>\n",
       "      <th>name</th>\n",
       "      <th>company</th>\n",
       "      <th>location</th>\n",
       "      <th>email</th>\n",
       "      <th>hireable</th>\n",
       "      <th>bio</th>\n",
       "      <th>public_repos</th>\n",
       "      <th>followers</th>\n",
       "      <th>following</th>\n",
       "      <th>created_at_user</th>\n",
       "    </tr>\n",
       "  </thead>\n",
       "  <tbody>\n",
       "    <tr>\n",
       "      <th>0</th>\n",
       "      <td>aneagoie</td>\n",
       "      <td>aneagoie/ztm-extension</td>\n",
       "      <td>2023-12-15 13:32:57+00:00</td>\n",
       "      <td>3</td>\n",
       "      <td>3</td>\n",
       "      <td>JavaScript</td>\n",
       "      <td>True</td>\n",
       "      <td>False</td>\n",
       "      <td>mit</td>\n",
       "      <td>Andrei Neagoie</td>\n",
       "      <td>None</td>\n",
       "      <td>Toronto, Canada</td>\n",
       "      <td>None</td>\n",
       "      <td>True</td>\n",
       "      <td>Senior Software Dev turned Instructor. Founder...</td>\n",
       "      <td>145</td>\n",
       "      <td>10268</td>\n",
       "      <td>1</td>\n",
       "      <td>2015-01-30 17:05:43+00:00</td>\n",
       "    </tr>\n",
       "    <tr>\n",
       "      <th>1</th>\n",
       "      <td>aneagoie</td>\n",
       "      <td>aneagoie/ML-Notes</td>\n",
       "      <td>2019-09-28 02:31:10+00:00</td>\n",
       "      <td>60</td>\n",
       "      <td>60</td>\n",
       "      <td>Jupyter Notebook</td>\n",
       "      <td>True</td>\n",
       "      <td>True</td>\n",
       "      <td>None</td>\n",
       "      <td>Andrei Neagoie</td>\n",
       "      <td>None</td>\n",
       "      <td>Toronto, Canada</td>\n",
       "      <td>None</td>\n",
       "      <td>True</td>\n",
       "      <td>Senior Software Dev turned Instructor. Founder...</td>\n",
       "      <td>145</td>\n",
       "      <td>10268</td>\n",
       "      <td>1</td>\n",
       "      <td>2015-01-30 17:05:43+00:00</td>\n",
       "    </tr>\n",
       "    <tr>\n",
       "      <th>2</th>\n",
       "      <td>aneagoie</td>\n",
       "      <td>aneagoie/smart-brain-boost-api-dockerized</td>\n",
       "      <td>2018-04-12 18:44:49+00:00</td>\n",
       "      <td>55</td>\n",
       "      <td>55</td>\n",
       "      <td>JavaScript</td>\n",
       "      <td>True</td>\n",
       "      <td>True</td>\n",
       "      <td>None</td>\n",
       "      <td>Andrei Neagoie</td>\n",
       "      <td>None</td>\n",
       "      <td>Toronto, Canada</td>\n",
       "      <td>None</td>\n",
       "      <td>True</td>\n",
       "      <td>Senior Software Dev turned Instructor. Founder...</td>\n",
       "      <td>145</td>\n",
       "      <td>10268</td>\n",
       "      <td>1</td>\n",
       "      <td>2015-01-30 17:05:43+00:00</td>\n",
       "    </tr>\n",
       "    <tr>\n",
       "      <th>3</th>\n",
       "      <td>aneagoie</td>\n",
       "      <td>aneagoie/smart-brain-boost-api</td>\n",
       "      <td>2018-04-09 18:46:06+00:00</td>\n",
       "      <td>14</td>\n",
       "      <td>14</td>\n",
       "      <td>JavaScript</td>\n",
       "      <td>True</td>\n",
       "      <td>True</td>\n",
       "      <td>None</td>\n",
       "      <td>Andrei Neagoie</td>\n",
       "      <td>None</td>\n",
       "      <td>Toronto, Canada</td>\n",
       "      <td>None</td>\n",
       "      <td>True</td>\n",
       "      <td>Senior Software Dev turned Instructor. Founder...</td>\n",
       "      <td>145</td>\n",
       "      <td>10268</td>\n",
       "      <td>1</td>\n",
       "      <td>2015-01-30 17:05:43+00:00</td>\n",
       "    </tr>\n",
       "    <tr>\n",
       "      <th>4</th>\n",
       "      <td>aneagoie</td>\n",
       "      <td>aneagoie/smart-brain-boost-lambda</td>\n",
       "      <td>2018-04-15 17:02:27+00:00</td>\n",
       "      <td>20</td>\n",
       "      <td>20</td>\n",
       "      <td>JavaScript</td>\n",
       "      <td>True</td>\n",
       "      <td>True</td>\n",
       "      <td>None</td>\n",
       "      <td>Andrei Neagoie</td>\n",
       "      <td>None</td>\n",
       "      <td>Toronto, Canada</td>\n",
       "      <td>None</td>\n",
       "      <td>True</td>\n",
       "      <td>Senior Software Dev turned Instructor. Founder...</td>\n",
       "      <td>145</td>\n",
       "      <td>10268</td>\n",
       "      <td>1</td>\n",
       "      <td>2015-01-30 17:05:43+00:00</td>\n",
       "    </tr>\n",
       "  </tbody>\n",
       "</table>\n",
       "</div>"
      ],
      "text/plain": [
       "      login                                  full_name  \\\n",
       "0  aneagoie                     aneagoie/ztm-extension   \n",
       "1  aneagoie                          aneagoie/ML-Notes   \n",
       "2  aneagoie  aneagoie/smart-brain-boost-api-dockerized   \n",
       "3  aneagoie             aneagoie/smart-brain-boost-api   \n",
       "4  aneagoie          aneagoie/smart-brain-boost-lambda   \n",
       "\n",
       "            created_at_repo  stargazers_count  watchers_count  \\\n",
       "0 2023-12-15 13:32:57+00:00                 3               3   \n",
       "1 2019-09-28 02:31:10+00:00                60              60   \n",
       "2 2018-04-12 18:44:49+00:00                55              55   \n",
       "3 2018-04-09 18:46:06+00:00                14              14   \n",
       "4 2018-04-15 17:02:27+00:00                20              20   \n",
       "\n",
       "           language  has_projects  has_wiki license_name            name  \\\n",
       "0        JavaScript          True     False          mit  Andrei Neagoie   \n",
       "1  Jupyter Notebook          True      True         None  Andrei Neagoie   \n",
       "2        JavaScript          True      True         None  Andrei Neagoie   \n",
       "3        JavaScript          True      True         None  Andrei Neagoie   \n",
       "4        JavaScript          True      True         None  Andrei Neagoie   \n",
       "\n",
       "  company         location email hireable  \\\n",
       "0    None  Toronto, Canada  None     True   \n",
       "1    None  Toronto, Canada  None     True   \n",
       "2    None  Toronto, Canada  None     True   \n",
       "3    None  Toronto, Canada  None     True   \n",
       "4    None  Toronto, Canada  None     True   \n",
       "\n",
       "                                                 bio  public_repos  followers  \\\n",
       "0  Senior Software Dev turned Instructor. Founder...           145      10268   \n",
       "1  Senior Software Dev turned Instructor. Founder...           145      10268   \n",
       "2  Senior Software Dev turned Instructor. Founder...           145      10268   \n",
       "3  Senior Software Dev turned Instructor. Founder...           145      10268   \n",
       "4  Senior Software Dev turned Instructor. Founder...           145      10268   \n",
       "\n",
       "   following           created_at_user  \n",
       "0          1 2015-01-30 17:05:43+00:00  \n",
       "1          1 2015-01-30 17:05:43+00:00  \n",
       "2          1 2015-01-30 17:05:43+00:00  \n",
       "3          1 2015-01-30 17:05:43+00:00  \n",
       "4          1 2015-01-30 17:05:43+00:00  "
      ]
     },
     "execution_count": 38,
     "metadata": {},
     "output_type": "execute_result"
    }
   ],
   "source": [
    "merged = repos_df.merge(users_df, how='inner', on='login', suffixes=('_repo', '_user'))\n",
    "merged.head()"
   ]
  },
  {
   "cell_type": "code",
   "execution_count": 39,
   "metadata": {},
   "outputs": [
    {
     "data": {
      "text/plain": [
       "np.int64(640)"
      ]
     },
     "execution_count": 39,
     "metadata": {},
     "output_type": "execute_result"
    }
   ],
   "source": [
    "users_df[users_df['created_at'].dt.year > 2020]['public_repos'].sum()"
   ]
  },
  {
   "cell_type": "code",
   "execution_count": 40,
   "metadata": {},
   "outputs": [
    {
     "data": {
      "text/plain": [
       "language\n",
       "JavaScript    151\n",
       "TypeScript     48\n",
       "HTML           42\n",
       "CSS            31\n",
       "Python         30\n",
       "Name: count, dtype: int64"
      ]
     },
     "execution_count": 40,
     "metadata": {},
     "output_type": "execute_result"
    }
   ],
   "source": [
    "merged[merged['created_at_user'].dt.year > 2020]['language'].value_counts()[:5]"
   ]
  },
  {
   "cell_type": "code",
   "execution_count": 41,
   "metadata": {},
   "outputs": [
    {
     "data": {
      "text/plain": [
       "'TypeScript'"
      ]
     },
     "execution_count": 41,
     "metadata": {},
     "output_type": "execute_result"
    }
   ],
   "source": [
    "merged[merged['created_at_user'].dt.year > 2020]['language'].value_counts().index[1]"
   ]
  },
  {
   "cell_type": "markdown",
   "metadata": {},
   "source": [
    "Q7. Which language has the highest average number of stars per repository?"
   ]
  },
  {
   "cell_type": "code",
   "execution_count": 42,
   "metadata": {},
   "outputs": [
    {
     "data": {
      "text/plain": [
       "language\n",
       "Cython            1778.0\n",
       "Forth             1183.0\n",
       "ASP.NET            414.0\n",
       "BrighterScript     311.0\n",
       "SAS                172.0\n",
       "Name: stargazers_count, dtype: float64"
      ]
     },
     "execution_count": 42,
     "metadata": {},
     "output_type": "execute_result"
    }
   ],
   "source": [
    "repos_df.groupby('language')['stargazers_count'].mean().sort_values(ascending=False)[:5]"
   ]
  },
  {
   "cell_type": "code",
   "execution_count": 43,
   "metadata": {},
   "outputs": [
    {
     "data": {
      "text/plain": [
       "'Cython'"
      ]
     },
     "execution_count": 43,
     "metadata": {},
     "output_type": "execute_result"
    }
   ],
   "source": [
    "repos_df.groupby('language')['stargazers_count'].mean().sort_values(ascending=False).index[0]"
   ]
  },
  {
   "cell_type": "markdown",
   "metadata": {},
   "source": [
    "Q8. Let's define `leader_strength` as `followers / (1 + following)`. Who are the top 5 in terms of `leader_strength`? List their login in order, comma-separated."
   ]
  },
  {
   "cell_type": "code",
   "execution_count": 44,
   "metadata": {},
   "outputs": [
    {
     "data": {
      "text/html": [
       "<div>\n",
       "<style scoped>\n",
       "    .dataframe tbody tr th:only-of-type {\n",
       "        vertical-align: middle;\n",
       "    }\n",
       "\n",
       "    .dataframe tbody tr th {\n",
       "        vertical-align: top;\n",
       "    }\n",
       "\n",
       "    .dataframe thead th {\n",
       "        text-align: right;\n",
       "    }\n",
       "</style>\n",
       "<table border=\"1\" class=\"dataframe\">\n",
       "  <thead>\n",
       "    <tr style=\"text-align: right;\">\n",
       "      <th></th>\n",
       "      <th>login</th>\n",
       "      <th>name</th>\n",
       "      <th>company</th>\n",
       "      <th>location</th>\n",
       "      <th>email</th>\n",
       "      <th>hireable</th>\n",
       "      <th>bio</th>\n",
       "      <th>public_repos</th>\n",
       "      <th>followers</th>\n",
       "      <th>following</th>\n",
       "      <th>created_at</th>\n",
       "      <th>leader_strength</th>\n",
       "    </tr>\n",
       "  </thead>\n",
       "  <tbody>\n",
       "    <tr>\n",
       "      <th>0</th>\n",
       "      <td>aneagoie</td>\n",
       "      <td>Andrei Neagoie</td>\n",
       "      <td>None</td>\n",
       "      <td>Toronto, Canada</td>\n",
       "      <td>None</td>\n",
       "      <td>True</td>\n",
       "      <td>Senior Software Dev turned Instructor. Founder...</td>\n",
       "      <td>145</td>\n",
       "      <td>10268</td>\n",
       "      <td>1</td>\n",
       "      <td>2015-01-30 17:05:43+00:00</td>\n",
       "      <td>5134.000000</td>\n",
       "    </tr>\n",
       "    <tr>\n",
       "      <th>1</th>\n",
       "      <td>ZhangMYihua</td>\n",
       "      <td>Yihua Zhang</td>\n",
       "      <td>None</td>\n",
       "      <td>Toronto</td>\n",
       "      <td>yihuazhang2@gmail.com</td>\n",
       "      <td>None</td>\n",
       "      <td>Toronto Software Developer</td>\n",
       "      <td>143</td>\n",
       "      <td>5804</td>\n",
       "      <td>11</td>\n",
       "      <td>2015-01-18 00:01:02+00:00</td>\n",
       "      <td>483.666667</td>\n",
       "    </tr>\n",
       "    <tr>\n",
       "      <th>2</th>\n",
       "      <td>susanli2016</td>\n",
       "      <td>Susan Li</td>\n",
       "      <td>None</td>\n",
       "      <td>Toronto Canada</td>\n",
       "      <td>None</td>\n",
       "      <td>None</td>\n",
       "      <td>Chief Data Scientist</td>\n",
       "      <td>34</td>\n",
       "      <td>4917</td>\n",
       "      <td>68</td>\n",
       "      <td>2016-11-28 04:22:39+00:00</td>\n",
       "      <td>71.260870</td>\n",
       "    </tr>\n",
       "    <tr>\n",
       "      <th>3</th>\n",
       "      <td>thedaviddias</td>\n",
       "      <td>David Dias</td>\n",
       "      <td>KIJIJICA</td>\n",
       "      <td>Toronto, Canada</td>\n",
       "      <td>None</td>\n",
       "      <td>None</td>\n",
       "      <td>💻 Passionate Front-End Dev &amp; 🎨 UI/UX fan. Cont...</td>\n",
       "      <td>89</td>\n",
       "      <td>4533</td>\n",
       "      <td>301</td>\n",
       "      <td>2010-04-05 14:40:12+00:00</td>\n",
       "      <td>15.009934</td>\n",
       "    </tr>\n",
       "    <tr>\n",
       "      <th>4</th>\n",
       "      <td>ange-yaghi</td>\n",
       "      <td>Ange Yaghi</td>\n",
       "      <td>None</td>\n",
       "      <td>Toronto</td>\n",
       "      <td>me@angeyaghi.com</td>\n",
       "      <td>None</td>\n",
       "      <td>C++ Developer</td>\n",
       "      <td>32</td>\n",
       "      <td>4020</td>\n",
       "      <td>11</td>\n",
       "      <td>2016-07-13 21:01:21+00:00</td>\n",
       "      <td>335.000000</td>\n",
       "    </tr>\n",
       "  </tbody>\n",
       "</table>\n",
       "</div>"
      ],
      "text/plain": [
       "          login            name   company         location  \\\n",
       "0      aneagoie  Andrei Neagoie      None  Toronto, Canada   \n",
       "1   ZhangMYihua     Yihua Zhang      None          Toronto   \n",
       "2   susanli2016        Susan Li      None   Toronto Canada   \n",
       "3  thedaviddias      David Dias  KIJIJICA  Toronto, Canada   \n",
       "4    ange-yaghi      Ange Yaghi      None          Toronto   \n",
       "\n",
       "                   email hireable  \\\n",
       "0                   None     True   \n",
       "1  yihuazhang2@gmail.com     None   \n",
       "2                   None     None   \n",
       "3                   None     None   \n",
       "4       me@angeyaghi.com     None   \n",
       "\n",
       "                                                 bio  public_repos  followers  \\\n",
       "0  Senior Software Dev turned Instructor. Founder...           145      10268   \n",
       "1                         Toronto Software Developer           143       5804   \n",
       "2                               Chief Data Scientist            34       4917   \n",
       "3  💻 Passionate Front-End Dev & 🎨 UI/UX fan. Cont...            89       4533   \n",
       "4                                      C++ Developer            32       4020   \n",
       "\n",
       "   following                created_at  leader_strength  \n",
       "0          1 2015-01-30 17:05:43+00:00      5134.000000  \n",
       "1         11 2015-01-18 00:01:02+00:00       483.666667  \n",
       "2         68 2016-11-28 04:22:39+00:00        71.260870  \n",
       "3        301 2010-04-05 14:40:12+00:00        15.009934  \n",
       "4         11 2016-07-13 21:01:21+00:00       335.000000  "
      ]
     },
     "execution_count": 44,
     "metadata": {},
     "output_type": "execute_result"
    }
   ],
   "source": [
    "users_df['leader_strength'] = users_df['followers'] / (1 + users_df['following'])\n",
    "users_df.head()"
   ]
  },
  {
   "cell_type": "code",
   "execution_count": 45,
   "metadata": {},
   "outputs": [
    {
     "data": {
      "text/html": [
       "<div>\n",
       "<style scoped>\n",
       "    .dataframe tbody tr th:only-of-type {\n",
       "        vertical-align: middle;\n",
       "    }\n",
       "\n",
       "    .dataframe tbody tr th {\n",
       "        vertical-align: top;\n",
       "    }\n",
       "\n",
       "    .dataframe thead th {\n",
       "        text-align: right;\n",
       "    }\n",
       "</style>\n",
       "<table border=\"1\" class=\"dataframe\">\n",
       "  <thead>\n",
       "    <tr style=\"text-align: right;\">\n",
       "      <th></th>\n",
       "      <th>login</th>\n",
       "      <th>leader_strength</th>\n",
       "    </tr>\n",
       "  </thead>\n",
       "  <tbody>\n",
       "    <tr>\n",
       "      <th>0</th>\n",
       "      <td>aneagoie</td>\n",
       "      <td>5134.0</td>\n",
       "    </tr>\n",
       "    <tr>\n",
       "      <th>6</th>\n",
       "      <td>nayuki</td>\n",
       "      <td>3541.0</td>\n",
       "    </tr>\n",
       "    <tr>\n",
       "      <th>7</th>\n",
       "      <td>GrapheneOS</td>\n",
       "      <td>3494.0</td>\n",
       "    </tr>\n",
       "    <tr>\n",
       "      <th>11</th>\n",
       "      <td>hlissner</td>\n",
       "      <td>2418.0</td>\n",
       "    </tr>\n",
       "    <tr>\n",
       "      <th>15</th>\n",
       "      <td>rspivak</td>\n",
       "      <td>2178.0</td>\n",
       "    </tr>\n",
       "  </tbody>\n",
       "</table>\n",
       "</div>"
      ],
      "text/plain": [
       "         login  leader_strength\n",
       "0     aneagoie           5134.0\n",
       "6       nayuki           3541.0\n",
       "7   GrapheneOS           3494.0\n",
       "11    hlissner           2418.0\n",
       "15     rspivak           2178.0"
      ]
     },
     "execution_count": 45,
     "metadata": {},
     "output_type": "execute_result"
    }
   ],
   "source": [
    "users_df.nlargest(5, 'leader_strength')[['login', 'leader_strength']]"
   ]
  },
  {
   "cell_type": "code",
   "execution_count": 46,
   "metadata": {},
   "outputs": [
    {
     "data": {
      "text/plain": [
       "'aneagoie,nayuki,GrapheneOS,hlissner,rspivak'"
      ]
     },
     "execution_count": 46,
     "metadata": {},
     "output_type": "execute_result"
    }
   ],
   "source": [
    "','.join(users_df.nlargest(5, 'leader_strength')['login'].to_list())"
   ]
  },
  {
   "cell_type": "markdown",
   "metadata": {},
   "source": [
    "Q9. What is the correlation between the number of followers and the number of public repositories among users in Toronto?"
   ]
  },
  {
   "cell_type": "code",
   "execution_count": 47,
   "metadata": {},
   "outputs": [
    {
     "data": {
      "text/plain": [
       "np.float64(0.055)"
      ]
     },
     "execution_count": 47,
     "metadata": {},
     "output_type": "execute_result"
    }
   ],
   "source": [
    "users_df['followers'].corr(users_df['public_repos']).round(3)"
   ]
  },
  {
   "cell_type": "markdown",
   "metadata": {},
   "source": [
    "Q10. Does creating more repos help users get more followers? Using regression, estimate how many additional followers a user gets per additional public repository."
   ]
  },
  {
   "cell_type": "code",
   "execution_count": 48,
   "metadata": {},
   "outputs": [
    {
     "data": {
      "text/plain": [
       "public_repos    0\n",
       "followers       0\n",
       "dtype: int64"
      ]
     },
     "execution_count": 48,
     "metadata": {},
     "output_type": "execute_result"
    }
   ],
   "source": [
    "users_df[['public_repos', 'followers']].isna().sum()"
   ]
  },
  {
   "cell_type": "code",
   "execution_count": 49,
   "metadata": {},
   "outputs": [
    {
     "data": {
      "text/plain": [
       "np.float64(0.25)"
      ]
     },
     "execution_count": 49,
     "metadata": {},
     "output_type": "execute_result"
    }
   ],
   "source": [
    "linregress(users_df['public_repos'], users_df['followers']).slope.round(3)"
   ]
  },
  {
   "cell_type": "markdown",
   "metadata": {},
   "source": [
    "Q11. Do people typically enable projects and wikis together? What is the correlation between a repo having projects enabled and having wiki enabled?"
   ]
  },
  {
   "cell_type": "code",
   "execution_count": 50,
   "metadata": {},
   "outputs": [
    {
     "data": {
      "text/html": [
       "<div>\n",
       "<style scoped>\n",
       "    .dataframe tbody tr th:only-of-type {\n",
       "        vertical-align: middle;\n",
       "    }\n",
       "\n",
       "    .dataframe tbody tr th {\n",
       "        vertical-align: top;\n",
       "    }\n",
       "\n",
       "    .dataframe thead th {\n",
       "        text-align: right;\n",
       "    }\n",
       "</style>\n",
       "<table border=\"1\" class=\"dataframe\">\n",
       "  <thead>\n",
       "    <tr style=\"text-align: right;\">\n",
       "      <th></th>\n",
       "      <th>has_projects</th>\n",
       "      <th>has_wiki</th>\n",
       "    </tr>\n",
       "  </thead>\n",
       "  <tbody>\n",
       "    <tr>\n",
       "      <th>has_projects</th>\n",
       "      <td>1.000</td>\n",
       "      <td>0.372</td>\n",
       "    </tr>\n",
       "    <tr>\n",
       "      <th>has_wiki</th>\n",
       "      <td>0.372</td>\n",
       "      <td>1.000</td>\n",
       "    </tr>\n",
       "  </tbody>\n",
       "</table>\n",
       "</div>"
      ],
      "text/plain": [
       "              has_projects  has_wiki\n",
       "has_projects         1.000     0.372\n",
       "has_wiki             0.372     1.000"
      ]
     },
     "execution_count": 50,
     "metadata": {},
     "output_type": "execute_result"
    }
   ],
   "source": [
    "repos_df[['has_projects', 'has_wiki']].corr().round(3)"
   ]
  },
  {
   "cell_type": "markdown",
   "metadata": {},
   "source": [
    "Q12. Do hireable users follow more people than those who are not hireable?"
   ]
  },
  {
   "cell_type": "code",
   "execution_count": 51,
   "metadata": {},
   "outputs": [
    {
     "data": {
      "text/plain": [
       "hireable\n",
       "None    456\n",
       "True    224\n",
       "Name: count, dtype: int64"
      ]
     },
     "execution_count": 51,
     "metadata": {},
     "output_type": "execute_result"
    }
   ],
   "source": [
    "users_df['hireable'].value_counts(dropna=False)"
   ]
  },
  {
   "cell_type": "code",
   "execution_count": 52,
   "metadata": {},
   "outputs": [
    {
     "data": {
      "text/plain": [
       "np.float64(112.78125)"
      ]
     },
     "execution_count": 52,
     "metadata": {},
     "output_type": "execute_result"
    }
   ],
   "source": [
    "users_df[users_df['hireable'].notnull()]['following'].mean()"
   ]
  },
  {
   "cell_type": "code",
   "execution_count": 53,
   "metadata": {},
   "outputs": [
    {
     "data": {
      "text/plain": [
       "np.float64(125.64254385964912)"
      ]
     },
     "execution_count": 53,
     "metadata": {},
     "output_type": "execute_result"
    }
   ],
   "source": [
    "users_df[users_df['hireable'].isnull()]['following'].mean()"
   ]
  },
  {
   "cell_type": "code",
   "execution_count": 54,
   "metadata": {},
   "outputs": [
    {
     "data": {
      "text/plain": [
       "np.float64(-12.861)"
      ]
     },
     "execution_count": 54,
     "metadata": {},
     "output_type": "execute_result"
    }
   ],
   "source": [
    "(users_df[users_df['hireable'].notnull()]['following'].mean() - users_df[users_df['hireable'].isnull()]['following'].mean()).round(3)"
   ]
  },
  {
   "cell_type": "markdown",
   "metadata": {},
   "source": [
    "Q13. Some developers write long bios. Does that help them get more followers? What's the correlation of the length of their bio (in Unicode characters) with followers? (Ignore people without bios)"
   ]
  },
  {
   "cell_type": "code",
   "execution_count": 55,
   "metadata": {},
   "outputs": [],
   "source": [
    "users_with_bio = users_df.loc[users_df['bio'].notnull(), :].copy()\n",
    "users_with_bio['bio_length'] = users_with_bio['bio'].str.len()"
   ]
  },
  {
   "cell_type": "code",
   "execution_count": 56,
   "metadata": {},
   "outputs": [
    {
     "data": {
      "text/plain": [
       "np.float64(1.416)"
      ]
     },
     "execution_count": 56,
     "metadata": {},
     "output_type": "execute_result"
    }
   ],
   "source": [
    "linregress(users_with_bio['bio_length'], users_with_bio['followers']).slope.round(3)"
   ]
  },
  {
   "cell_type": "markdown",
   "metadata": {},
   "source": [
    "Q14. Who created the most repositories on weekends (UTC)? List the top 5 users' login in order, comma-separated"
   ]
  },
  {
   "cell_type": "code",
   "execution_count": 57,
   "metadata": {},
   "outputs": [
    {
     "data": {
      "text/plain": [
       "created_at\n",
       "0    8046\n",
       "1    8730\n",
       "2    8839\n",
       "3    8460\n",
       "4    8142\n",
       "5    6326\n",
       "6    6332\n",
       "Name: count, dtype: int64"
      ]
     },
     "execution_count": 57,
     "metadata": {},
     "output_type": "execute_result"
    }
   ],
   "source": [
    "repos_df['created_at'].dt.weekday.value_counts().sort_index()"
   ]
  },
  {
   "cell_type": "code",
   "execution_count": 58,
   "metadata": {},
   "outputs": [
    {
     "data": {
      "text/plain": [
       "login\n",
       "andyw8             180\n",
       "QuinntyneBrown     130\n",
       "invokethreatguy    128\n",
       "rgrinberg          122\n",
       "Devang-25          121\n",
       "dtype: int64"
      ]
     },
     "execution_count": 58,
     "metadata": {},
     "output_type": "execute_result"
    }
   ],
   "source": [
    "repos_df[repos_df['created_at'].dt.weekday >= 5].groupby('login').size().sort_values(ascending=False)[:5]"
   ]
  },
  {
   "cell_type": "code",
   "execution_count": 59,
   "metadata": {},
   "outputs": [
    {
     "data": {
      "text/plain": [
       "'andyw8,QuinntyneBrown,invokethreatguy,rgrinberg,Devang-25'"
      ]
     },
     "execution_count": 59,
     "metadata": {},
     "output_type": "execute_result"
    }
   ],
   "source": [
    "','.join(repos_df[repos_df['created_at'].dt.weekday >= 5].groupby('login').size().sort_values(ascending=False)[:5].index.to_list())"
   ]
  },
  {
   "cell_type": "markdown",
   "metadata": {},
   "source": [
    "Q15. Do people who are hireable share their email addresses more often?\n",
    "\n",
    "[fraction of users with email when hireable=true] minus [fraction of users with email for the rest]"
   ]
  },
  {
   "cell_type": "code",
   "execution_count": 60,
   "metadata": {},
   "outputs": [
    {
     "data": {
      "text/plain": [
       "(139, 12)"
      ]
     },
     "execution_count": 60,
     "metadata": {},
     "output_type": "execute_result"
    }
   ],
   "source": [
    "users_df[(users_df['hireable'].notnull()) & (users_df['email'].notnull())].shape"
   ]
  },
  {
   "cell_type": "code",
   "execution_count": 61,
   "metadata": {},
   "outputs": [
    {
     "data": {
      "text/plain": [
       "(363, 12)"
      ]
     },
     "execution_count": 61,
     "metadata": {},
     "output_type": "execute_result"
    }
   ],
   "source": [
    "users_df[(users_df['email'].notnull())].shape"
   ]
  },
  {
   "cell_type": "code",
   "execution_count": 62,
   "metadata": {},
   "outputs": [
    {
     "data": {
      "text/plain": [
       "-0.329"
      ]
     },
     "execution_count": 62,
     "metadata": {},
     "output_type": "execute_result"
    }
   ],
   "source": [
    "round((users_df[(users_df['hireable'].notnull()) & (users_df['email'].notnull())].shape[0] / users_df.shape[0]) - (users_df[(users_df['email'].notnull())].shape[0] / users_df.shape[0]), 3)"
   ]
  },
  {
   "cell_type": "markdown",
   "metadata": {},
   "source": [
    "Q16. Let's assume that the last word in a user's name is their surname (ignore missing names, trim and split by whitespace.) What's the most common surname? (If there's a tie, list them all, comma-separated, alphabetically)"
   ]
  },
  {
   "cell_type": "code",
   "execution_count": 63,
   "metadata": {},
   "outputs": [
    {
     "data": {
      "text/plain": [
       "name\n",
       "Ahmed    4\n",
       "Smith    3\n",
       "Brown    3\n",
       "Chen     3\n",
       "Kumar    3\n",
       "Name: count, dtype: int64"
      ]
     },
     "execution_count": 63,
     "metadata": {},
     "output_type": "execute_result"
    }
   ],
   "source": [
    "users_df['name'].str.strip().str.split().str[-1].value_counts()[:5]"
   ]
  },
  {
   "cell_type": "code",
   "execution_count": 64,
   "metadata": {},
   "outputs": [
    {
     "data": {
      "text/plain": [
       "'Ahmed'"
      ]
     },
     "execution_count": 64,
     "metadata": {},
     "output_type": "execute_result"
    }
   ],
   "source": [
    "users_df['name'].str.strip().str.split().str[-1].value_counts().index[0]"
   ]
  }
 ],
 "metadata": {
  "kernelspec": {
   "display_name": ".venv",
   "language": "python",
   "name": "python3"
  },
  "language_info": {
   "codemirror_mode": {
    "name": "ipython",
    "version": 3
   },
   "file_extension": ".py",
   "mimetype": "text/x-python",
   "name": "python",
   "nbconvert_exporter": "python",
   "pygments_lexer": "ipython3",
   "version": "3.10.12"
  }
 },
 "nbformat": 4,
 "nbformat_minor": 2
}
